{
 "cells": [
  {
   "cell_type": "code",
   "execution_count": 2,
   "metadata": {},
   "outputs": [],
   "source": [
    "import requests\n",
    "from pyquery import PyQuery as pq"
   ]
  },
  {
   "cell_type": "code",
   "execution_count": 3,
   "metadata": {},
   "outputs": [],
   "source": [
    "cookies = {\"over18\":\"1\"}\n",
    "res = requests.get(\"https://www.ptt.cc/bbs/Gossiping/index.html\", cookies=cookies)\n",
    "mainPageDoc = pq(res.text)"
   ]
  },
  {
   "cell_type": "code",
   "execution_count": null,
   "metadata": {},
   "outputs": [
    {
     "name": "stdout",
     "output_type": "stream",
     "text": [
      "[新聞] 南韓新天地教主李萬熙「篩檢結果」出爐！ ihcc\n",
      "Re: [爆卦] Pete Buttigieg宣布退選 radiohead56\n",
      "[問卦] 男友喜歡口爆該怎麼辦？ ijk77692\n",
      "[問卦] 韓國人跟日本人 哪個民族比較熱血? Luismth\n",
      "[新聞] 武漢病毒 英國撤離部分位伊朗大使館員 justice00s\n",
      "[問卦] 帶病上班是對同事最大的報復嗎？ pujipuji\n",
      "[問卦] 現在還出國玩是不是很機車? cytotoxic\n",
      "[問卦] 為什麼物流業者不提供口罩給員工? KouKouMeow\n",
      "[新聞] 中國人「依親探親」可享健保? 陳柏惟籲廢 sgzt\n",
      "[新聞] 腹瀉被訛傳感染「武漢肺炎」 柯文哲嗆： shinmoner\n",
      "[問卦] 美帝產能全開一天會有多少口罩? hucgly\n",
      "[問卦] 有沒有撤僑不回來的八卦? mimi1020b\n",
      "[問卦] 周瑜是不是過譽了 weihigh\n",
      "[問卦] 日本是不是真的不在乎疫情？ stuj9019\n",
      "[問卦] 牙刷消毒架的八卦 hydran5566\n",
      "[問卦] 為什麼沒有硬派寫實的軍事體驗營 catrush\n",
      "[問卦] 日本疫情還能蓋牌多久？ JOKIC\n",
      "Re: [問卦] 被水桶一年半是什麼感覺？ y800122155\n",
      "[新聞] 美國第2例死亡 紐約首例確診 加拿大累計2 Hateson\n",
      "[問卦] 開學在那邊測體溫是不是測心安的 letitflame\n",
      "[公告] 武漢肺炎討論專區&二月份置底閒聊文 Bignana\n",
      "[徵求] 行車記錄器 西濱100.4K苗栗後龍南下路段 leel20\n",
      "[公告] 八卦板板規(2019.08.21) arsonlolita\n",
      "[徵求] 109/2/27行車紀錄器 南港環東大道 ciphercindy\n",
      "[問卦] 最近閒閒的推薦學什麼? qazzxc12351\n",
      "[問卦] 台灣的老大哥是中國? chopinmozart\n",
      "Re: [新聞] 新冠肺炎疫情嚴峻 安倍晉三鬆口：考慮宣 HatsuneMiku\n",
      "Re: [新聞] 預言「戰鬥機時代已經結束！」　馬斯克 extemjin\n",
      "[新聞] 夜店殺警案判12年落跑 騎車違規攔檢被抓 zxxl\n",
      "[問卦] 中國肺炎還能蓋牌多久? markban\n",
      "[問卦] 老師上課在臺上開咳 怎麼辦 alecklu\n",
      "[新聞] 一線醫生過勞死 河南寶豐24天無新增病例？ sakaba\n",
      "[問卦] 女兒愛吃肉 棒棒的嗎 dododada\n",
      "[新聞] 宋慧喬、IU等自米蘭時裝週返韓 恐陷感染 eeth\n",
      "[問卦] 被水桶一年半是什麼感覺？ YESGOTO\n",
      "[問卦] 有沒有地底人不幫助地球人殺毒的八卦? mimi1020b\n",
      "[問卦] 歐洲人會希望希特勒回來拯救他們嗎? justice00s\n",
      "[問卦] 有女友還自己打手槍 huisan11006\n",
      "[問卦] 有沒有推了一車，錢不夠，丟著就走的八卦 sunstrider\n",
      "[問卦] 武漢肺炎的歷史地位 超越SARS了沒? mnhyuiop\n",
      "Re: [問卦] 有女友還自己打手槍 VdustR\n",
      "[問卦] 24/30補幀到60fps 484只有動漫宅才會興奮? syearth\n",
      "[新聞] 清大原子爐改建醫療用途 造福病患 EbinaHina\n",
      "Re: [問卦] 有沒有日本商人小聰明的八卦? HatsuneMiku\n",
      "[問卦] 東南亞移工及新住民越來越多？ e8151848\n",
      "[問卦] 我英文不好，這是說他媽玩4P？ mesubutaMYS\n",
      "Re: [問卦] 能不能在PTT反宣傳民主給中國人？ icrose\n",
      "[問卦] 請問我該讓孩子正常上幼稚園嗎？ lusan26\n",
      "[問卦] 日本人來台灣的大學學中文被歧視了 smd1201\n",
      "Re: [問卦] 歪國人會歧視reddit、5ch使用者嘛？ FlutteRage\n",
      "[新聞] 如何看「罷燕」？資深韓粉評估後竟痛罵15 Timekeeper\n",
      "Re: [新聞] 館長不滿余天為吳宗憲切割「以後誰敢挺? kobitos\n",
      "Re: [問卦] 諸葛亮做過哪些骯髒事 keyesleo\n",
      "[問卦] 拿鴕鳥骨做球棒有搞頭嗎？ a0921387223\n",
      "[問卦] 學妹今天看起來很累？ ccugoo\n",
      "[新聞] 不懼死亡威脅！大支英文新歌揭中共隱匿 goldenhill\n",
      "[問卦] 全境封鎖2這時候出資料片+特價80是偶然? TAMASABUROU\n",
      "[問卦] 等等要costo有什麼必買的？？ d995511\n",
      "[問卦] 如果疫情波及動畫產業 aertina\n",
      "Re: [新聞] 柯P照常上班！網謠傳染新冠肺炎 北市府 F5\n",
      "[問卦] 米粉湯的精髓是什麼？(づ・ω・)づ XArcherX\n",
      "Re: [新聞] 脫口院內感染地發酵　陳時中籲繼續忽略 gg7965977\n",
      "[新聞] 北市推防疫旅館 王浩宇又有意見了... skizard\n"
     ]
    }
   ],
   "source": [
    "for i in range(10):\n",
    "  for eachTitle in mainPageDoc(\".bbs-screen > div > div.title > a\").items():\n",
    "    print(eachTitle.text(), eachTitle.parent().siblings(\".meta > .author\").text())\n",
    "\n",
    "  mainPageDoc.make_links_absolute(base_url=res.url)\n",
    "  res = requests.get(mainPageDoc(\"#action-bar-container > div > div.btn-group.btn-group-paging \\\n",
    "  > a:nth-child(2)\").attr(\"href\"), cookies=cookies)\n",
    "  mainPageDoc = pq(res.text)"
   ]
  },
  {
   "cell_type": "code",
   "execution_count": 4,
   "metadata": {},
   "outputs": [],
   "source": []
  },
  {
   "cell_type": "code",
   "execution_count": null,
   "metadata": {},
   "outputs": [],
   "source": []
  }
 ],
 "metadata": {
  "kernelspec": {
   "display_name": "Python 3",
   "language": "python",
   "name": "python3"
  },
  "language_info": {
   "codemirror_mode": {
    "name": "ipython",
    "version": 3
   },
   "file_extension": ".py",
   "mimetype": "text/x-python",
   "name": "python",
   "nbconvert_exporter": "python",
   "pygments_lexer": "ipython3",
   "version": "3.7.3"
  }
 },
 "nbformat": 4,
 "nbformat_minor": 2
}
