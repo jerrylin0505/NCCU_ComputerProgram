{
 "nbformat": 4,
 "nbformat_minor": 2,
 "metadata": {
  "language_info": {
   "name": "python",
   "codemirror_mode": {
    "name": "ipython",
    "version": 3
   },
   "version": "3.6.10-final"
  },
  "orig_nbformat": 2,
  "file_extension": ".py",
  "mimetype": "text/x-python",
  "name": "python",
  "npconvert_exporter": "python",
  "pygments_lexer": "ipython3",
  "version": 3,
  "kernelspec": {
   "name": "python3",
   "display_name": "Python 3"
  }
 },
 "cells": [
  {
   "cell_type": "code",
   "execution_count": 1,
   "metadata": {},
   "outputs": [],
   "source": [
    "%matplotlib inline\n",
    "\n",
    "import numpy as np\n",
    "import matplotlib.pyplot as plt\n",
    "import tensorflow as tf\n",
    "from tensorflow.keras.utils import to_categorical\n",
    "from tensorflow.keras.models import Sequential\n",
    "from tensorflow.keras.layers import Conv2D, MaxPooling2D, Dense, Flatten\n",
    "from tensorflow.keras.optimizers import SGD"
   ]
  },
  {
   "cell_type": "markdown",
   "metadata": {},
   "source": [
    "### 讀入資料庫"
   ]
  },
  {
   "cell_type": "code",
   "execution_count": 2,
   "metadata": {},
   "outputs": [],
   "source": [
    "from tensorflow.keras.datasets import fashion_mnist"
   ]
  },
  {
   "cell_type": "code",
   "execution_count": 3,
   "metadata": {},
   "outputs": [],
   "source": [
    "(x_train, y_train), (x_test, y_test) = fashion_mnist.load_data()"
   ]
  },
  {
   "cell_type": "code",
   "execution_count": 14,
   "metadata": {},
   "outputs": [
    {
     "output_type": "execute_result",
     "data": {
      "text/plain": "(60000, 10)"
     },
     "metadata": {},
     "execution_count": 14
    }
   ],
   "source": [
    "class_names = ['T-shirt/top', 'Trouser', 'Pullover', 'Dress', 'Coat',\n",
    "               'Sandal', 'Shirt', 'Sneaker', 'Bag', 'Ankle boot']\n",
    "\n",
    "y_train.shape"
   ]
  },
  {
   "cell_type": "markdown",
   "metadata": {},
   "source": [
    "### 平常CNN辨識RGB三個channel但我們現在只有黑白一個Channel, 所以(28,28) 改成 (28,28,1)"
   ]
  },
  {
   "cell_type": "code",
   "execution_count": 5,
   "metadata": {},
   "outputs": [],
   "source": [
    "x_train = x_train.reshape(60000,28,28,1)/255\n",
    "x_test = x_test.reshape(10000,28,28,1)/255"
   ]
  },
  {
   "cell_type": "code",
   "execution_count": 6,
   "metadata": {},
   "outputs": [],
   "source": [
    "y_train = to_categorical(y_train, 10)\n",
    "y_test = to_categorical(y_test, 10)"
   ]
  },
  {
   "cell_type": "markdown",
   "metadata": {},
   "source": [
    "### Step1打造函數學習機(CNN)"
   ]
  },
  {
   "cell_type": "code",
   "execution_count": 7,
   "metadata": {},
   "outputs": [],
   "source": [
    "#Build LetNet model with Keras\n",
    "def LetNet(width, height, depth, classes):\n",
    "    # initialize the model\n",
    "    model = Sequential()\n",
    "\n",
    "    # first layer, convolution and pooling\n",
    "    model.add(Conv2D(input_shape=(width, height, depth), filters=16, kernel_size=(5,5), padding=\"same\", activation='relu'))\n",
    "    model.add(MaxPooling2D(pool_size=(2,2)))\n",
    "\n",
    "    # second layer, convolution and pooling\n",
    "    model.add(Conv2D(filters=32, kernel_size=(5,5), padding=\"same\", activation='relu'))\n",
    "    model.add(MaxPooling2D(pool_size=(2,2)))\n",
    "\n",
    "    # Third layer, convolution and pooling\n",
    "    model.add(Conv2D(filters=64, kernel_size=(5,5), padding=\"same\", activation='relu'))\n",
    "    model.add(MaxPooling2D(pool_size=(2,2)))\n",
    "\n",
    "    # Fully connection layer x2\n",
    "    model.add(Flatten())\n",
    "    model.add(Dense(128,activation = 'relu'))\n",
    "    model.add(Dense(64,activation = 'relu'))\n",
    "\n",
    "    # softmax classifier\n",
    "    model.add(Dense((classes), activation=\"softmax\"))\n",
    "\n",
    "    return model"
   ]
  },
  {
   "cell_type": "code",
   "execution_count": 8,
   "metadata": {},
   "outputs": [
    {
     "output_type": "stream",
     "name": "stdout",
     "text": "Model: \"sequential\"\n_________________________________________________________________\nLayer (type)                 Output Shape              Param #   \n=================================================================\nconv2d (Conv2D)              (None, 28, 28, 16)        416       \n_________________________________________________________________\nmax_pooling2d (MaxPooling2D) (None, 14, 14, 16)        0         \n_________________________________________________________________\nconv2d_1 (Conv2D)            (None, 14, 14, 32)        12832     \n_________________________________________________________________\nmax_pooling2d_1 (MaxPooling2 (None, 7, 7, 32)          0         \n_________________________________________________________________\nconv2d_2 (Conv2D)            (None, 7, 7, 64)          51264     \n_________________________________________________________________\nmax_pooling2d_2 (MaxPooling2 (None, 3, 3, 64)          0         \n_________________________________________________________________\nflatten (Flatten)            (None, 576)               0         \n_________________________________________________________________\ndense (Dense)                (None, 128)               73856     \n_________________________________________________________________\ndense_1 (Dense)              (None, 64)                8256      \n_________________________________________________________________\ndense_2 (Dense)              (None, 10)                650       \n=================================================================\nTotal params: 147,274\nTrainable params: 147,274\nNon-trainable params: 0\n_________________________________________________________________\n"
    }
   ],
   "source": [
    "model = LetNet(28,28,1,10)\n",
    "model.summary()\n",
    "\n",
    "#第一層  [3*3(權重)+1(bias)] * 16 = 160 \n",
    "#第二層  [16*3*3(權重)+1(bias)] * 32 = 4640\n",
    "#第三層 [32*3*3(權重)+1(bias)]* 64 = 18496\n",
    ""
   ]
  },
  {
   "cell_type": "code",
   "execution_count": 9,
   "metadata": {},
   "outputs": [],
   "source": [
    "model.compile(loss=\"categorical_crossentropy\", optimizer=SGD(lr=0.005), metrics=[\"accuracy\"]) #losst function嘗試用分類熵"
   ]
  },
  {
   "cell_type": "markdown",
   "metadata": {},
   "source": [
    "### Step 2. Fit"
   ]
  },
  {
   "cell_type": "code",
   "execution_count": 10,
   "metadata": {},
   "outputs": [
    {
     "output_type": "stream",
     "name": "stdout",
     "text": "Train on 60000 samples\nEpoch 1/16\n60000/60000 [==============================] - 146s 2ms/sample - loss: 1.6113 - accuracy: 0.4624\nEpoch 2/16\n60000/60000 [==============================] - 144s 2ms/sample - loss: 0.8651 - accuracy: 0.6729\nEpoch 3/16\n60000/60000 [==============================] - 146s 2ms/sample - loss: 0.7446 - accuracy: 0.7200\nEpoch 4/16\n60000/60000 [==============================] - 144s 2ms/sample - loss: 0.6823 - accuracy: 0.7464\nEpoch 5/16\n60000/60000 [==============================] - 144s 2ms/sample - loss: 0.6367 - accuracy: 0.7653\nEpoch 6/16\n60000/60000 [==============================] - 144s 2ms/sample - loss: 0.5987 - accuracy: 0.7802\nEpoch 7/16\n60000/60000 [==============================] - 144s 2ms/sample - loss: 0.5700 - accuracy: 0.7927\nEpoch 8/16\n60000/60000 [==============================] - 144s 2ms/sample - loss: 0.5454 - accuracy: 0.8002\nEpoch 9/16\n60000/60000 [==============================] - 144s 2ms/sample - loss: 0.5217 - accuracy: 0.8119\nEpoch 10/16\n60000/60000 [==============================] - 144s 2ms/sample - loss: 0.5011 - accuracy: 0.8184\nEpoch 11/16\n60000/60000 [==============================] - 144s 2ms/sample - loss: 0.4847 - accuracy: 0.8239\nEpoch 12/16\n60000/60000 [==============================] - 144s 2ms/sample - loss: 0.4705 - accuracy: 0.8319\nEpoch 13/16\n60000/60000 [==============================] - 147s 2ms/sample - loss: 0.4555 - accuracy: 0.8364\nEpoch 14/16\n60000/60000 [==============================] - 147s 2ms/sample - loss: 0.4425 - accuracy: 0.8420\nEpoch 15/16\n60000/60000 [==============================] - 146s 2ms/sample - loss: 0.4309 - accuracy: 0.8447\nEpoch 16/16\n60000/60000 [==============================] - 145s 2ms/sample - loss: 0.4205 - accuracy: 0.8479\n"
    },
    {
     "output_type": "execute_result",
     "data": {
      "text/plain": "<tensorflow.python.keras.callbacks.History at 0x251f7b00848>"
     },
     "metadata": {},
     "execution_count": 10
    }
   ],
   "source": [
    "model.fit(x_train, y_train, batch_size=128, epochs=16)"
   ]
  },
  {
   "cell_type": "markdown",
   "metadata": {},
   "source": [
    "### Step 3. 預測"
   ]
  },
  {
   "cell_type": "code",
   "execution_count": 11,
   "metadata": {},
   "outputs": [],
   "source": [
    "result = model.predict_classes(x_test)"
   ]
  },
  {
   "cell_type": "code",
   "execution_count": 15,
   "metadata": {},
   "outputs": [],
   "source": [
    "def predict(n):\n",
    "    print('CNN預測是:', class_names[result[n]])\n",
    "    x = x_test[n].reshape(28,28)\n",
    "    plt.imshow(x, cmap=\"Greys\")"
   ]
  },
  {
   "cell_type": "code",
   "execution_count": 18,
   "metadata": {},
   "outputs": [
    {
     "output_type": "stream",
     "name": "stdout",
     "text": "CNN預測是: Shirt\n"
    },
    {
     "output_type": "display_data",
     "data": {
      "text/plain": "<Figure size 432x288 with 1 Axes>",
      "image/svg+xml": "<?xml version=\"1.0\" encoding=\"utf-8\" standalone=\"no\"?>\r\n<!DOCTYPE svg PUBLIC \"-//W3C//DTD SVG 1.1//EN\"\r\n  \"http://www.w3.org/Graphics/SVG/1.1/DTD/svg11.dtd\">\r\n<!-- Created with matplotlib (https://matplotlib.org/) -->\r\n<svg height=\"248.518125pt\" version=\"1.1\" viewBox=\"0 0 251.565 248.518125\" width=\"251.565pt\" xmlns=\"http://www.w3.org/2000/svg\" xmlns:xlink=\"http://www.w3.org/1999/xlink\">\r\n <defs>\r\n  <style type=\"text/css\">\r\n*{stroke-linecap:butt;stroke-linejoin:round;}\r\n  </style>\r\n </defs>\r\n <g id=\"figure_1\">\r\n  <g id=\"patch_1\">\r\n   <path d=\"M 0 248.518125 \r\nL 251.565 248.518125 \r\nL 251.565 0 \r\nL 0 0 \r\nz\r\n\" style=\"fill:none;\"/>\r\n  </g>\r\n  <g id=\"axes_1\">\r\n   <g id=\"patch_2\">\r\n    <path d=\"M 26.925 224.64 \r\nL 244.365 224.64 \r\nL 244.365 7.2 \r\nL 26.925 7.2 \r\nz\r\n\" style=\"fill:#ffffff;\"/>\r\n   </g>\r\n   <g clip-path=\"url(#p6b4736e235)\">\r\n    <image height=\"218\" id=\"imagefcb2dcb1e5\" transform=\"scale(1 -1)translate(0 -218)\" width=\"218\" x=\"26.925\" xlink:href=\"data:image/png;base64,\r\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\" y=\"-6.64\"/>\r\n   </g>\r\n   <g id=\"matplotlib.axis_1\">\r\n    <g id=\"xtick_1\">\r\n     <g id=\"line2d_1\">\r\n      <defs>\r\n       <path d=\"M 0 0 \r\nL 0 3.5 \r\n\" id=\"m33bc9a1df0\" style=\"stroke:#000000;stroke-width:0.8;\"/>\r\n      </defs>\r\n      <g>\r\n       <use style=\"stroke:#000000;stroke-width:0.8;\" x=\"30.807857\" xlink:href=\"#m33bc9a1df0\" y=\"224.64\"/>\r\n      </g>\r\n     </g>\r\n     <g id=\"text_1\">\r\n      <!-- 0 -->\r\n      <defs>\r\n       <path d=\"M 31.78125 66.40625 \r\nQ 24.171875 66.40625 20.328125 58.90625 \r\nQ 16.5 51.421875 16.5 36.375 \r\nQ 16.5 21.390625 20.328125 13.890625 \r\nQ 24.171875 6.390625 31.78125 6.390625 \r\nQ 39.453125 6.390625 43.28125 13.890625 \r\nQ 47.125 21.390625 47.125 36.375 \r\nQ 47.125 51.421875 43.28125 58.90625 \r\nQ 39.453125 66.40625 31.78125 66.40625 \r\nz\r\nM 31.78125 74.21875 \r\nQ 44.046875 74.21875 50.515625 64.515625 \r\nQ 56.984375 54.828125 56.984375 36.375 \r\nQ 56.984375 17.96875 50.515625 8.265625 \r\nQ 44.046875 -1.421875 31.78125 -1.421875 \r\nQ 19.53125 -1.421875 13.0625 8.265625 \r\nQ 6.59375 17.96875 6.59375 36.375 \r\nQ 6.59375 54.828125 13.0625 64.515625 \r\nQ 19.53125 74.21875 31.78125 74.21875 \r\nz\r\n\" id=\"DejaVuSans-48\"/>\r\n      </defs>\r\n      <g transform=\"translate(27.626607 239.238437)scale(0.1 -0.1)\">\r\n       <use xlink:href=\"#DejaVuSans-48\"/>\r\n      </g>\r\n     </g>\r\n    </g>\r\n    <g id=\"xtick_2\">\r\n     <g id=\"line2d_2\">\r\n      <g>\r\n       <use style=\"stroke:#000000;stroke-width:0.8;\" x=\"69.636429\" xlink:href=\"#m33bc9a1df0\" y=\"224.64\"/>\r\n      </g>\r\n     </g>\r\n     <g id=\"text_2\">\r\n      <!-- 5 -->\r\n      <defs>\r\n       <path d=\"M 10.796875 72.90625 \r\nL 49.515625 72.90625 \r\nL 49.515625 64.59375 \r\nL 19.828125 64.59375 \r\nL 19.828125 46.734375 \r\nQ 21.96875 47.46875 24.109375 47.828125 \r\nQ 26.265625 48.1875 28.421875 48.1875 \r\nQ 40.625 48.1875 47.75 41.5 \r\nQ 54.890625 34.8125 54.890625 23.390625 \r\nQ 54.890625 11.625 47.5625 5.09375 \r\nQ 40.234375 -1.421875 26.90625 -1.421875 \r\nQ 22.3125 -1.421875 17.546875 -0.640625 \r\nQ 12.796875 0.140625 7.71875 1.703125 \r\nL 7.71875 11.625 \r\nQ 12.109375 9.234375 16.796875 8.0625 \r\nQ 21.484375 6.890625 26.703125 6.890625 \r\nQ 35.15625 6.890625 40.078125 11.328125 \r\nQ 45.015625 15.765625 45.015625 23.390625 \r\nQ 45.015625 31 40.078125 35.4375 \r\nQ 35.15625 39.890625 26.703125 39.890625 \r\nQ 22.75 39.890625 18.8125 39.015625 \r\nQ 14.890625 38.140625 10.796875 36.28125 \r\nz\r\n\" id=\"DejaVuSans-53\"/>\r\n      </defs>\r\n      <g transform=\"translate(66.455179 239.238437)scale(0.1 -0.1)\">\r\n       <use xlink:href=\"#DejaVuSans-53\"/>\r\n      </g>\r\n     </g>\r\n    </g>\r\n    <g id=\"xtick_3\">\r\n     <g id=\"line2d_3\">\r\n      <g>\r\n       <use style=\"stroke:#000000;stroke-width:0.8;\" x=\"108.465\" xlink:href=\"#m33bc9a1df0\" y=\"224.64\"/>\r\n      </g>\r\n     </g>\r\n     <g id=\"text_3\">\r\n      <!-- 10 -->\r\n      <defs>\r\n       <path d=\"M 12.40625 8.296875 \r\nL 28.515625 8.296875 \r\nL 28.515625 63.921875 \r\nL 10.984375 60.40625 \r\nL 10.984375 69.390625 \r\nL 28.421875 72.90625 \r\nL 38.28125 72.90625 \r\nL 38.28125 8.296875 \r\nL 54.390625 8.296875 \r\nL 54.390625 0 \r\nL 12.40625 0 \r\nz\r\n\" id=\"DejaVuSans-49\"/>\r\n      </defs>\r\n      <g transform=\"translate(102.1025 239.238437)scale(0.1 -0.1)\">\r\n       <use xlink:href=\"#DejaVuSans-49\"/>\r\n       <use x=\"63.623047\" xlink:href=\"#DejaVuSans-48\"/>\r\n      </g>\r\n     </g>\r\n    </g>\r\n    <g id=\"xtick_4\">\r\n     <g id=\"line2d_4\">\r\n      <g>\r\n       <use style=\"stroke:#000000;stroke-width:0.8;\" x=\"147.293571\" xlink:href=\"#m33bc9a1df0\" y=\"224.64\"/>\r\n      </g>\r\n     </g>\r\n     <g id=\"text_4\">\r\n      <!-- 15 -->\r\n      <g transform=\"translate(140.931071 239.238437)scale(0.1 -0.1)\">\r\n       <use xlink:href=\"#DejaVuSans-49\"/>\r\n       <use x=\"63.623047\" xlink:href=\"#DejaVuSans-53\"/>\r\n      </g>\r\n     </g>\r\n    </g>\r\n    <g id=\"xtick_5\">\r\n     <g id=\"line2d_5\">\r\n      <g>\r\n       <use style=\"stroke:#000000;stroke-width:0.8;\" x=\"186.122143\" xlink:href=\"#m33bc9a1df0\" y=\"224.64\"/>\r\n      </g>\r\n     </g>\r\n     <g id=\"text_5\">\r\n      <!-- 20 -->\r\n      <defs>\r\n       <path d=\"M 19.1875 8.296875 \r\nL 53.609375 8.296875 \r\nL 53.609375 0 \r\nL 7.328125 0 \r\nL 7.328125 8.296875 \r\nQ 12.9375 14.109375 22.625 23.890625 \r\nQ 32.328125 33.6875 34.8125 36.53125 \r\nQ 39.546875 41.84375 41.421875 45.53125 \r\nQ 43.3125 49.21875 43.3125 52.78125 \r\nQ 43.3125 58.59375 39.234375 62.25 \r\nQ 35.15625 65.921875 28.609375 65.921875 \r\nQ 23.96875 65.921875 18.8125 64.3125 \r\nQ 13.671875 62.703125 7.8125 59.421875 \r\nL 7.8125 69.390625 \r\nQ 13.765625 71.78125 18.9375 73 \r\nQ 24.125 74.21875 28.421875 74.21875 \r\nQ 39.75 74.21875 46.484375 68.546875 \r\nQ 53.21875 62.890625 53.21875 53.421875 \r\nQ 53.21875 48.921875 51.53125 44.890625 \r\nQ 49.859375 40.875 45.40625 35.40625 \r\nQ 44.1875 33.984375 37.640625 27.21875 \r\nQ 31.109375 20.453125 19.1875 8.296875 \r\nz\r\n\" id=\"DejaVuSans-50\"/>\r\n      </defs>\r\n      <g transform=\"translate(179.759643 239.238437)scale(0.1 -0.1)\">\r\n       <use xlink:href=\"#DejaVuSans-50\"/>\r\n       <use x=\"63.623047\" xlink:href=\"#DejaVuSans-48\"/>\r\n      </g>\r\n     </g>\r\n    </g>\r\n    <g id=\"xtick_6\">\r\n     <g id=\"line2d_6\">\r\n      <g>\r\n       <use style=\"stroke:#000000;stroke-width:0.8;\" x=\"224.950714\" xlink:href=\"#m33bc9a1df0\" y=\"224.64\"/>\r\n      </g>\r\n     </g>\r\n     <g id=\"text_6\">\r\n      <!-- 25 -->\r\n      <g transform=\"translate(218.588214 239.238437)scale(0.1 -0.1)\">\r\n       <use xlink:href=\"#DejaVuSans-50\"/>\r\n       <use x=\"63.623047\" xlink:href=\"#DejaVuSans-53\"/>\r\n      </g>\r\n     </g>\r\n    </g>\r\n   </g>\r\n   <g id=\"matplotlib.axis_2\">\r\n    <g id=\"ytick_1\">\r\n     <g id=\"line2d_7\">\r\n      <defs>\r\n       <path d=\"M 0 0 \r\nL -3.5 0 \r\n\" id=\"m69540de782\" style=\"stroke:#000000;stroke-width:0.8;\"/>\r\n      </defs>\r\n      <g>\r\n       <use style=\"stroke:#000000;stroke-width:0.8;\" x=\"26.925\" xlink:href=\"#m69540de782\" y=\"11.082857\"/>\r\n      </g>\r\n     </g>\r\n     <g id=\"text_7\">\r\n      <!-- 0 -->\r\n      <g transform=\"translate(13.5625 14.882076)scale(0.1 -0.1)\">\r\n       <use xlink:href=\"#DejaVuSans-48\"/>\r\n      </g>\r\n     </g>\r\n    </g>\r\n    <g id=\"ytick_2\">\r\n     <g id=\"line2d_8\">\r\n      <g>\r\n       <use style=\"stroke:#000000;stroke-width:0.8;\" x=\"26.925\" xlink:href=\"#m69540de782\" y=\"49.911429\"/>\r\n      </g>\r\n     </g>\r\n     <g id=\"text_8\">\r\n      <!-- 5 -->\r\n      <g transform=\"translate(13.5625 53.710647)scale(0.1 -0.1)\">\r\n       <use xlink:href=\"#DejaVuSans-53\"/>\r\n      </g>\r\n     </g>\r\n    </g>\r\n    <g id=\"ytick_3\">\r\n     <g id=\"line2d_9\">\r\n      <g>\r\n       <use style=\"stroke:#000000;stroke-width:0.8;\" x=\"26.925\" xlink:href=\"#m69540de782\" y=\"88.74\"/>\r\n      </g>\r\n     </g>\r\n     <g id=\"text_9\">\r\n      <!-- 10 -->\r\n      <g transform=\"translate(7.2 92.539219)scale(0.1 -0.1)\">\r\n       <use xlink:href=\"#DejaVuSans-49\"/>\r\n       <use x=\"63.623047\" xlink:href=\"#DejaVuSans-48\"/>\r\n      </g>\r\n     </g>\r\n    </g>\r\n    <g id=\"ytick_4\">\r\n     <g id=\"line2d_10\">\r\n      <g>\r\n       <use style=\"stroke:#000000;stroke-width:0.8;\" x=\"26.925\" xlink:href=\"#m69540de782\" y=\"127.568571\"/>\r\n      </g>\r\n     </g>\r\n     <g id=\"text_10\">\r\n      <!-- 15 -->\r\n      <g transform=\"translate(7.2 131.36779)scale(0.1 -0.1)\">\r\n       <use xlink:href=\"#DejaVuSans-49\"/>\r\n       <use x=\"63.623047\" xlink:href=\"#DejaVuSans-53\"/>\r\n      </g>\r\n     </g>\r\n    </g>\r\n    <g id=\"ytick_5\">\r\n     <g id=\"line2d_11\">\r\n      <g>\r\n       <use style=\"stroke:#000000;stroke-width:0.8;\" x=\"26.925\" xlink:href=\"#m69540de782\" y=\"166.397143\"/>\r\n      </g>\r\n     </g>\r\n     <g id=\"text_11\">\r\n      <!-- 20 -->\r\n      <g transform=\"translate(7.2 170.196362)scale(0.1 -0.1)\">\r\n       <use xlink:href=\"#DejaVuSans-50\"/>\r\n       <use x=\"63.623047\" xlink:href=\"#DejaVuSans-48\"/>\r\n      </g>\r\n     </g>\r\n    </g>\r\n    <g id=\"ytick_6\">\r\n     <g id=\"line2d_12\">\r\n      <g>\r\n       <use style=\"stroke:#000000;stroke-width:0.8;\" x=\"26.925\" xlink:href=\"#m69540de782\" y=\"205.225714\"/>\r\n      </g>\r\n     </g>\r\n     <g id=\"text_12\">\r\n      <!-- 25 -->\r\n      <g transform=\"translate(7.2 209.024933)scale(0.1 -0.1)\">\r\n       <use xlink:href=\"#DejaVuSans-50\"/>\r\n       <use x=\"63.623047\" xlink:href=\"#DejaVuSans-53\"/>\r\n      </g>\r\n     </g>\r\n    </g>\r\n   </g>\r\n   <g id=\"patch_3\">\r\n    <path d=\"M 26.925 224.64 \r\nL 26.925 7.2 \r\n\" style=\"fill:none;stroke:#000000;stroke-linecap:square;stroke-linejoin:miter;stroke-width:0.8;\"/>\r\n   </g>\r\n   <g id=\"patch_4\">\r\n    <path d=\"M 244.365 224.64 \r\nL 244.365 7.2 \r\n\" style=\"fill:none;stroke:#000000;stroke-linecap:square;stroke-linejoin:miter;stroke-width:0.8;\"/>\r\n   </g>\r\n   <g id=\"patch_5\">\r\n    <path d=\"M 26.925 224.64 \r\nL 244.365 224.64 \r\n\" style=\"fill:none;stroke:#000000;stroke-linecap:square;stroke-linejoin:miter;stroke-width:0.8;\"/>\r\n   </g>\r\n   <g id=\"patch_6\">\r\n    <path d=\"M 26.925 7.2 \r\nL 244.365 7.2 \r\n\" style=\"fill:none;stroke:#000000;stroke-linecap:square;stroke-linejoin:miter;stroke-width:0.8;\"/>\r\n   </g>\r\n  </g>\r\n </g>\r\n <defs>\r\n  <clipPath id=\"p6b4736e235\">\r\n   <rect height=\"217.44\" width=\"217.44\" x=\"26.925\" y=\"7.2\"/>\r\n  </clipPath>\r\n </defs>\r\n</svg>\r\n",
      "image/png": "[encoded data removed]"
     },
     "metadata": {
      "needs_background": "light"
     }
    }
   ],
   "source": [
    "predict(101)"
   ]
  },
  {
   "cell_type": "code",
   "execution_count": 22,
   "metadata": {},
   "outputs": [],
   "source": [
    "from ipywidgets import interact_manual"
   ]
  },
  {
   "cell_type": "code",
   "execution_count": 24,
   "metadata": {},
   "outputs": [
    {
     "output_type": "display_data",
     "data": {
      "text/plain": "interactive(children=(IntSlider(value=4999, description='n', max=9999), Button(description='Run Interact', sty…",
      "application/vnd.jupyter.widget-view+json": {
       "version_major": 2,
       "version_minor": 0,
       "model_id": "a39b749f53f44ebea01a0abb63a2e9bd"
      }
     },
     "metadata": {}
    },
    {
     "output_type": "execute_result",
     "data": {
      "text/plain": "<function __main__.predict(n)>"
     },
     "metadata": {},
     "execution_count": 24
    }
   ],
   "source": [
    "interact_manual(predict, n=(0, 9999))"
   ]
  },
  {
   "cell_type": "code",
   "execution_count": 26,
   "metadata": {},
   "outputs": [
    {
     "output_type": "stream",
     "name": "stdout",
     "text": "10000/10000 [==============================] - 9s 945us/sample - loss: 0.4430 - accuracy: 0.8415\n"
    }
   ],
   "source": [
    "score = model.evaluate(x_test, y_test)"
   ]
  },
  {
   "cell_type": "code",
   "execution_count": 38,
   "metadata": {},
   "outputs": [
    {
     "output_type": "stream",
     "name": "stdout",
     "text": "測試資料正確率 =  84.15 %\n"
    }
   ],
   "source": [
    "loss, acc = score\n",
    "print(\"測試資料正確率 = \", round(acc*100,2), \"%\")"
   ]
  },
  {
   "cell_type": "markdown",
   "metadata": {},
   "source": [
    "### 保存訓練模型"
   ]
  },
  {
   "cell_type": "code",
   "execution_count": 40,
   "metadata": {},
   "outputs": [],
   "source": [
    "model.save(\"hw2_CNN.h5\")"
   ]
  },
  {
   "cell_type": "code",
   "execution_count": null,
   "metadata": {},
   "outputs": [],
   "source": []
  }
 ]
}