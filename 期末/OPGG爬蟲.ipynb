{
 "cells": [
  {
   "cell_type": "code",
   "execution_count": 1,
   "metadata": {},
   "outputs": [],
   "source": [
    "import requests\n",
    "from bs4 import BeautifulSoup\n",
    "import re\n",
    "import numpy as np\n",
    "import pandas as pd"
   ]
  },
  {
   "cell_type": "markdown",
   "metadata": {},
   "source": [
    "### 回傳Leaderboards上某頁數的全部召喚師ID(伺服器region =1:KR, =2:NA, =3:EUW, =4:EUNE)"
   ]
  },
  {
   "cell_type": "code",
   "execution_count": 2,
   "metadata": {},
   "outputs": [],
   "source": [
    "def get_ID(region:int, page:int)->list:\n",
    "    container = []\n",
    "    soup = BeautifulSoup(requests.get(f'https://{[\"www\", \"na\", \"euw\", \"eune\"][region]}.op.gg/ranking/ladder/page={str(page)}').text, 'html.parser')      \n",
    "    if page == 1:\n",
    "        container = [i.text for i in soup.find_all(\"a\", class_=\"ranking-highest__name\")]\n",
    "    return container + [i.text for i in soup.find_all(\"td\", class_=\"select_summoner ranking-table__cell ranking-table__cell--summoner\")]"
   ]
  },
  {
   "cell_type": "markdown",
   "metadata": {},
   "source": [
    "### 回傳某召喚師ID的最近二十場內有效牌位對戰英雄(左上,左野,左中,左下,左輔,右上,右野,右中,右下,右輔,1=左贏0=左輸)"
   ]
  },
  {
   "cell_type": "code",
   "execution_count": 3,
   "metadata": {},
   "outputs": [],
   "source": [
    "def get_match(region:int, summoner_id:str)->pd.DataFrame:\n",
    "    soup = BeautifulSoup(requests.get(f'https://{[\"www\", \"na\", \"euw\", \"eune\"][region]}.op.gg/summoner/userName={summoner_id.replace(\" \", \"+\")}').text, 'html.parser')\n",
    "    df = np.reshape(np.matrix([i.text for i in soup.find_all(\"div\", class_=\"Image16\")]), (-1, 10))\n",
    "    df = np.append(df, np.reshape(np.matrix([i.get_text(strip=True) for i in soup.select('div.GameSettingInfo > div.ChampionName')]), (-1, 1)), 1)\n",
    "    df = np.append(df, np.reshape(np.matrix([i.get_text(strip=True) for i in soup.find_all(\"div\", class_=\"GameType\")]), (-1, 1)), 1)\n",
    "    df = np.append(df, np.reshape(np.matrix([i.get_text(strip=True) for i in soup.find_all(\"div\", class_=\"GameResult\")]), (-1, 1)), 1)\n",
    "    df = pd.DataFrame(np.squeeze(np.asarray(df)))\n",
    "    df = df[~df[12].str.contains(\"Remake\") & df[11].str.contains(\"Ranked\")]\n",
    "    df['result'] = np.where((((df[0]==df[10])|(df[1]==df[10])|(df[2]==df[10])|(df[3]==df[10])|(df[4]==df[10]))&(df[12].str.contains(\"Victory\")))|\n",
    "                            (((df[5]==df[10])|(df[6]==df[10])|(df[7]==df[10])|(df[8]==df[10])|(df[9]==df[10]))&(df[12].str.contains(\"Defeat\"))), 1, 0)\n",
    "    df.drop(df.columns[[10, 11, 12]], axis = 1, inplace = True)\n",
    "    return df"
   ]
  },
  {
   "cell_type": "markdown",
   "metadata": {},
   "source": [
    "### 回傳第一頁到第n頁的所有召喚師對位勝率和結果，並且過濾掉可能重複的對戰"
   ]
  },
  {
   "cell_type": "code",
   "execution_count": 4,
   "metadata": {},
   "outputs": [],
   "source": [
    "def get_many_match(region:int, n:int)->pd.DataFrame:\n",
    "    df = pd.DataFrame()\n",
    "    for i in range(1, n + 1):\n",
    "        for j in get_ID(region, i):\n",
    "            df = df.append(get_match(region, j))\n",
    "    df.drop_duplicates(keep = 'first', inplace = True)\n",
    "    df.reset_index(drop=True)\n",
    "    dict = {'Aatrox': '266', 'Ahri': '103', 'Akali': '84', 'Alistar': '12', 'Amumu': '32', 'Anivia': '34', 'Annie': '1', 'Aphelios': '523',\n",
    "            'Ashe': '22', 'Aurelion Sol': '136', 'Azir': '268', 'Bard': '432', 'Blitzcrank': '53', 'Brand': '63', 'Braum': '201', 'Caitlyn': '51',\n",
    "            'Camille': '164', 'Cassiopeia': '69', \"Cho'Gath\": '31', 'Corki': '42', 'Darius': '122', 'Diana': '131', 'Dr. Mundo': '36', 'Draven': '119',\n",
    "            'Ekko': '245', 'Elise': '60', 'Evelynn': '28', 'Ezreal': '81', 'Fiddlesticks': '9', 'Fiora': '114', 'Fizz': '105', 'Galio': '3', \n",
    "            'Gangplank': '41', 'Garen': '86', 'Gnar': '150', 'Gragas': '79', 'Graves': '104', 'Hecarim': '120', 'Heimerdinger': '74', 'Illaoi': '420',\n",
    "            'Irelia': '39', 'Ivern': '427', 'Janna': '40', 'Jarvan IV': '59', 'Jax': '24', 'Jayce': '126', 'Jhin': '202', 'Jinx': '222',\n",
    "            \"Kai'Sa\": '145', 'Kalista': '429', 'Karma': '43', 'Karthus': '30', 'Kassadin': '38', 'Katarina': '55', 'Kayle': '10', 'Kayn': '141',\n",
    "            'Kennen': '85', \"Kha'Zix\": '121', 'Kindred': '203', 'Kled': '240', \"Kog'Maw\": '96', 'LeBlanc': '7', 'Lee Sin': '64', 'Leona': '89', \n",
    "            'Lissandra': '127', 'Lucian': '236', 'Lulu': '117', 'Lux': '99', 'Malphite': '54', 'Malzahar': '90', 'Maokai': '57', 'Master Yi': '11',\n",
    "            'Miss Fortune': '21', 'Mordekaiser': '82', 'Morgana': '25', 'Nami': '267', 'Nasus': '75', 'Nautilus': '111', 'Neeko': '518', 'Nidalee': '76',\n",
    "            'Nocturne': '56', 'Nunu & Willump': '20', 'Olaf': '2', 'Orianna': '61', 'Ornn': '516', 'Pantheon': '80', 'Poppy': '78', 'Pyke': '555',\n",
    "            'Qiyana': '246', 'Quinn': '133', 'Rakan': '497', 'Rammus': '33', \"Rek'Sai\": '421', 'Renekton': '58', 'Rengar': '107', 'Riven': '92',\n",
    "            'Rumble': '68', 'Ryze': '13', 'Sejuani': '113', 'Senna': '235', 'Sett': '875', 'Shaco': '35', 'Shen': '98', 'Shyvana': '102',\n",
    "            'Singed': '27', 'Sion': '14', 'Sivir': '15', 'Skarner':'72', 'Sona': '37', 'Soraka': '16', 'Swain': '50', 'Sylas': '517', \n",
    "            'Syndra': '134', 'Tahm Kench': '223', 'Taliyah': '163', 'Talon': '91', 'Taric': '44', 'Teemo': '17', 'Thresh': '412', 'Tristana': '18',\n",
    "            'Trundle': '48', 'Tryndamere': '23', 'Twisted Fate': '4', 'Twitch': '29', 'Udyr': '77', 'Urgot': '6', 'Varus': '110', 'Vayne': '67',\n",
    "            'Veigar': '45', \"Vel'Koz\": '161', 'Vi': '254', 'Viktor': '112', 'Vladimir': '8', 'Volibear': '106', 'Warwick': '19', 'Wukong': '62', \n",
    "            'Xayah': '498', 'Xerath': '101', 'Xin Zhao': '5', 'Yasuo': '157', 'Yorick': '83', 'Yuumi': '350', 'Zac': '154', 'Zed': '238',\n",
    "            'Ziggs': '115', 'Zilean': '26', 'Zoe': '142', 'Zyra': '143'}\n",
    "    container = []\n",
    "    for index, row in df.iterrows():\n",
    "        for i in range(0, 5):\n",
    "            url = f'https://www.op.gg/champion/ajax/statistics/counterChampion/championId={dict[row[i]]}&targetChampionId={dict[row[i + 5]]}&position={[\"top\", \"jungle\", \"mid\", \"adc\", \"support\"][i]}'\n",
    "            list = BeautifulSoup(requests.get(url).text, 'html.parser').find_all(\"td\", class_=\"champion-matchup-data\")\n",
    "            if list and (i == 0 or i == 2 or i == 3):\n",
    "                container.append(float(list[10].get_text(strip=True).replace(\"%\", \"\")) * 0.01)         \n",
    "                container.append(float(list[0].get_text(strip=True).replace(\"%\", \"\")) / \n",
    "                                 (float(list[0].get_text(strip=True).replace(\"%\", \"\")) + float(list[1].get_text(strip=True).replace(\"%\", \"\"))))\n",
    "                container.append(float(list[2].get_text(strip=True).partition(' :')[0]) / \n",
    "                                 (float(list[2].get_text(strip=True).partition(' :')[0]) + float(list[3].get_text(strip=True).partition(' :')[0])))\n",
    "                container.append(float(list[4].get_text(strip=True).replace(\"%\", \"\")) / \n",
    "                                 (float(list[4].get_text(strip=True).replace(\"%\", \"\")) + float(list[5].get_text(strip=True).replace(\"%\", \"\"))))\n",
    "                container.append(float(list[6].get_text(strip=True).replace(\",\", \"\")) / \n",
    "                                 (float(list[6].get_text(strip=True).replace(\",\", \"\")) + float(list[7].get_text(strip=True).replace(\",\", \"\"))))\n",
    "            elif list and i == 1:\n",
    "                container.append(float(list[6].get_text(strip=True).replace(\"%\", \"\")) * 0.01)         \n",
    "                container.append(float(list[0].get_text(strip=True).partition(' :')[0]) / \n",
    "                                 (float(list[0].get_text(strip=True).partition(' :')[0]) + float(list[1].get_text(strip=True).partition(' :')[0])))\n",
    "                container.append(float(list[2].get_text(strip=True).replace(\"%\", \"\")) /\n",
    "                                 (float(list[2].get_text(strip=True).replace(\"%\", \"\")) + float(list[3].get_text(strip=True).replace(\"%\", \"\"))))\n",
    "                container.append(float(list[4].get_text(strip=True).replace(\",\", \"\")) /\n",
    "                                 (float(list[4].get_text(strip=True).replace(\",\", \"\")) + float(list[5].get_text(strip=True).replace(\",\", \"\"))))\n",
    "            elif list and i == 4:\n",
    "                container.append(float(list[6].get_text(strip=True).replace(\"%\", \"\")) * 0.01)         \n",
    "                container.append(float(list[0].get_text(strip=True).replace(\"%\", \"\")) / \n",
    "                                 (float(list[0].get_text(strip=True).replace(\"%\", \"\")) + float(list[1].get_text(strip=True).replace(\"%\", \"\"))))\n",
    "                container.append(float(list[2].get_text(strip=True).partition(' :')[0]) /\n",
    "                                 (float(list[2].get_text(strip=True).partition(' :')[0]) + float(list[3].get_text(strip=True).partition(' :')[0])))\n",
    "                container.append(float(list[4].get_text(strip=True).replace(\"%\", \"\")) / \n",
    "                                 (float(list[4].get_text(strip=True).replace(\"%\", \"\")) + float(list[5].get_text(strip=True).replace(\"%\", \"\"))))\n",
    "            elif not list and (i == 0 or i == 2 or i == 3):\n",
    "                container += [0.5, 0.5, 0.5, 0.5, 0.5]\n",
    "            else:\n",
    "                container += [0.5, 0.5, 0.5, 0.5]\n",
    "    df = np.append(df, np.reshape(np.matrix(container), (-1, 23)), 1)    \n",
    "    df = pd.DataFrame(df)\n",
    "    df.drop(df.columns[[0, 1, 2, 3, 4, 5, 6, 7, 8, 9]], axis = 1, inplace = True)\n",
    "    df.columns = ['result', 'top_win_rate', 'top_lane_kill_rate', 'top_kda', 'top_kill_participate', 'top_damage',\n",
    "                  'jg_win_rate', 'jg_kda', 'jg_kill_participate', 'jg_damage', \n",
    "                  'mid_win_rate', 'mid_lane_kill_rate', 'mid_kda', 'mid_kill_participate', 'mid_damage', \n",
    "                  'adc_win_rate', 'adc_lane_kill_rate', 'adc_kda', 'adc_kill_participate', 'adc_damage',\n",
    "                  'sup_win_rate', 'sup_lane_kill_rate', 'sup_kda', 'sup_kill_participate']\n",
    "    return df"
   ]
  },
  {
   "cell_type": "markdown",
   "metadata": {},
   "source": [
    "### 實際爬爬看"
   ]
  },
  {
   "cell_type": "code",
   "execution_count": 5,
   "metadata": {},
   "outputs": [],
   "source": [
    "get_many_match(2,1)"
   ]
  },
  {
   "cell_type": "code",
   "execution_count": null,
   "metadata": {},
   "outputs": [],
   "source": [
    "# to_csv(\"test.csv\")"
   ]
  }
 ],
 "metadata": {
  "language_info": {
   "codemirror_mode": {
    "name": "ipython",
    "version": 3
   },
   "file_extension": ".py",
   "mimetype": "text/x-python",
   "name": "python",
   "nbconvert_exporter": "python",
   "pygments_lexer": "ipython3",
   "version": "3.7.4-final"
  },
  "orig_nbformat": 2,
  "kernelspec": {
   "name": "python3",
   "display_name": "Python 3"
  }
 },
 "nbformat": 4,
 "nbformat_minor": 2
}