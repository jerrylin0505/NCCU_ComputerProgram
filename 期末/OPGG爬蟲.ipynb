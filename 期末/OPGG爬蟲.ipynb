{
 "cells": [
  {
   "cell_type": "code",
   "execution_count": null,
   "metadata": {},
   "outputs": [],
   "source": [
    "import requests\n",
    "from bs4 import BeautifulSoup\n",
    "import re\n",
    "import numpy as np\n",
    "import pandas as pd"
   ]
  },
  {
   "cell_type": "markdown",
   "metadata": {},
   "source": [
    "### 回傳Leaderboards上某頁數的全部召喚師ID(伺服器region =1:KR, =2:NA, =3:EUW, =4:EUNE)"
   ]
  },
  {
   "cell_type": "code",
   "execution_count": null,
   "metadata": {},
   "outputs": [],
   "source": [
    "def get_ID(region:int, page:int)->list:\n",
    "    container = []\n",
    "    dict = {1:\"www\", 2:\"na\", 3:\"euw\", 4:\"eune\"}\n",
    "    soup = BeautifulSoup(requests.get('https://' + dict[region] + '.op.gg/ranking/ladder/page=' + str(page)).text, 'html.parser')      \n",
    "    if page == 1:\n",
    "        for i in soup.find_all(\"a\", class_=\"ranking-highest__name\"):\n",
    "            container += re.findall('<a.*?>(.*?)</a>', str(i), re.S)\n",
    "    for i in soup.find_all(\"td\", class_=\"select_summoner ranking-table__cell ranking-table__cell--summoner\"):\n",
    "        container += re.findall('<span>(.*?)</span>', str(i), re.S)\n",
    "    return container  "
   ]
  },
  {
   "cell_type": "markdown",
   "metadata": {},
   "source": [
    "### 回傳某召喚師ID的最近二十場內有效牌位對戰英雄(左上,左野,左中,左下,左輔,右上,右野,右中,右下,右輔,1=左贏0=左輸)"
   ]
  },
  {
   "cell_type": "code",
   "execution_count": null,
   "metadata": {},
   "outputs": [],
   "source": [
    "def get_match(summoner_id:str)->pd.DataFrame:\n",
    "    soup = BeautifulSoup(requests.get('https://www.op.gg/summoner/userName=' + summoner_id.replace(\" \", \"+\")).text, 'html.parser')\n",
    "    container = []\n",
    "    for i in soup.find_all(\"div\", class_=\"Image16\"):\n",
    "        container += re.findall('<div.*?>(.*?)</div>', str(i), re.S)\n",
    "    df = pd.DataFrame(np.reshape(container, (-1, 10)))\n",
    "    df[10] = \"\"\n",
    "    for i, j in enumerate(soup.select('div.GameSettingInfo > div.ChampionName')):\n",
    "        df.iloc[i, 10] = re.findall('<a.*?>(.*?)</a>', str(j), re.S)[0]\n",
    "    df[11] = \"\"\n",
    "    for i, j in enumerate(soup.find_all(\"div\", class_=\"GameType\")):\n",
    "        df.iloc[i, 11] = re.findall('<div.*?>(.*?)</div>', str(j), re.S)[0]\n",
    "    df[12] = \"\"\n",
    "    for i, j in enumerate(soup.find_all(\"div\", class_=\"GameResult\")):\n",
    "        df.iloc[i, 12] = re.findall('<div.*?>(.*?)</div>', str(j), re.S)[0]\n",
    "    df = df[~df[12].str.contains(\"Remake\") & df[11].str.contains(\"Ranked\")]\n",
    "    df['result'] = np.where((((df[0]==df[10])|(df[1]==df[10])|(df[2]==df[10])|(df[3]==df[10])|(df[4]==df[10]))&(df[12].str.contains(\"Victory\")))|\n",
    "                            (((df[5]==df[10])|(df[6]==df[10])|(df[7]==df[10])|(df[8]==df[10])|(df[9]==df[10]))&(df[12].str.contains(\"Defeat\"))), 1, 0)\n",
    "    df.drop(df.columns[[10, 11, 12]], axis = 1, inplace = True)\n",
    "    return df"
   ]
  },
  {
   "cell_type": "code",
   "execution_count": null,
   "metadata": {},
   "outputs": [],
   "source": [
    "# 回傳\n",
    "list = []\n",
    "dict = {}\n",
    "r = requests.get('https://www.op.gg/champion/statistics')\n",
    "soup = BeautifulSoup(r.text, 'html.parser')\n",
    "for link in soup.select('a[href^=\"/champion/\"]'):\n",
    "    list.append(link.get('href'))\n",
    "for i in list[1:148]:\n",
    "    r = requests.get('https://www.op.gg' + str(i))\n",
    "    a = re.findall('<h1.*?>(.*?)</h1>', str(BeautifulSoup(r.text, 'html.parser').find_all('h1', class_=\"champion-stats-header-info__name\")), re.S)[0]\n",
    "    b = str(BeautifulSoup(r.text, 'html.parser').find_all('script')).partition('championId: ')[2].partition('\\n')[0]\n",
    "    dict.setdefault(a,b)\n",
    "print(dict)"
   ]
  },
  {
   "cell_type": "markdown",
   "metadata": {},
   "source": [
    "### 回傳第一頁到第n頁的所有召喚師對位勝率和結果，並且過濾掉可能重複的對戰"
   ]
  },
  {
   "cell_type": "code",
   "execution_count": null,
   "metadata": {},
   "outputs": [],
   "source": [
    "def get_many_match(n:int)->pd.DataFrame:\n",
    "    #df_output = pd.DataFrame() \n",
    "    #for i in range(1, n + 1):\n",
    "      #  for j in get_ID(1, i):\n",
    "     #       df_output = df_output.append(get_match(j))\n",
    "    #df_output.drop_duplicates(keep = 'first', inplace = True)\n",
    "    df = get_match(\"znhy\")\n",
    "    list = []\n",
    "    container = []\n",
    "    r = requests.get('https://www.op.gg/champion/statistics')\n",
    "    soup = BeautifulSoup(r.text, 'html.parser')\n",
    "    for i in soup.find_all(\"div\", class_=\"champion-index__champion-item__name\"):\n",
    "        list += re.findall('<div.*?>(.*?)</div>', str(i), re.S)\n",
    "    for summoner in list:\n",
    "        for key, value in {0:\"top\", 1:\"jungle\", 2:\"mid\", 3:\"bot\", 4:\"support\"}.items():\n",
    "            url = 'https://www.op.gg/champion/' + str(summoner) + '/statistics/' + value + '/matchup'\n",
    "            r = requests.get(url)\n",
    "            soup = BeautifulSoup(r.text, 'html.parser')\n",
    "            for i, j in enumerate(soup.select('div.champion-matchup-list__champion > span')):\n",
    "                if i % 2 == 0:\n",
    "                    container += str(key)\n",
    "                    container.append(summoner)\n",
    "                container.append(re.findall('<span.*?>(.*?)</span>', str(j), re.S)[0].replace(\"\\n\", \"\").replace(\"\\t\", \"\").replace(\"%\", \"\"))\n",
    "    df = df.reset_index(drop=True)\n",
    "    df[\"top\"] = \"\"\n",
    "    df[\"jungle\"] = \"\"\n",
    "    df[\"mid\"] = \"\"\n",
    "    df[\"bot\"] = \"\"\n",
    "    df[\"sup\"] = \"\"\n",
    "    for index, row in df.iterrows():\n",
    "        for i in np.reshape(container, (-1, 4)).tolist():\n",
    "            if i[0] == \"0\" and i[1] == row[0] and i[2] == row[5]:\n",
    "                df.loc[index, \"top\"] = float(i[3]) * 0.01\n",
    "            if i[0] == \"1\" and i[1] == row[1] and i[2] == row[6]:\n",
    "                df.loc[index, \"jungle\"] = float(i[3]) * 0.01\n",
    "            if i[0] == \"2\" and i[1] == row[2] and i[2] == row[7]:\n",
    "                df.loc[index, \"mid\"] = float(i[3]) * 0.01\n",
    "            if i[0] == \"3\" and i[1] == row[3] and i[2] == row[8]:\n",
    "                df.loc[index, \"bot\"] = float(i[3]) * 0.01\n",
    "            if i[0] == \"4\" and i[1] == row[4] and i[2] == row[9]:\n",
    "                df.loc[index, \"sup\"] = float(i[3]) * 0.01\n",
    "    df.replace('', 0.5, inplace=True)\n",
    "    return df\n",
    "get_many_match(1)"
   ]
  }
 ],
 "metadata": {
  "language_info": {
   "codemirror_mode": {
    "name": "ipython",
    "version": 3
   },
   "file_extension": ".py",
   "mimetype": "text/x-python",
   "name": "python",
   "nbconvert_exporter": "python",
   "pygments_lexer": "ipython3",
   "version": 3
  },
  "orig_nbformat": 2
 },
 "nbformat": 4,
 "nbformat_minor": 2
}