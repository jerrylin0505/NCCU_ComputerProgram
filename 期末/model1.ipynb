{
 "cells": [
  {
   "cell_type": "code",
   "execution_count": 2,
   "metadata": {},
   "outputs": [],
   "source": [
    "%matplotlib inline\n",
    "# Import some useful packages\n",
    "import matplotlib.pyplot as plt\n",
    "import numpy as np\n",
    "import pandas as pd\n",
    "\n",
    "# For data preprocessing\n",
    "from tensorflow.keras.utils import to_categorical\n",
    "\n",
    "# Layers for FNN\n",
    "from tensorflow.keras.models import Sequential\n",
    "from tensorflow.keras.layers import Dense\n",
    "from tensorflow.keras.layers import Flatten\n",
    "from tensorflow.keras.optimizers import SGD"
   ]
  },
  {
   "cell_type": "code",
   "execution_count": 3,
   "metadata": {},
   "outputs": [],
   "source": [
    "df = pd.read_csv('final_data.csv')\n",
    "info = pd.read_csv('info.csv')"
   ]
  },
  {
   "cell_type": "code",
   "execution_count": 29,
   "metadata": {},
   "outputs": [
    {
     "output_type": "execute_result",
     "data": {
      "text/plain": "          Unnamed: 0  summoner_a  summoner_b  win_rate  lane_kill_rate   kda  \\\nposition                                                                       \n0               2141        2141        2141      2141            2141  2141   \n1               1453        1453        1453      1453               0  1453   \n2               2148        2148        2148      2148            2148  2148   \n4               1446        1446        1446      1446            1446  1446   \n\n          kill_participate  damage  \nposition                            \n0                     2141    2141  \n1                     1453    1453  \n2                     2148    2148  \n4                     1446       0  ",
      "text/html": "<div>\n<style scoped>\n    .dataframe tbody tr th:only-of-type {\n        vertical-align: middle;\n    }\n\n    .dataframe tbody tr th {\n        vertical-align: top;\n    }\n\n    .dataframe thead th {\n        text-align: right;\n    }\n</style>\n<table border=\"1\" class=\"dataframe\">\n  <thead>\n    <tr style=\"text-align: right;\">\n      <th></th>\n      <th>Unnamed: 0</th>\n      <th>summoner_a</th>\n      <th>summoner_b</th>\n      <th>win_rate</th>\n      <th>lane_kill_rate</th>\n      <th>kda</th>\n      <th>kill_participate</th>\n      <th>damage</th>\n    </tr>\n    <tr>\n      <th>position</th>\n      <th></th>\n      <th></th>\n      <th></th>\n      <th></th>\n      <th></th>\n      <th></th>\n      <th></th>\n      <th></th>\n    </tr>\n  </thead>\n  <tbody>\n    <tr>\n      <th>0</th>\n      <td>2141</td>\n      <td>2141</td>\n      <td>2141</td>\n      <td>2141</td>\n      <td>2141</td>\n      <td>2141</td>\n      <td>2141</td>\n      <td>2141</td>\n    </tr>\n    <tr>\n      <th>1</th>\n      <td>1453</td>\n      <td>1453</td>\n      <td>1453</td>\n      <td>1453</td>\n      <td>0</td>\n      <td>1453</td>\n      <td>1453</td>\n      <td>1453</td>\n    </tr>\n    <tr>\n      <th>2</th>\n      <td>2148</td>\n      <td>2148</td>\n      <td>2148</td>\n      <td>2148</td>\n      <td>2148</td>\n      <td>2148</td>\n      <td>2148</td>\n      <td>2148</td>\n    </tr>\n    <tr>\n      <th>4</th>\n      <td>1446</td>\n      <td>1446</td>\n      <td>1446</td>\n      <td>1446</td>\n      <td>1446</td>\n      <td>1446</td>\n      <td>1446</td>\n      <td>0</td>\n    </tr>\n  </tbody>\n</table>\n</div>"
     },
     "metadata": {},
     "execution_count": 29
    }
   ],
   "source": [
    "info.groupby('position').count()"
   ]
  },
  {
   "cell_type": "code",
   "execution_count": 16,
   "metadata": {},
   "outputs": [
    {
     "output_type": "execute_result",
     "data": {
      "text/plain": "       top_win_rate  top_lane_kill_rate   top_kda  top_kill_participate  \\\n0            0.5165              0.5350  0.571429              0.529851   \n1            0.4714              0.3487  0.412346              0.453865   \n2            0.4194              0.5431  0.507246              0.521191   \n3            0.5190              0.5149  0.500000              0.502481   \n4            0.4881              0.5154  0.413146              0.467259   \n...             ...                 ...       ...                   ...   \n18277        0.4355              0.6879  0.508861              0.490074   \n18278        0.5347              0.5320  0.470423              0.495856   \n18279        0.3684              0.3871  0.334056              0.469333   \n18280        0.5982              0.7423  0.588785              0.516005   \n18281        0.4843              0.3751  0.558140              0.500000   \n\n       top_damage  jg_win_rate    jg_kda  jg_kill_participate  jg_damage  \\\n0        0.549520       0.5069  0.485660             0.489531   0.509276   \n1        0.452230       0.4895  0.532632             0.514573   0.510004   \n2        0.513936       0.5064  0.474645             0.526022   0.606890   \n3        0.556929       0.4197  0.441296             0.496496   0.430142   \n4        0.528237       0.4782  0.498069             0.505174   0.454369   \n...           ...          ...       ...                  ...        ...   \n18277    0.490373       0.4798  0.509690             0.509728   0.423939   \n18278    0.540506       0.5029  0.519157             0.513983   0.562910   \n18279    0.405582       0.4860  0.502879             0.506616   0.456211   \n18280    0.438540       0.5061  0.537190             0.518443   0.541791   \n18281    0.419467       0.4798  0.509690             0.509728   0.423939   \n\n       mid_win_rate  ...  adc_win_rate  adc_lane_kill_rate   adc_kda  \\\n0            0.5049  ...        0.4960              0.5816  0.513333   \n1            0.4417  ...        0.5135              0.4670  0.507605   \n2            0.4816  ...        0.5248              0.4753  0.513684   \n3            0.4943  ...        0.5266              0.5789  0.508539   \n4            0.5183  ...        0.5049              0.5293  0.496109   \n...             ...  ...           ...                 ...       ...   \n18277        0.4874  ...        0.5062              0.4594  0.486381   \n18278        0.4780  ...        0.4737              0.4553  0.496842   \n18279        0.4889  ...        0.5180              0.6372  0.576238   \n18280        0.4082  ...        0.5026              0.4902  0.472165   \n18281        0.4255  ...        0.5092              0.5506  0.532787   \n\n       adc_kill_participate  adc_damage  sup_win_rate  sup_lane_kill_rate  \\\n0                  0.509784    0.471470        0.5351              0.4985   \n1                  0.500000    0.539221        0.4857              0.5645   \n2                  0.503891    0.458632        0.5009              0.4878   \n3                  0.487562    0.496394        0.4602              0.5369   \n4                  0.509146    0.442267        0.5073              0.4807   \n...                     ...         ...           ...                 ...   \n18277              0.489712    0.462690        0.4563              0.5780   \n18278              0.507692    0.547123        0.5026              0.6534   \n18279              0.530550    0.503203        0.5084              0.5130   \n18280              0.477581    0.491471        0.5124              0.6006   \n18281              0.514632    0.465942        0.4784              0.5160   \n\n        sup_kda  sup_kill_participate  result  \n0      0.436229              0.491745     1.0  \n1      0.551515              0.512987     1.0  \n2      0.451220              0.470395     1.0  \n3      0.428037              0.520788     1.0  \n4      0.507853              0.493318     1.0  \n...         ...                   ...     ...  \n18277  0.420345              0.443067     1.0  \n18278  0.465753              0.449532     0.0  \n18279  0.518591              0.522404     0.0  \n18280  0.453901              0.501152     1.0  \n18281  0.438114              0.515317     0.0  \n\n[18282 rows x 24 columns]",
      "text/html": "<div>\n<style scoped>\n    .dataframe tbody tr th:only-of-type {\n        vertical-align: middle;\n    }\n\n    .dataframe tbody tr th {\n        vertical-align: top;\n    }\n\n    .dataframe thead th {\n        text-align: right;\n    }\n</style>\n<table border=\"1\" class=\"dataframe\">\n  <thead>\n    <tr style=\"text-align: right;\">\n      <th></th>\n      <th>top_win_rate</th>\n      <th>top_lane_kill_rate</th>\n      <th>top_kda</th>\n      <th>top_kill_participate</th>\n      <th>top_damage</th>\n      <th>jg_win_rate</th>\n      <th>jg_kda</th>\n      <th>jg_kill_participate</th>\n      <th>jg_damage</th>\n      <th>mid_win_rate</th>\n      <th>...</th>\n      <th>adc_win_rate</th>\n      <th>adc_lane_kill_rate</th>\n      <th>adc_kda</th>\n      <th>adc_kill_participate</th>\n      <th>adc_damage</th>\n      <th>sup_win_rate</th>\n      <th>sup_lane_kill_rate</th>\n      <th>sup_kda</th>\n      <th>sup_kill_participate</th>\n      <th>result</th>\n    </tr>\n  </thead>\n  <tbody>\n    <tr>\n      <th>0</th>\n      <td>0.5165</td>\n      <td>0.5350</td>\n      <td>0.571429</td>\n      <td>0.529851</td>\n      <td>0.549520</td>\n      <td>0.5069</td>\n      <td>0.485660</td>\n      <td>0.489531</td>\n      <td>0.509276</td>\n      <td>0.5049</td>\n      <td>...</td>\n      <td>0.4960</td>\n      <td>0.5816</td>\n      <td>0.513333</td>\n      <td>0.509784</td>\n      <td>0.471470</td>\n      <td>0.5351</td>\n      <td>0.4985</td>\n      <td>0.436229</td>\n      <td>0.491745</td>\n      <td>1.0</td>\n    </tr>\n    <tr>\n      <th>1</th>\n      <td>0.4714</td>\n      <td>0.3487</td>\n      <td>0.412346</td>\n      <td>0.453865</td>\n      <td>0.452230</td>\n      <td>0.4895</td>\n      <td>0.532632</td>\n      <td>0.514573</td>\n      <td>0.510004</td>\n      <td>0.4417</td>\n      <td>...</td>\n      <td>0.5135</td>\n      <td>0.4670</td>\n      <td>0.507605</td>\n      <td>0.500000</td>\n      <td>0.539221</td>\n      <td>0.4857</td>\n      <td>0.5645</td>\n      <td>0.551515</td>\n      <td>0.512987</td>\n      <td>1.0</td>\n    </tr>\n    <tr>\n      <th>2</th>\n      <td>0.4194</td>\n      <td>0.5431</td>\n      <td>0.507246</td>\n      <td>0.521191</td>\n      <td>0.513936</td>\n      <td>0.5064</td>\n      <td>0.474645</td>\n      <td>0.526022</td>\n      <td>0.606890</td>\n      <td>0.4816</td>\n      <td>...</td>\n      <td>0.5248</td>\n      <td>0.4753</td>\n      <td>0.513684</td>\n      <td>0.503891</td>\n      <td>0.458632</td>\n      <td>0.5009</td>\n      <td>0.4878</td>\n      <td>0.451220</td>\n      <td>0.470395</td>\n      <td>1.0</td>\n    </tr>\n    <tr>\n      <th>3</th>\n      <td>0.5190</td>\n      <td>0.5149</td>\n      <td>0.500000</td>\n      <td>0.502481</td>\n      <td>0.556929</td>\n      <td>0.4197</td>\n      <td>0.441296</td>\n      <td>0.496496</td>\n      <td>0.430142</td>\n      <td>0.4943</td>\n      <td>...</td>\n      <td>0.5266</td>\n      <td>0.5789</td>\n      <td>0.508539</td>\n      <td>0.487562</td>\n      <td>0.496394</td>\n      <td>0.4602</td>\n      <td>0.5369</td>\n      <td>0.428037</td>\n      <td>0.520788</td>\n      <td>1.0</td>\n    </tr>\n    <tr>\n      <th>4</th>\n      <td>0.4881</td>\n      <td>0.5154</td>\n      <td>0.413146</td>\n      <td>0.467259</td>\n      <td>0.528237</td>\n      <td>0.4782</td>\n      <td>0.498069</td>\n      <td>0.505174</td>\n      <td>0.454369</td>\n      <td>0.5183</td>\n      <td>...</td>\n      <td>0.5049</td>\n      <td>0.5293</td>\n      <td>0.496109</td>\n      <td>0.509146</td>\n      <td>0.442267</td>\n      <td>0.5073</td>\n      <td>0.4807</td>\n      <td>0.507853</td>\n      <td>0.493318</td>\n      <td>1.0</td>\n    </tr>\n    <tr>\n      <th>...</th>\n      <td>...</td>\n      <td>...</td>\n      <td>...</td>\n      <td>...</td>\n      <td>...</td>\n      <td>...</td>\n      <td>...</td>\n      <td>...</td>\n      <td>...</td>\n      <td>...</td>\n      <td>...</td>\n      <td>...</td>\n      <td>...</td>\n      <td>...</td>\n      <td>...</td>\n      <td>...</td>\n      <td>...</td>\n      <td>...</td>\n      <td>...</td>\n      <td>...</td>\n      <td>...</td>\n    </tr>\n    <tr>\n      <th>18277</th>\n      <td>0.4355</td>\n      <td>0.6879</td>\n      <td>0.508861</td>\n      <td>0.490074</td>\n      <td>0.490373</td>\n      <td>0.4798</td>\n      <td>0.509690</td>\n      <td>0.509728</td>\n      <td>0.423939</td>\n      <td>0.4874</td>\n      <td>...</td>\n      <td>0.5062</td>\n      <td>0.4594</td>\n      <td>0.486381</td>\n      <td>0.489712</td>\n      <td>0.462690</td>\n      <td>0.4563</td>\n      <td>0.5780</td>\n      <td>0.420345</td>\n      <td>0.443067</td>\n      <td>1.0</td>\n    </tr>\n    <tr>\n      <th>18278</th>\n      <td>0.5347</td>\n      <td>0.5320</td>\n      <td>0.470423</td>\n      <td>0.495856</td>\n      <td>0.540506</td>\n      <td>0.5029</td>\n      <td>0.519157</td>\n      <td>0.513983</td>\n      <td>0.562910</td>\n      <td>0.4780</td>\n      <td>...</td>\n      <td>0.4737</td>\n      <td>0.4553</td>\n      <td>0.496842</td>\n      <td>0.507692</td>\n      <td>0.547123</td>\n      <td>0.5026</td>\n      <td>0.6534</td>\n      <td>0.465753</td>\n      <td>0.449532</td>\n      <td>0.0</td>\n    </tr>\n    <tr>\n      <th>18279</th>\n      <td>0.3684</td>\n      <td>0.3871</td>\n      <td>0.334056</td>\n      <td>0.469333</td>\n      <td>0.405582</td>\n      <td>0.4860</td>\n      <td>0.502879</td>\n      <td>0.506616</td>\n      <td>0.456211</td>\n      <td>0.4889</td>\n      <td>...</td>\n      <td>0.5180</td>\n      <td>0.6372</td>\n      <td>0.576238</td>\n      <td>0.530550</td>\n      <td>0.503203</td>\n      <td>0.5084</td>\n      <td>0.5130</td>\n      <td>0.518591</td>\n      <td>0.522404</td>\n      <td>0.0</td>\n    </tr>\n    <tr>\n      <th>18280</th>\n      <td>0.5982</td>\n      <td>0.7423</td>\n      <td>0.588785</td>\n      <td>0.516005</td>\n      <td>0.438540</td>\n      <td>0.5061</td>\n      <td>0.537190</td>\n      <td>0.518443</td>\n      <td>0.541791</td>\n      <td>0.4082</td>\n      <td>...</td>\n      <td>0.5026</td>\n      <td>0.4902</td>\n      <td>0.472165</td>\n      <td>0.477581</td>\n      <td>0.491471</td>\n      <td>0.5124</td>\n      <td>0.6006</td>\n      <td>0.453901</td>\n      <td>0.501152</td>\n      <td>1.0</td>\n    </tr>\n    <tr>\n      <th>18281</th>\n      <td>0.4843</td>\n      <td>0.3751</td>\n      <td>0.558140</td>\n      <td>0.500000</td>\n      <td>0.419467</td>\n      <td>0.4798</td>\n      <td>0.509690</td>\n      <td>0.509728</td>\n      <td>0.423939</td>\n      <td>0.4255</td>\n      <td>...</td>\n      <td>0.5092</td>\n      <td>0.5506</td>\n      <td>0.532787</td>\n      <td>0.514632</td>\n      <td>0.465942</td>\n      <td>0.4784</td>\n      <td>0.5160</td>\n      <td>0.438114</td>\n      <td>0.515317</td>\n      <td>0.0</td>\n    </tr>\n  </tbody>\n</table>\n<p>18282 rows × 24 columns</p>\n</div>"
     },
     "metadata": {},
     "execution_count": 16
    }
   ],
   "source": [
    "df"
   ]
  },
  {
   "cell_type": "code",
   "execution_count": 34,
   "metadata": {},
   "outputs": [],
   "source": [
    "x_train = df[df.columns[0:-1]]\n",
    "y_train = df[\"result\"]"
   ]
  },
  {
   "cell_type": "code",
   "execution_count": 17,
   "metadata": {},
   "outputs": [
    {
     "output_type": "execute_result",
     "data": {
      "text/plain": "        top_win_rate  top_lane_kill_rate  top_kda  top_kill_participate  \\\nresult                                                                    \n0.0             9057                9057     9057                  9057   \n1.0             9225                9225     9225                  9225   \n\n        top_damage  jg_win_rate  jg_kda  jg_kill_participate  jg_damage  \\\nresult                                                                    \n0.0           9057         9057    9057                 9057       9057   \n1.0           9225         9225    9225                 9225       9225   \n\n        mid_win_rate  ...  mid_damage  adc_win_rate  adc_lane_kill_rate  \\\nresult                ...                                                 \n0.0             9057  ...        9057          9057                9057   \n1.0             9225  ...        9225          9225                9225   \n\n        adc_kda  adc_kill_participate  adc_damage  sup_win_rate  \\\nresult                                                            \n0.0        9057                  9057        9057          9057   \n1.0        9225                  9225        9225          9225   \n\n        sup_lane_kill_rate  sup_kda  sup_kill_participate  \nresult                                                     \n0.0                   9057     9057                  9057  \n1.0                   9225     9225                  9225  \n\n[2 rows x 23 columns]",
      "text/html": "<div>\n<style scoped>\n    .dataframe tbody tr th:only-of-type {\n        vertical-align: middle;\n    }\n\n    .dataframe tbody tr th {\n        vertical-align: top;\n    }\n\n    .dataframe thead th {\n        text-align: right;\n    }\n</style>\n<table border=\"1\" class=\"dataframe\">\n  <thead>\n    <tr style=\"text-align: right;\">\n      <th></th>\n      <th>top_win_rate</th>\n      <th>top_lane_kill_rate</th>\n      <th>top_kda</th>\n      <th>top_kill_participate</th>\n      <th>top_damage</th>\n      <th>jg_win_rate</th>\n      <th>jg_kda</th>\n      <th>jg_kill_participate</th>\n      <th>jg_damage</th>\n      <th>mid_win_rate</th>\n      <th>...</th>\n      <th>mid_damage</th>\n      <th>adc_win_rate</th>\n      <th>adc_lane_kill_rate</th>\n      <th>adc_kda</th>\n      <th>adc_kill_participate</th>\n      <th>adc_damage</th>\n      <th>sup_win_rate</th>\n      <th>sup_lane_kill_rate</th>\n      <th>sup_kda</th>\n      <th>sup_kill_participate</th>\n    </tr>\n    <tr>\n      <th>result</th>\n      <th></th>\n      <th></th>\n      <th></th>\n      <th></th>\n      <th></th>\n      <th></th>\n      <th></th>\n      <th></th>\n      <th></th>\n      <th></th>\n      <th></th>\n      <th></th>\n      <th></th>\n      <th></th>\n      <th></th>\n      <th></th>\n      <th></th>\n      <th></th>\n      <th></th>\n      <th></th>\n      <th></th>\n    </tr>\n  </thead>\n  <tbody>\n    <tr>\n      <th>0.0</th>\n      <td>9057</td>\n      <td>9057</td>\n      <td>9057</td>\n      <td>9057</td>\n      <td>9057</td>\n      <td>9057</td>\n      <td>9057</td>\n      <td>9057</td>\n      <td>9057</td>\n      <td>9057</td>\n      <td>...</td>\n      <td>9057</td>\n      <td>9057</td>\n      <td>9057</td>\n      <td>9057</td>\n      <td>9057</td>\n      <td>9057</td>\n      <td>9057</td>\n      <td>9057</td>\n      <td>9057</td>\n      <td>9057</td>\n    </tr>\n    <tr>\n      <th>1.0</th>\n      <td>9225</td>\n      <td>9225</td>\n      <td>9225</td>\n      <td>9225</td>\n      <td>9225</td>\n      <td>9225</td>\n      <td>9225</td>\n      <td>9225</td>\n      <td>9225</td>\n      <td>9225</td>\n      <td>...</td>\n      <td>9225</td>\n      <td>9225</td>\n      <td>9225</td>\n      <td>9225</td>\n      <td>9225</td>\n      <td>9225</td>\n      <td>9225</td>\n      <td>9225</td>\n      <td>9225</td>\n      <td>9225</td>\n    </tr>\n  </tbody>\n</table>\n<p>2 rows × 23 columns</p>\n</div>"
     },
     "metadata": {},
     "execution_count": 17
    }
   ],
   "source": [
    "df.groupby('result').count()"
   ]
  },
  {
   "cell_type": "code",
   "execution_count": 7,
   "metadata": {},
   "outputs": [
    {
     "output_type": "execute_result",
     "data": {
      "text/plain": "(10707,)"
     },
     "metadata": {},
     "execution_count": 7
    }
   ],
   "source": [
    "y_train.shape"
   ]
  },
  {
   "cell_type": "code",
   "execution_count": 21,
   "metadata": {},
   "outputs": [],
   "source": [
    "y_train = to_categorical(y_train, 2)"
   ]
  },
  {
   "cell_type": "code",
   "execution_count": 9,
   "metadata": {},
   "outputs": [
    {
     "output_type": "execute_result",
     "data": {
      "text/plain": "array([0., 1.], dtype=float32)"
     },
     "metadata": {},
     "execution_count": 9
    }
   ],
   "source": [
    "y_train[1003]"
   ]
  },
  {
   "cell_type": "code",
   "execution_count": 22,
   "metadata": {},
   "outputs": [
    {
     "output_type": "stream",
     "name": "stdout",
     "text": "WARNING:tensorflow:From D:\\Anaconda\\lib\\site-packages\\tensorflow\\python\\ops\\init_ops.py:1251: calling VarianceScaling.__init__ (from tensorflow.python.ops.init_ops) with dtype is deprecated and will be removed in a future version.\nInstructions for updating:\nCall initializer instance with the dtype argument instead of passing it to the constructor\n"
    }
   ],
   "source": [
    "FC_layers = [Dense(units=256, input_dim=23, activation='relu'),\n",
    "             Dense(units=128, activation = 'relu'),\n",
    "             Dense(units=2, activation='softmax')]"
   ]
  },
  {
   "cell_type": "code",
   "execution_count": 23,
   "metadata": {},
   "outputs": [
    {
     "output_type": "stream",
     "name": "stdout",
     "text": "Model: \"sequential\"\n_________________________________________________________________\nLayer (type)                 Output Shape              Param #   \n=================================================================\ndense (Dense)                (None, 256)               6144      \n_________________________________________________________________\ndense_1 (Dense)              (None, 128)               32896     \n_________________________________________________________________\ndense_2 (Dense)              (None, 2)                 258       \n=================================================================\nTotal params: 39,298\nTrainable params: 39,298\nNon-trainable params: 0\n_________________________________________________________________\n"
    }
   ],
   "source": [
    "model = Sequential(FC_layers)\n",
    "# model.add(Dense(87, input_dim=784, activation='relu'))\n",
    "# model.add(Dense(128,activation = 'relu'))\n",
    "# model.add(Dense(10, activation='softmax'))\n",
    "model.summary()"
   ]
  },
  {
   "cell_type": "code",
   "execution_count": 32,
   "metadata": {},
   "outputs": [],
   "source": [
    "model.compile(loss='mse', optimizer=SGD(lr=0.005), metrics=['accuracy'])"
   ]
  },
  {
   "cell_type": "code",
   "execution_count": 33,
   "metadata": {},
   "outputs": [
    {
     "output_type": "stream",
     "name": "stdout",
     "text": "Train on 15235 samples, validate on 3047 samples\nEpoch 1/50\n15235/15235 [==============================] - 3s 170us/sample - loss: 0.2496 - acc: 0.5155 - val_loss: 0.2504 - val_acc: 0.4962\nEpoch 2/50\n15235/15235 [==============================] - 2s 100us/sample - loss: 0.2497 - acc: 0.5131 - val_loss: 0.2504 - val_acc: 0.4949\nEpoch 3/50\n15235/15235 [==============================] - 1s 95us/sample - loss: 0.2496 - acc: 0.5092 - val_loss: 0.2502 - val_acc: 0.5018\nEpoch 4/50\n15235/15235 [==============================] - 1s 98us/sample - loss: 0.2497 - acc: 0.5126 - val_loss: 0.2502 - val_acc: 0.5018\nEpoch 5/50\n15235/15235 [==============================] - 1s 92us/sample - loss: 0.2497 - acc: 0.5120 - val_loss: 0.2502 - val_acc: 0.4995\nEpoch 6/50\n15235/15235 [==============================] - 1s 93us/sample - loss: 0.2496 - acc: 0.5120 - val_loss: 0.2503 - val_acc: 0.4959\nEpoch 7/50\n15235/15235 [==============================] - 2s 103us/sample - loss: 0.2496 - acc: 0.5193 - val_loss: 0.2502 - val_acc: 0.4923\nEpoch 8/50\n15235/15235 [==============================] - 1s 96us/sample - loss: 0.2496 - acc: 0.5147 - val_loss: 0.2503 - val_acc: 0.5067\nEpoch 9/50\n15235/15235 [==============================] - 1s 97us/sample - loss: 0.2496 - acc: 0.5167 - val_loss: 0.2503 - val_acc: 0.4939\nEpoch 10/50\n15235/15235 [==============================] - 1s 96us/sample - loss: 0.2496 - acc: 0.5140 - val_loss: 0.2502 - val_acc: 0.5005\nEpoch 11/50\n15235/15235 [==============================] - 1s 92us/sample - loss: 0.2496 - acc: 0.5150 - val_loss: 0.2502 - val_acc: 0.5015\nEpoch 12/50\n15235/15235 [==============================] - 1s 94us/sample - loss: 0.2496 - acc: 0.5226 - val_loss: 0.2502 - val_acc: 0.4992\nEpoch 13/50\n15235/15235 [==============================] - 1s 93us/sample - loss: 0.2496 - acc: 0.5170 - val_loss: 0.2502 - val_acc: 0.4985\nEpoch 14/50\n15235/15235 [==============================] - 2s 114us/sample - loss: 0.2496 - acc: 0.5196 - val_loss: 0.2502 - val_acc: 0.4989\nEpoch 15/50\n15235/15235 [==============================] - 2s 101us/sample - loss: 0.2496 - acc: 0.5164 - val_loss: 0.2502 - val_acc: 0.4929\nEpoch 16/50\n15235/15235 [==============================] - 2s 100us/sample - loss: 0.2496 - acc: 0.5157 - val_loss: 0.2502 - val_acc: 0.4946\nEpoch 17/50\n15235/15235 [==============================] - 2s 141us/sample - loss: 0.2496 - acc: 0.5157 - val_loss: 0.2502 - val_acc: 0.5011\nEpoch 18/50\n15235/15235 [==============================] - 2s 126us/sample - loss: 0.2496 - acc: 0.5229 - val_loss: 0.2504 - val_acc: 0.5011\nEpoch 19/50\n15235/15235 [==============================] - 2s 124us/sample - loss: 0.2496 - acc: 0.5176 - val_loss: 0.2503 - val_acc: 0.4975\nEpoch 20/50\n15235/15235 [==============================] - 3s 205us/sample - loss: 0.2496 - acc: 0.5170 - val_loss: 0.2502 - val_acc: 0.4979\nEpoch 21/50\n15235/15235 [==============================] - 2s 136us/sample - loss: 0.2496 - acc: 0.5201 - val_loss: 0.2502 - val_acc: 0.4962\nEpoch 22/50\n15235/15235 [==============================] - 2s 115us/sample - loss: 0.2495 - acc: 0.5147 - val_loss: 0.2503 - val_acc: 0.4962\nEpoch 23/50\n15235/15235 [==============================] - 2s 130us/sample - loss: 0.2496 - acc: 0.5169 - val_loss: 0.2503 - val_acc: 0.4943\nEpoch 24/50\n15235/15235 [==============================] - 2s 111us/sample - loss: 0.2496 - acc: 0.5190 - val_loss: 0.2504 - val_acc: 0.4956\nEpoch 25/50\n15235/15235 [==============================] - 2s 114us/sample - loss: 0.2496 - acc: 0.5157 - val_loss: 0.2502 - val_acc: 0.4962\nEpoch 26/50\n15235/15235 [==============================] - 2s 126us/sample - loss: 0.2495 - acc: 0.5202 - val_loss: 0.2502 - val_acc: 0.5011\nEpoch 27/50\n15235/15235 [==============================] - 2s 100us/sample - loss: 0.2496 - acc: 0.5184 - val_loss: 0.2502 - val_acc: 0.4992\nEpoch 28/50\n15235/15235 [==============================] - 2s 119us/sample - loss: 0.2496 - acc: 0.5185 - val_loss: 0.2502 - val_acc: 0.4982\nEpoch 29/50\n15235/15235 [==============================] - 2s 105us/sample - loss: 0.2496 - acc: 0.5185 - val_loss: 0.2503 - val_acc: 0.4982\nEpoch 30/50\n15235/15235 [==============================] - 2s 118us/sample - loss: 0.2496 - acc: 0.5164 - val_loss: 0.2502 - val_acc: 0.4992\nEpoch 31/50\n15235/15235 [==============================] - 2s 103us/sample - loss: 0.2496 - acc: 0.5127 - val_loss: 0.2502 - val_acc: 0.4962\nEpoch 32/50\n15235/15235 [==============================] - 2s 113us/sample - loss: 0.2496 - acc: 0.5199 - val_loss: 0.2502 - val_acc: 0.4962\nEpoch 33/50\n15235/15235 [==============================] - 2s 106us/sample - loss: 0.2496 - acc: 0.5172 - val_loss: 0.2502 - val_acc: 0.5005\nEpoch 34/50\n15235/15235 [==============================] - 2s 109us/sample - loss: 0.2495 - acc: 0.5159 - val_loss: 0.2504 - val_acc: 0.4992\nEpoch 35/50\n15235/15235 [==============================] - 2s 106us/sample - loss: 0.2495 - acc: 0.5185 - val_loss: 0.2502 - val_acc: 0.4949\nEpoch 36/50\n15235/15235 [==============================] - 2s 101us/sample - loss: 0.2495 - acc: 0.5180 - val_loss: 0.2503 - val_acc: 0.4966\nEpoch 37/50\n15235/15235 [==============================] - 2s 107us/sample - loss: 0.2495 - acc: 0.5178 - val_loss: 0.2502 - val_acc: 0.5002\nEpoch 38/50\n15235/15235 [==============================] - 2s 112us/sample - loss: 0.2496 - acc: 0.5194 - val_loss: 0.2502 - val_acc: 0.5025\nEpoch 39/50\n15235/15235 [==============================] - 2s 117us/sample - loss: 0.2495 - acc: 0.5155 - val_loss: 0.2502 - val_acc: 0.4985\nEpoch 40/50\n15235/15235 [==============================] - 2s 140us/sample - loss: 0.2495 - acc: 0.5187 - val_loss: 0.2502 - val_acc: 0.4998\nEpoch 41/50\n15235/15235 [==============================] - 2s 118us/sample - loss: 0.2495 - acc: 0.5199 - val_loss: 0.2503 - val_acc: 0.5015\nEpoch 42/50\n15235/15235 [==============================] - 2s 147us/sample - loss: 0.2495 - acc: 0.5193 - val_loss: 0.2502 - val_acc: 0.5011\nEpoch 43/50\n15235/15235 [==============================] - 2s 153us/sample - loss: 0.2495 - acc: 0.5204 - val_loss: 0.2502 - val_acc: 0.4992\nEpoch 44/50\n15235/15235 [==============================] - 2s 131us/sample - loss: 0.2495 - acc: 0.5187 - val_loss: 0.2502 - val_acc: 0.5018\nEpoch 45/50\n15235/15235 [==============================] - 2s 119us/sample - loss: 0.2495 - acc: 0.5180 - val_loss: 0.2502 - val_acc: 0.5028\nEpoch 46/50\n15235/15235 [==============================] - 2s 138us/sample - loss: 0.2495 - acc: 0.5207 - val_loss: 0.2502 - val_acc: 0.4952\nEpoch 47/50\n15235/15235 [==============================] - 2s 120us/sample - loss: 0.2495 - acc: 0.5204 - val_loss: 0.2502 - val_acc: 0.5002\nEpoch 48/50\n15235/15235 [==============================] - 2s 125us/sample - loss: 0.2495 - acc: 0.5195 - val_loss: 0.2502 - val_acc: 0.5015\nEpoch 49/50\n15235/15235 [==============================] - 2s 128us/sample - loss: 0.2495 - acc: 0.5197 - val_loss: 0.2505 - val_acc: 0.5008\nEpoch 50/50\n15235/15235 [==============================] - 2s 126us/sample - loss: 0.2495 - acc: 0.5161 - val_loss: 0.2502 - val_acc: 0.5005\n"
    },
    {
     "output_type": "execute_result",
     "data": {
      "text/plain": "<tensorflow.python.keras.callbacks.History at 0x1406c49e7f0>"
     },
     "metadata": {},
     "execution_count": 33
    }
   ],
   "source": [
    "model.fit(x_train, y_train, batch_size=50, epochs=50, validation_split = 1/6)"
   ]
  },
  {
   "cell_type": "code",
   "execution_count": 14,
   "metadata": {},
   "outputs": [],
   "source": [
    "# model.save('model1.h5')"
   ]
  },
  {
   "cell_type": "code",
   "execution_count": 31,
   "metadata": {},
   "outputs": [],
   "source": [
    "from sklearn.ensemble import RandomForestClassifier\n",
    "from sklearn.model_selection import train_test_split\n",
    "from sklearn.model_selection import cross_val_score\n",
    "from sklearn.model_selection import GridSearchCV"
   ]
  },
  {
   "cell_type": "code",
   "execution_count": 36,
   "metadata": {},
   "outputs": [],
   "source": [
    "X = df[df.columns[0:-1]]\n",
    "Y = df[\"result\"]\n",
    "x_train, x_test, y_train, y_test = train_test_split(X, Y, test_size=0.15)"
   ]
  },
  {
   "cell_type": "code",
   "execution_count": null,
   "metadata": {},
   "outputs": [],
   "source": [
    "scorel =[]\n",
    "for i in range(0,500,10):\n",
    "    rfc = RandomForestClassifier(n_estimators=i+1,\n",
    "                                    n_jobs=-1,\n",
    "                                    random_state=10\n",
    "                                )\n",
    "    score = cross_val_score(rfc, x_train, y_train, cv=10).mean()\n",
    "    scorel.append(score)\n",
    "print(max(scorel),(scorel.index(max(scorel))*10)+1)\n",
    "plt.plot(range(1,501,10), scorel)"
   ]
  },
  {
   "cell_type": "code",
   "execution_count": 37,
   "metadata": {},
   "outputs": [
    {
     "output_type": "stream",
     "name": "stdout",
     "text": "R^2 Training Score:0.9864856168350602 R^2 Validation Score:0.5038279256288735\n"
    },
    {
     "output_type": "execute_result",
     "data": {
      "text/plain": "                Variable  Importance\n0           top_win_rate    0.047013\n1   mid_kill_participate    0.046412\n2           mid_win_rate    0.046094\n3                mid_kda    0.045782\n4   top_kill_participate    0.045490\n5             mid_damage    0.045343\n6     mid_lane_kill_rate    0.045275\n7           sup_win_rate    0.045273\n8     top_lane_kill_rate    0.044880\n9   sup_kill_participate    0.044622\n10             jg_damage    0.044450\n11           jg_win_rate    0.044216\n12            top_damage    0.044122\n13   jg_kill_participate    0.044048\n14                jg_kda    0.042645\n15            adc_damage    0.042546\n16               top_kda    0.042287\n17    sup_lane_kill_rate    0.041989\n18          adc_win_rate    0.041634\n19               sup_kda    0.041196\n20    adc_lane_kill_rate    0.039694\n21               adc_kda    0.038240\n22  adc_kill_participate    0.036749",
      "text/html": "<div>\n<style scoped>\n    .dataframe tbody tr th:only-of-type {\n        vertical-align: middle;\n    }\n\n    .dataframe tbody tr th {\n        vertical-align: top;\n    }\n\n    .dataframe thead th {\n        text-align: right;\n    }\n</style>\n<table border=\"1\" class=\"dataframe\">\n  <thead>\n    <tr style=\"text-align: right;\">\n      <th></th>\n      <th>Variable</th>\n      <th>Importance</th>\n    </tr>\n  </thead>\n  <tbody>\n    <tr>\n      <th>0</th>\n      <td>top_win_rate</td>\n      <td>0.047013</td>\n    </tr>\n    <tr>\n      <th>1</th>\n      <td>mid_kill_participate</td>\n      <td>0.046412</td>\n    </tr>\n    <tr>\n      <th>2</th>\n      <td>mid_win_rate</td>\n      <td>0.046094</td>\n    </tr>\n    <tr>\n      <th>3</th>\n      <td>mid_kda</td>\n      <td>0.045782</td>\n    </tr>\n    <tr>\n      <th>4</th>\n      <td>top_kill_participate</td>\n      <td>0.045490</td>\n    </tr>\n    <tr>\n      <th>5</th>\n      <td>mid_damage</td>\n      <td>0.045343</td>\n    </tr>\n    <tr>\n      <th>6</th>\n      <td>mid_lane_kill_rate</td>\n      <td>0.045275</td>\n    </tr>\n    <tr>\n      <th>7</th>\n      <td>sup_win_rate</td>\n      <td>0.045273</td>\n    </tr>\n    <tr>\n      <th>8</th>\n      <td>top_lane_kill_rate</td>\n      <td>0.044880</td>\n    </tr>\n    <tr>\n      <th>9</th>\n      <td>sup_kill_participate</td>\n      <td>0.044622</td>\n    </tr>\n    <tr>\n      <th>10</th>\n      <td>jg_damage</td>\n      <td>0.044450</td>\n    </tr>\n    <tr>\n      <th>11</th>\n      <td>jg_win_rate</td>\n      <td>0.044216</td>\n    </tr>\n    <tr>\n      <th>12</th>\n      <td>top_damage</td>\n      <td>0.044122</td>\n    </tr>\n    <tr>\n      <th>13</th>\n      <td>jg_kill_participate</td>\n      <td>0.044048</td>\n    </tr>\n    <tr>\n      <th>14</th>\n      <td>jg_kda</td>\n      <td>0.042645</td>\n    </tr>\n    <tr>\n      <th>15</th>\n      <td>adc_damage</td>\n      <td>0.042546</td>\n    </tr>\n    <tr>\n      <th>16</th>\n      <td>top_kda</td>\n      <td>0.042287</td>\n    </tr>\n    <tr>\n      <th>17</th>\n      <td>sup_lane_kill_rate</td>\n      <td>0.041989</td>\n    </tr>\n    <tr>\n      <th>18</th>\n      <td>adc_win_rate</td>\n      <td>0.041634</td>\n    </tr>\n    <tr>\n      <th>19</th>\n      <td>sup_kda</td>\n      <td>0.041196</td>\n    </tr>\n    <tr>\n      <th>20</th>\n      <td>adc_lane_kill_rate</td>\n      <td>0.039694</td>\n    </tr>\n    <tr>\n      <th>21</th>\n      <td>adc_kda</td>\n      <td>0.038240</td>\n    </tr>\n    <tr>\n      <th>22</th>\n      <td>adc_kill_participate</td>\n      <td>0.036749</td>\n    </tr>\n  </tbody>\n</table>\n</div>"
     },
     "metadata": {},
     "execution_count": 37
    }
   ],
   "source": [
    "rfc = RandomForestClassifier(n_estimators=10,n_jobs=-1,random_state=10)\n",
    "rfc = rfc.fit(x_train,y_train)\n",
    "train_score = rfc.score(x_train, y_train)\n",
    "test_score = rfc.score(x_test, y_test)\n",
    "print('R^2 Training Score:{}'.format(train_score),'R^2 Validation Score:{}'.format(test_score))\n",
    "\n",
    "# print()\n",
    "# rfc.feature_importances_\n",
    "\n",
    "rfc_result = pd.concat((pd.DataFrame(X.columns, columns = ['Variable']), \n",
    "                pd.DataFrame(rfc.feature_importances_.T, columns = ['Importance'])), \n",
    "                axis = 1).sort_values(by='Importance', ascending = False)\n",
    "\n",
    "rfc_result.reset_index().drop([\"index\"],axis=1)"
   ]
  },
  {
   "cell_type": "code",
   "execution_count": null,
   "metadata": {},
   "outputs": [],
   "source": []
  }
 ],
 "metadata": {
  "language_info": {
   "codemirror_mode": {
    "name": "ipython",
    "version": 3
   },
   "file_extension": ".py",
   "mimetype": "text/x-python",
   "name": "python",
   "nbconvert_exporter": "python",
   "pygments_lexer": "ipython3",
   "version": "3.7.3-final"
  },
  "orig_nbformat": 2,
  "kernelspec": {
   "name": "python3",
   "display_name": "Python 3"
  }
 },
 "nbformat": 4,
 "nbformat_minor": 2
}