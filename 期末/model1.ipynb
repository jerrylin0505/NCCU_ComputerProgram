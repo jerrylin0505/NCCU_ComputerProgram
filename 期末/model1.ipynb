{
 "cells": [
  {
   "cell_type": "code",
   "execution_count": 16,
   "metadata": {},
   "outputs": [],
   "source": [
    "%matplotlib inline\n",
    "# Import some useful packages\n",
    "import matplotlib.pyplot as plt\n",
    "import numpy as np\n",
    "import pandas as pd\n",
    "\n",
    "# For data preprocessing\n",
    "from tensorflow.keras.utils import to_categorical\n",
    "\n",
    "# Layers for FNN\n",
    "from tensorflow.keras.models import Sequential\n",
    "from tensorflow.keras.layers import Dense\n",
    "from tensorflow.keras.layers import Flatten\n",
    "from tensorflow.keras.optimizers import SGD"
   ]
  },
  {
   "cell_type": "code",
   "execution_count": 2,
   "metadata": {},
   "outputs": [],
   "source": [
    "df = pd.read_csv('euw.csv')"
   ]
  },
  {
   "cell_type": "code",
   "execution_count": 3,
   "metadata": {},
   "outputs": [],
   "source": [
    "df.drop(df.columns[0], axis=1, inplace=True)"
   ]
  },
  {
   "cell_type": "code",
   "execution_count": 4,
   "metadata": {},
   "outputs": [],
   "source": [
    "x_train = df[df.columns[1:]]\n",
    "y_train = df[\"result\"]"
   ]
  },
  {
   "cell_type": "code",
   "execution_count": 5,
   "metadata": {},
   "outputs": [
    {
     "output_type": "execute_result",
     "data": {
      "text/plain": "(2865, 23)"
     },
     "metadata": {},
     "execution_count": 5
    }
   ],
   "source": [
    "x_train.shape"
   ]
  },
  {
   "cell_type": "code",
   "execution_count": 14,
   "metadata": {},
   "outputs": [
    {
     "output_type": "execute_result",
     "data": {
      "text/plain": "(2865, 2)"
     },
     "metadata": {},
     "execution_count": 14
    }
   ],
   "source": [
    "y_train.shape"
   ]
  },
  {
   "cell_type": "code",
   "execution_count": 6,
   "metadata": {},
   "outputs": [],
   "source": [
    "y_train = to_categorical(y_train, 2)"
   ]
  },
  {
   "cell_type": "code",
   "execution_count": 7,
   "metadata": {},
   "outputs": [
    {
     "output_type": "execute_result",
     "data": {
      "text/plain": "array([1., 0.], dtype=float32)"
     },
     "metadata": {},
     "execution_count": 7
    }
   ],
   "source": [
    "y_train[1003]"
   ]
  },
  {
   "cell_type": "code",
   "execution_count": 19,
   "metadata": {},
   "outputs": [],
   "source": [
    "FC_layers = [Dense(units=256, input_dim=23, activation='relu'),\n",
    "             Dense(units=128, activation = 'relu'),\n",
    "             Dense(units=2, activation='softmax')]"
   ]
  },
  {
   "cell_type": "code",
   "execution_count": 20,
   "metadata": {},
   "outputs": [
    {
     "output_type": "stream",
     "name": "stdout",
     "text": "Model: \"sequential_4\"\n_________________________________________________________________\nLayer (type)                 Output Shape              Param #   \n=================================================================\ndense_11 (Dense)             (None, 256)               6144      \n_________________________________________________________________\ndense_12 (Dense)             (None, 128)               32896     \n_________________________________________________________________\ndense_13 (Dense)             (None, 2)                 258       \n=================================================================\nTotal params: 39,298\nTrainable params: 39,298\nNon-trainable params: 0\n_________________________________________________________________\n"
    }
   ],
   "source": [
    "model = Sequential(FC_layers)\n",
    "# model.add(Dense(87, input_dim=784, activation='relu'))\n",
    "# model.add(Dense(128,activation = 'relu'))\n",
    "# model.add(Dense(10, activation='softmax'))\n",
    "model.summary()"
   ]
  },
  {
   "cell_type": "code",
   "execution_count": 30,
   "metadata": {},
   "outputs": [],
   "source": [
    "model.compile(loss='mse', optimizer=SGD(lr=0.1), metrics=['accuracy'])"
   ]
  },
  {
   "cell_type": "code",
   "execution_count": 31,
   "metadata": {},
   "outputs": [
    {
     "output_type": "stream",
     "name": "stdout",
     "text": "Epoch 1/50\n2865/2865 [==============================] - 1s 190us/sample - loss: 0.2494 - acc: 0.5215\nEpoch 2/50\n2865/2865 [==============================] - 0s 171us/sample - loss: 0.2495 - acc: 0.5236\nEpoch 3/50\n2865/2865 [==============================] - 1s 204us/sample - loss: 0.2497 - acc: 0.5106\nEpoch 4/50\n2865/2865 [==============================] - 0s 82us/sample - loss: 0.2494 - acc: 0.5260\nEpoch 5/50\n2865/2865 [==============================] - 0s 88us/sample - loss: 0.2487 - acc: 0.5215\nEpoch 6/50\n2865/2865 [==============================] - 0s 91us/sample - loss: 0.2494 - acc: 0.5204\nEpoch 7/50\n2865/2865 [==============================] - 0s 88us/sample - loss: 0.2495 - acc: 0.5075\nEpoch 8/50\n2865/2865 [==============================] - 0s 74us/sample - loss: 0.2490 - acc: 0.5215\nEpoch 9/50\n2865/2865 [==============================] - 0s 61us/sample - loss: 0.2496 - acc: 0.5197\nEpoch 10/50\n2865/2865 [==============================] - 0s 82us/sample - loss: 0.2496 - acc: 0.5176\nEpoch 11/50\n2865/2865 [==============================] - 0s 91us/sample - loss: 0.2491 - acc: 0.5208\nEpoch 12/50\n2865/2865 [==============================] - 0s 112us/sample - loss: 0.2491 - acc: 0.5246\nEpoch 13/50\n2865/2865 [==============================] - 0s 124us/sample - loss: 0.2493 - acc: 0.5180\nEpoch 14/50\n2865/2865 [==============================] - 0s 70us/sample - loss: 0.2491 - acc: 0.5134\nEpoch 15/50\n2865/2865 [==============================] - 0s 173us/sample - loss: 0.2496 - acc: 0.5204\nEpoch 16/50\n2865/2865 [==============================] - 0s 61us/sample - loss: 0.2492 - acc: 0.5190\nEpoch 17/50\n2865/2865 [==============================] - 0s 107us/sample - loss: 0.2492 - acc: 0.5246\nEpoch 18/50\n2865/2865 [==============================] - 0s 89us/sample - loss: 0.2495 - acc: 0.5180\nEpoch 19/50\n2865/2865 [==============================] - 0s 59us/sample - loss: 0.2493 - acc: 0.5291\nEpoch 20/50\n2865/2865 [==============================] - 0s 60us/sample - loss: 0.2495 - acc: 0.5162\nEpoch 21/50\n2865/2865 [==============================] - 0s 89us/sample - loss: 0.2500 - acc: 0.5092\nEpoch 22/50\n2865/2865 [==============================] - 0s 77us/sample - loss: 0.2493 - acc: 0.5169\nEpoch 23/50\n2865/2865 [==============================] - 0s 110us/sample - loss: 0.2487 - acc: 0.5155\nEpoch 24/50\n2865/2865 [==============================] - 0s 99us/sample - loss: 0.2491 - acc: 0.5187\nEpoch 25/50\n2865/2865 [==============================] - 0s 145us/sample - loss: 0.2493 - acc: 0.5176\nEpoch 26/50\n2865/2865 [==============================] - 0s 141us/sample - loss: 0.2491 - acc: 0.5211\nEpoch 27/50\n2865/2865 [==============================] - 0s 123us/sample - loss: 0.2495 - acc: 0.5148\nEpoch 28/50\n2865/2865 [==============================] - 0s 96us/sample - loss: 0.2492 - acc: 0.5201\nEpoch 29/50\n2865/2865 [==============================] - 0s 78us/sample - loss: 0.2490 - acc: 0.5246\nEpoch 30/50\n2865/2865 [==============================] - 0s 98us/sample - loss: 0.2490 - acc: 0.5316\nEpoch 31/50\n2865/2865 [==============================] - 0s 92us/sample - loss: 0.2487 - acc: 0.5264\nEpoch 32/50\n2865/2865 [==============================] - 1s 181us/sample - loss: 0.2490 - acc: 0.5194\nEpoch 33/50\n2865/2865 [==============================] - 0s 93us/sample - loss: 0.2487 - acc: 0.5298\nEpoch 34/50\n2865/2865 [==============================] - 0s 93us/sample - loss: 0.2490 - acc: 0.5201\nEpoch 35/50\n2865/2865 [==============================] - 0s 79us/sample - loss: 0.2492 - acc: 0.5208\nEpoch 36/50\n2865/2865 [==============================] - 0s 81us/sample - loss: 0.2491 - acc: 0.5145\nEpoch 37/50\n2865/2865 [==============================] - 0s 86us/sample - loss: 0.2494 - acc: 0.5211\nEpoch 38/50\n2865/2865 [==============================] - 0s 84us/sample - loss: 0.2488 - acc: 0.5295\nEpoch 39/50\n2865/2865 [==============================] - 0s 92us/sample - loss: 0.2493 - acc: 0.5232\nEpoch 40/50\n2865/2865 [==============================] - 0s 74us/sample - loss: 0.2487 - acc: 0.5166\nEpoch 41/50\n2865/2865 [==============================] - 0s 74us/sample - loss: 0.2492 - acc: 0.5236\nEpoch 42/50\n2865/2865 [==============================] - 0s 71us/sample - loss: 0.2492 - acc: 0.5180\nEpoch 43/50\n2865/2865 [==============================] - 0s 72us/sample - loss: 0.2491 - acc: 0.5166\nEpoch 44/50\n2865/2865 [==============================] - 0s 73us/sample - loss: 0.2493 - acc: 0.5232\nEpoch 45/50\n2865/2865 [==============================] - 0s 85us/sample - loss: 0.2492 - acc: 0.5187\nEpoch 46/50\n2865/2865 [==============================] - 0s 78us/sample - loss: 0.2492 - acc: 0.5138\nEpoch 47/50\n2865/2865 [==============================] - 0s 66us/sample - loss: 0.2494 - acc: 0.5159\nEpoch 48/50\n2865/2865 [==============================] - 0s 123us/sample - loss: 0.2490 - acc: 0.5295\nEpoch 49/50\n2865/2865 [==============================] - 0s 93us/sample - loss: 0.2489 - acc: 0.5281\nEpoch 50/50\n2800/2865 [============================>.] - ETA: 0s - loss: 0.2486 - acc: 0.5252865/2865 [==============================] - 0s 100us/sample - loss: 0.2485 - acc: 0.5260\n"
    },
    {
     "output_type": "execute_result",
     "data": {
      "text/plain": "<tensorflow.python.keras.callbacks.History at 0x1f6eff55e80>"
     },
     "metadata": {},
     "execution_count": 31
    }
   ],
   "source": [
    "model.fit(x_train, y_train, batch_size=80, epochs=50)"
   ]
  },
  {
   "cell_type": "code",
   "execution_count": null,
   "metadata": {},
   "outputs": [],
   "source": []
  }
 ],
 "metadata": {
  "language_info": {
   "codemirror_mode": {
    "name": "ipython",
    "version": 3
   },
   "file_extension": ".py",
   "mimetype": "text/x-python",
   "name": "python",
   "nbconvert_exporter": "python",
   "pygments_lexer": "ipython3",
   "version": "3.7.3-final"
  },
  "orig_nbformat": 2,
  "kernelspec": {
   "name": "python3",
   "display_name": "Python 3"
  }
 },
 "nbformat": 4,
 "nbformat_minor": 2
}