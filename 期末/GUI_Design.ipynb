{
 "cells": [
  {
   "cell_type": "code",
   "execution_count": 1,
   "metadata": {},
   "outputs": [],
   "source": [
    "import tkinter as tk\n",
    "from tkinter import ttk\n",
    "from PIL import ImageTk as itk\n",
    "from PIL import Image\n",
    "import requests\n",
    "import numpy as np\n",
    "\n",
    "from tensorflow.keras.models import load_model"
   ]
  },
  {
   "cell_type": "code",
   "execution_count": 2,
   "metadata": {},
   "outputs": [],
   "source": [
    "model = load_model('model1.h5')"
   ]
  },
  {
   "cell_type": "markdown",
   "metadata": {},
   "source": [
    "### 畫布大小"
   ]
  },
  {
   "cell_type": "code",
   "execution_count": 3,
   "metadata": {},
   "outputs": [],
   "source": [
    "WIDTH = 1280\n",
    "HEIGHT = 720"
   ]
  },
  {
   "cell_type": "markdown",
   "metadata": {},
   "source": [
    "### 定義function"
   ]
  },
  {
   "cell_type": "code",
   "execution_count": 4,
   "metadata": {},
   "outputs": [],
   "source": [
    "# 按下GO後 把輸入資料整理成List\n",
    "def match_result():\n",
    "\tresult = []\n",
    "\tresult.append(clicked.get())\n",
    "\tfor i in range(10):\n",
    "\t\tresult.append(input_info2[i].get())\n",
    "\tx_predict = np.random.random((1,23))\n",
    "\tprint(result)\n",
    "\tpredict(x_predict)\n",
    "\t# return result\n",
    "\n",
    "# 用List卻抓取對戰資料庫的資料\n",
    "# def get_database():\n",
    "\n",
    "# predict(x_predict)\n",
    "\n",
    "# 把資料整理好丟到訓練的Model去預測\n",
    "def predict(x_predict):\n",
    "\tprediction = model.predict_classes(x_predict)\n",
    "\tif prediction ==1:\n",
    "\t\tresult[\"text\"]= 'Win'\n",
    "\telse:\n",
    "\t\tresult[\"text\"]= 'Defeat'"
   ]
  },
  {
   "cell_type": "markdown",
   "metadata": {},
   "source": [
    "### GUI介面"
   ]
  },
  {
   "cell_type": "code",
   "execution_count": 7,
   "metadata": {},
   "outputs": [
    {
     "output_type": "stream",
     "name": "stdout",
     "text": "['Choose your Side', 'Choose Champions', 'Choose Champions', 'Choose Champions', 'Choose Champions', 'Choose Champions', 'Choose Champions', 'Choose Champions', 'Choose Champions', 'Choose Champions', 'Choose Champions']\n"
    }
   ],
   "source": [
    "root = tk.Tk()\n",
    "canvas = tk.Canvas(root, height=HEIGHT, width=WIDTH)\n",
    "canvas.pack()\n",
    "\n",
    "# 背景圖片\n",
    "background_image = itk.PhotoImage(Image.open('lol_background.jpg'))\n",
    "background_label = tk.Label(root, image=background_image)\n",
    "background_label.place(relwidth=1, relheight=1)\n",
    "\n",
    "\n",
    "# 整個選單\n",
    "frame = tk.Frame(root, bg='#80c1ff', bd=10)\n",
    "frame.place(relx=0.5, rely=0.2, relwidth=0.3, relheight=0.6, anchor='n')\n",
    "\n",
    "# 選擇藍紫方\n",
    "team_options=[\"Blue team\", 'Purple Team']\n",
    "\n",
    "clicked = tk.StringVar()\n",
    "clicked.set(\"Choose your Side\")\n",
    "\n",
    "menu = tk.OptionMenu(frame, clicked, *team_options)\n",
    "menu.place(relx=0.1, rely=0, relwidth=0.8, relheight=0.1)\n",
    "\n",
    "# 選擇己方和敵方英雄組合\n",
    "Team = [\"Ally\",\"Enemy\"]\n",
    "Team_Color = [\"#00EC00\",\"#CE0000\"]\n",
    "Lane = [\"Top\",\"Jg\",\"Mid\",\"AD\",\"Sup\"]\n",
    "\n",
    "\n",
    "dict = {'Aatrox': '266', 'Ahri': '103', 'Akali': '84', 'Alistar': '12', 'Amumu': '32', 'Anivia': '34', 'Annie': '1', 'Aphelios': '523',\n",
    "            'Ashe': '22', 'Aurelion Sol': '136', 'Azir': '268', 'Bard': '432', 'Blitzcrank': '53', 'Brand': '63', 'Braum': '201', 'Caitlyn': '51',\n",
    "            'Camille': '164', 'Cassiopeia': '69', \"Cho'Gath\": '31', 'Corki': '42', 'Darius': '122', 'Diana': '131', 'Dr. Mundo': '36', 'Draven': '119',\n",
    "            'Ekko': '245', 'Elise': '60', 'Evelynn': '28', 'Ezreal': '81', 'Fiddlesticks': '9', 'Fiora': '114', 'Fizz': '105', 'Galio': '3', \n",
    "            'Gangplank': '41', 'Garen': '86', 'Gnar': '150', 'Gragas': '79', 'Graves': '104', 'Hecarim': '120', 'Heimerdinger': '74', 'Illaoi': '420',\n",
    "            'Irelia': '39', 'Ivern': '427', 'Janna': '40', 'Jarvan IV': '59', 'Jax': '24', 'Jayce': '126', 'Jhin': '202', 'Jinx': '222',\n",
    "            \"Kai'Sa\": '145', 'Kalista': '429', 'Karma': '43', 'Karthus': '30', 'Kassadin': '38', 'Katarina': '55', 'Kayle': '10', 'Kayn': '141',\n",
    "            'Kennen': '85', \"Kha'Zix\": '121', 'Kindred': '203', 'Kled': '240', \"Kog'Maw\": '96', 'LeBlanc': '7', 'Lee Sin': '64', 'Leona': '89', \n",
    "            'Lissandra': '127', 'Lucian': '236', 'Lulu': '117', 'Lux': '99', 'Malphite': '54', 'Malzahar': '90', 'Maokai': '57', 'Master Yi': '11',\n",
    "            'Miss Fortune': '21', 'Mordekaiser': '82', 'Morgana': '25', 'Nami': '267', 'Nasus': '75', 'Nautilus': '111', 'Neeko': '518',\n",
    "            'Nidalee': '76', 'Nocturne': '56', 'Nunu & Willump': '20', 'Olaf': '2', 'Orianna': '61', 'Ornn': '516', 'Pantheon': '80', 'Poppy': '78',\n",
    "            'Pyke': '555', 'Qiyana': '246', 'Quinn': '133', 'Rakan': '497', 'Rammus': '33', \"Rek'Sai\": '421', 'Renekton': '58', 'Rengar': '107',\n",
    "            'Riven': '92', 'Rumble': '68', 'Ryze': '13', 'Sejuani': '113', 'Senna': '235', 'Sett': '875', 'Shaco': '35', 'Shen': '98', \n",
    "            'Shyvana': '102', 'Singed': '27', 'Sion': '14', 'Sivir': '15', 'Skarner':'72', 'Sona': '37', 'Soraka': '16', 'Swain': '50', 'Sylas': '517', \n",
    "            'Syndra': '134', 'Tahm Kench': '223', 'Taliyah': '163', 'Talon': '91', 'Taric': '44', 'Teemo': '17', 'Thresh': '412', 'Tristana': '18',\n",
    "            'Trundle': '48', 'Tryndamere': '23', 'Twisted Fate': '4', 'Twitch': '29', 'Udyr': '77', 'Urgot': '6', 'Varus': '110', 'Vayne': '67',\n",
    "            'Veigar': '45', \"Vel'Koz\": '161', 'Vi': '254', 'Viktor': '112', 'Vladimir': '8', 'Volibear': '106', 'Warwick': '19', 'Wukong': '62', \n",
    "            'Xayah': '498', 'Xerath': '101', 'Xin Zhao': '5', 'Yasuo': '157', 'Yorick': '83', 'Yuumi': '350', 'Zac': '154', 'Zed': '238',\n",
    "            'Ziggs': '115', 'Zilean': '26', 'Zoe': '142', 'Zyra': '143'}\n",
    "champions_options = list(dict.keys())\n",
    "\n",
    "\n",
    "input_info2=[tk.StringVar(),tk.StringVar(),tk.StringVar(),tk.StringVar(),tk.StringVar(),tk.StringVar(),tk.StringVar(),tk.StringVar(),tk.StringVar(),tk.StringVar()]\n",
    "\n",
    "for j in range(2):\n",
    "    team_label_j = tk.Label(frame, text=Team[j], bg=Team_Color[j])\n",
    "    team_label_j.place(relx=j/2+0.25, rely=0.15, relwidth=0.3, relheight=0.1, anchor='n')    \n",
    "    for i in range(5):\n",
    "            champion_label_i_j = tk.Label(frame, text=Lane[i], bg='#'+str(i+4)+'66')\n",
    "            champion_label_i_j.place(relx=j/2+0.05, rely=i/8+0.3,relwidth=0.1, relheight=0.1)\n",
    "            champions_menu_i_j = ttk.Combobox(frame,state='readonly', textvariable=input_info2[i+j*5], value=champions_options)\n",
    "            # champions_menu_i_j.current()\n",
    "            champions_menu_i_j.place(relx=j/2+0.15, rely=i/8+0.3, relwidth=0.3, relheight=0.1) \n",
    "            champions_menu_i_j.set(\"Choose Champions\")   \n",
    "\n",
    "# \"GO\"查詢按鈕\n",
    "button = tk.Button(frame, text=\"GO\", font=12, command=match_result)\n",
    "button.place(relx=0.5, rely=0.94, relwidth=0.2, relheight=0.08,anchor='n')\n",
    "\n",
    "\n",
    "# \"結果顯示器\n",
    "frame2 = tk.Frame(root, bg='#80c1ff', bd=10)\n",
    "frame2.place(relx=0.5, rely=0.8, relwidth=0.3, relheight=0.1, anchor='n')\n",
    "\n",
    "result = tk.Label(frame2, font=14)\n",
    "result.place(relwidth=1, relheight=1)\n",
    "\n",
    "#執行GUI的迴圈\n",
    "root.mainloop()"
   ]
  },
  {
   "cell_type": "code",
   "execution_count": null,
   "metadata": {},
   "outputs": [],
   "source": []
  }
 ],
 "metadata": {
  "language_info": {
   "codemirror_mode": {
    "name": "ipython",
    "version": 3
   },
   "file_extension": ".py",
   "mimetype": "text/x-python",
   "name": "python",
   "nbconvert_exporter": "python",
   "pygments_lexer": "ipython3",
   "version": "3.7.4-final"
  },
  "orig_nbformat": 2,
  "kernelspec": {
   "name": "python3",
   "display_name": "Python 3"
  }
 },
 "nbformat": 4,
 "nbformat_minor": 2
}