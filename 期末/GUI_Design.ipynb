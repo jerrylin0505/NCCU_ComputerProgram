{
 "cells": [
  {
   "cell_type": "code",
   "execution_count": 1,
   "metadata": {},
   "outputs": [],
   "source": [
    "import tkinter as tk\n",
    "from tkinter import ttk\n",
    "from PIL import ImageTk as itk\n",
    "from PIL import Image\n",
    "import requests\n",
    "import numpy as np\n",
    "import pandas as pd\n",
    "from tensorflow.keras.models import load_model"
   ]
  },
  {
   "cell_type": "markdown",
   "metadata": {},
   "source": [
    "### 把Info資料庫和建好的模型導入"
   ]
  },
  {
   "cell_type": "code",
   "execution_count": 2,
   "metadata": {},
   "outputs": [
    {
     "output_type": "stream",
     "name": "stdout",
     "text": "WARNING:tensorflow:From D:\\Anaconda\\lib\\site-packages\\tensorflow\\python\\ops\\init_ops.py:97: calling GlorotUniform.__init__ (from tensorflow.python.ops.init_ops) with dtype is deprecated and will be removed in a future version.\nInstructions for updating:\nCall initializer instance with the dtype argument instead of passing it to the constructor\nWARNING:tensorflow:From D:\\Anaconda\\lib\\site-packages\\tensorflow\\python\\ops\\init_ops.py:1251: calling VarianceScaling.__init__ (from tensorflow.python.ops.init_ops) with dtype is deprecated and will be removed in a future version.\nInstructions for updating:\nCall initializer instance with the dtype argument instead of passing it to the constructor\nWARNING:tensorflow:From D:\\Anaconda\\lib\\site-packages\\tensorflow\\python\\ops\\init_ops.py:97: calling Zeros.__init__ (from tensorflow.python.ops.init_ops) with dtype is deprecated and will be removed in a future version.\nInstructions for updating:\nCall initializer instance with the dtype argument instead of passing it to the constructor\n"
    }
   ],
   "source": [
    "df = pd.read_csv(\"info.csv\")\n",
    "model = load_model('model1.h5')"
   ]
  },
  {
   "cell_type": "markdown",
   "metadata": {},
   "source": [
    "### 設定畫布Canvas大小"
   ]
  },
  {
   "cell_type": "code",
   "execution_count": 3,
   "metadata": {},
   "outputs": [],
   "source": [
    "WIDTH = 1280\n",
    "HEIGHT = 720"
   ]
  },
  {
   "cell_type": "markdown",
   "metadata": {},
   "source": [
    "### 定義function"
   ]
  },
  {
   "cell_type": "code",
   "execution_count": 4,
   "metadata": {},
   "outputs": [],
   "source": [
    "# 按下GO後 把輸入資料整理成List\n",
    "def match_result():\n",
    "\tmatch = []\n",
    "\tmatch.append(clicked.get())\n",
    "\tfor i in range(10):\n",
    "\t\tmatch.append(input_info2[i].get())\n",
    "\t# x_predict = np.random.random((1,23))\n",
    "\tprint(match)\n",
    "\tget_database(match)\n",
    "\n",
    "# 用整理好的List抓取資料庫的資料\n",
    "def get_database(match):\n",
    "\tx_predict = []\n",
    "\t#將藍紫隊轉換為Binary\n",
    "\t# if result[0] == \"Blue team\":\n",
    "\t# \tx_predict.extend(1)\n",
    "\t# else:\n",
    "\t# \tx_predict.extend(0)\n",
    "\t#去找資料庫裡的英雄對陣數據\n",
    "\tfor i in range(5):\n",
    "\t\t# JG\n",
    "\t\tif i == 1:\n",
    "\t\t\tif df[(df[\"summoner_a\"]==match[i+1]) & (df[\"summoner_b\"]==match[i+6]) & (df[\"position\"]==i)].empty == True:\n",
    "\t\t\t\tx_predict.extend([0.5,0.5,0.5,0.5])\n",
    "\t\t\telse:\n",
    "\t\t\t\tx_predict.extend(round(df[(df[\"summoner_a\"]==match[i+1]) & (df[\"summoner_b\"]==match[i+6]) & (df[\"position\"]==i)].iloc[:,[4,6,7,8]],4).values.tolist()[0])\n",
    "\t\t# SUP\n",
    "\t\telif i == 4:\n",
    "\t\t\tif df[(df[\"summoner_a\"]==match[i+1]) & (df[\"summoner_b\"]==match[i+6]) & (df[\"position\"]==i)].empty == True:\n",
    "\t\t\t\tx_predict.extend([0.5,0.5,0.5,0.5])\n",
    "\t\t\telse:\n",
    "\t\t\t\tx_predict.extend(round(df[(df[\"summoner_a\"]==match[i+1]) & (df[\"summoner_b\"]==match[i+6]) & (df[\"position\"]==i)].iloc[:,[4,5,6,7]],4).values.tolist()[0])\n",
    "\t\telse:\n",
    "\t\t\tif df[(df[\"summoner_a\"]==match[i+1]) & (df[\"summoner_b\"]==match[i+6]) & (df[\"position\"]==i)].empty == True:\n",
    "\t\t\t\tx_predict.extend([0.5,0.5,0.5,0.5,0.5])\n",
    "\t\t\telse:\n",
    "\t\t\t\tx_predict.extend(round(df[(df[\"summoner_a\"]==match[i+1]) & (df[\"summoner_b\"]==match[i+6]) & (df[\"position\"]==i)].iloc[0:1,4:9],4).values.tolist()[0])\n",
    "\tprint(x_predict)\n",
    "\tpredict(np.array([x_predict]))\n",
    "\n",
    "# 把資料整理好丟到訓練的Model去預測\n",
    "def predict(x_predict):\n",
    "\tprediction = model.predict_classes(x_predict)\n",
    "\tif prediction ==1:\n",
    "\t\tresult[\"text\"]= 'Win'\n",
    "\telse:\n",
    "\t\tresult[\"text\"]= 'Defeat'"
   ]
  },
  {
   "cell_type": "markdown",
   "metadata": {},
   "source": [
    "### GUI介面"
   ]
  },
  {
   "cell_type": "code",
   "execution_count": 7,
   "metadata": {},
   "outputs": [
    {
     "output_type": "stream",
     "name": "stdout",
     "text": "['Choose your Side', '選擇英雄', '選擇英雄', '選擇英雄', '選擇英雄', '伊瑞莉雅', '選擇英雄', '選擇英雄', '選擇英雄', '選擇英雄', '選擇英雄']\n[0.5, 0.5, 0.5, 0.5, 0.5, 0.5, 0.5, 0.5, 0.5, 0.5, 0.5, 0.5, 0.5, 0.5, 0.5, 0.5, 0.5, 0.5, 0.5, 0.5, 0.5, 0.5, 0.5]\n['Choose your Side', '選擇英雄', '選擇英雄', '選擇英雄', '選擇英雄', '伊瑞莉雅', '選擇英雄', '選擇英雄', '伊羅旖', '選擇英雄', '選擇英雄']\n[0.5, 0.5, 0.5, 0.5, 0.5, 0.5, 0.5, 0.5, 0.5, 0.5, 0.5, 0.5, 0.5, 0.5, 0.5, 0.5, 0.5, 0.5, 0.5, 0.5, 0.5, 0.5, 0.5]\n"
    }
   ],
   "source": [
    "root = tk.Tk()\n",
    "canvas = tk.Canvas(root, height=HEIGHT, width=WIDTH)\n",
    "canvas.pack()\n",
    "\n",
    "# 背景圖片\n",
    "background_image = itk.PhotoImage(Image.open('lol_background.jpg'))\n",
    "background_label = tk.Label(root, image=background_image)\n",
    "background_label.place(relwidth=1, relheight=1)\n",
    "\n",
    "\n",
    "# 整個選單\n",
    "frame = tk.Frame(root, bg='#80c1ff', bd=10)\n",
    "frame.place(relx=0.5, rely=0.2, relwidth=0.3, relheight=0.6, anchor='n')\n",
    "\n",
    "# 選擇藍紫方\n",
    "team_options=[\"Blue team\", 'Purple Team']\n",
    "\n",
    "clicked = tk.StringVar()\n",
    "clicked.set(\"Choose your Side\")\n",
    "\n",
    "menu = tk.OptionMenu(frame, clicked, *team_options)\n",
    "menu.place(relx=0.1, rely=0, relwidth=0.8, relheight=0.1)\n",
    "\n",
    "# 選擇己方和敵方英雄組合\n",
    "Team = [\"Ally\",\"Enemy\"]\n",
    "Team_Color = [\"#00EC00\",\"#CE0000\"]\n",
    "Lane = [\"Top\",\"Jg\",\"Mid\",\"AD\",\"Sup\"]\n",
    "\n",
    "#英雄字典\n",
    "dict = {'亞歷斯塔': '12', '亞菲利歐': '523', '伊澤瑞爾': '81', '伊瑞莉雅': '39', '伊羅旖': '420', '伊芙琳': '28', '伊莉絲': '60', '克雷德': '240', '克黎思妲': '429', '凱爾': '10', '凱特琳': '51', '凱能': '85', '凱莎': '145', '剎雅': '498', '剛普朗克': '41', '加里歐': '3', '努努和威朗普': '20', '劫': '238', '勒布朗': '7', '卡力斯': '121', '卡爾瑟斯': '30', '卡特蓮娜': '55', '卡瑪': '43', '卡莎碧雅': '69', '卡薩丁': '38', '卡蜜兒': '164', '厄薩斯': '266', '古拉格斯': '79', '史瓦妮': '113', '吉茵珂絲': '222', '吶兒': '150', '嘉文四世': '59', '圖奇': '29', '埃爾文': '427', '塔莉雅': '163', '塔里克': '44', '塔隆': '91', '墨菲特': '54', '夜曲': '56', '奈德麗': '76', '奧莉安娜': '61', '好運姐': '21', '妮可': '518', '姍娜': '235', '姬亞娜': '246', '威寇茲': '161', '娜米': '267', '安妮': '1', '寇格魔': '96', '崔絲塔娜': '18', '巴德': '432', '布蘭德': '63', '布郎姆': '201', '布里茨': '53', '希格斯': '115', '希瓦娜': '102', '希維爾': '15', '庫奇': '42', '弗力貝爾': '106', '弗拉迪米爾': '8', '悟空': '62', '悠咪': '350', '慎': '98', '慨影': '141', '拉克絲': '99', '拉姆斯': '33', '提摩': '17', '斯溫': '50', '易大師': '11', '星朵拉': '134', '札克': '154', '李星': '64', '杰西': '126', '枷蘿': '143', '柔依': '142', '極靈': '26', '歐拉夫': '2', '汎': '67', '沃維克': '19', '法洛士': '110', '波比': '78', '泰達米爾': '23', '派克': '555', '漢默丁格': '74', '潘森': '80', '烏爾加特': '6', '烏迪爾': '77', '燼': '202', '特朗德': '48', '犽宿': '157', '珍娜': '40', '瑟雷西': '412', '科加斯': '31', '約瑞科': '83', '納帝魯斯': '111', '納瑟斯': '75', '索娜': '37', '索拉卡': '16', '維克特': '112', '維迦': '45', '翱銳龍獸': '136', '艾克': '245', '艾妮維亞': '34', '艾希': '22', '茂凱': '57', '菲歐拉': '114', '菲艾': '254', '葛雷夫': '104', '葵恩': '133', '蒙多醫生': '36', '蓋倫': '86', '薩科': '35', '藍寶': '68', '貪啃奇': '223', '費德提克': '9', '賈克斯': '24', '賽勒斯': '517', '賽恩': '14', '賽特': '875', '赫克林': '120', '趙信': '5', '路西恩': '236', '辛吉德': '27', '逆命': '4', '達瑞文': '119', '達瑞斯': '122', '鄂爾': '516', '銳空': '497', '鏡爪': '203', '阿卡莉': '84', '阿姆姆': '32', '阿璃': '103', '阿祈爾': '268', '雷尼克頓': '58', '雷歐娜': '89', '雷玟': '92', '雷珂煞': '421', '雷茲': '13', '雷葛爾': '107', '露璐': '117', '飛斯': '105', '馬爾札哈': '90', '魔甘娜': '25', '魔鬥凱薩': '82', '麗珊卓': '127', '黛安娜': '131', '齊勒斯': '101', '史加納': '72'}\n",
    "\n",
    "champions_options = list(dict.keys())\n",
    "\n",
    "input_info2=[tk.StringVar(),tk.StringVar(),tk.StringVar(),tk.StringVar(),tk.StringVar(),tk.StringVar(),tk.StringVar(),tk.StringVar(),tk.StringVar(),tk.StringVar()]\n",
    "\n",
    "#把各個輸入英雄的欄位按鈕設計出來\n",
    "for j in range(2):\n",
    "    team_label_j = tk.Label(frame, text=Team[j], bg=Team_Color[j])\n",
    "    team_label_j.place(relx=j/2+0.25, rely=0.15, relwidth=0.3, relheight=0.1, anchor='n')    \n",
    "    for i in range(5):\n",
    "            champion_label_i_j = tk.Label(frame, text=Lane[i], bg='#'+str(i+4)+'66')\n",
    "            champion_label_i_j.place(relx=j/2+0.05, rely=i/8+0.3,relwidth=0.1, relheight=0.1)\n",
    "            champions_menu_i_j = ttk.Combobox(frame,state='readonly', textvariable=input_info2[i+j*5], value=champions_options)\n",
    "            # champions_menu_i_j.current()\n",
    "            champions_menu_i_j.place(relx=j/2+0.15, rely=i/8+0.3, relwidth=0.3, relheight=0.1) \n",
    "            champions_menu_i_j.set(\"選擇英雄\")   \n",
    "\n",
    "# \"GO\"查詢按鈕\n",
    "button = tk.Button(frame, text=\"GO\", font=12, command=match_result)\n",
    "button.place(relx=0.5, rely=0.94, relwidth=0.2, relheight=0.08,anchor='n')\n",
    "\n",
    "\n",
    "# \"結果顯示器\n",
    "frame2 = tk.Frame(root, bg='#80c1ff', bd=10)\n",
    "frame2.place(relx=0.5, rely=0.8, relwidth=0.3, relheight=0.1, anchor='n')\n",
    "\n",
    "result = tk.Label(frame2, font=14)\n",
    "result.place(relwidth=1, relheight=1)\n",
    "\n",
    "#執行GUI的迴圈\n",
    "root.mainloop()"
   ]
  },
  {
   "cell_type": "code",
   "execution_count": 6,
   "metadata": {},
   "outputs": [],
   "source": []
  }
 ],
 "metadata": {
  "language_info": {
   "codemirror_mode": {
    "name": "ipython",
    "version": 3
   },
   "file_extension": ".py",
   "mimetype": "text/x-python",
   "name": "python",
   "nbconvert_exporter": "python",
   "pygments_lexer": "ipython3",
   "version": "3.7.3-final"
  },
  "orig_nbformat": 2,
  "kernelspec": {
   "name": "python3",
   "display_name": "Python 3"
  }
 },
 "nbformat": 4,
 "nbformat_minor": 2
}