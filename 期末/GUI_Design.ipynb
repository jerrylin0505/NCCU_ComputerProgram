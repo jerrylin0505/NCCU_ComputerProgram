{
 "cells": [
  {
   "cell_type": "code",
   "execution_count": 1,
   "metadata": {},
   "outputs": [],
   "source": [
    "import tkinter as tk\n",
    "from tkinter import ttk\n",
    "from PIL import ImageTk as itk\n",
    "from PIL import Image\n",
    "import requests"
   ]
  },
  {
   "cell_type": "markdown",
   "metadata": {},
   "source": [
    "### 畫布大小"
   ]
  },
  {
   "cell_type": "code",
   "execution_count": 2,
   "metadata": {},
   "outputs": [],
   "source": [
    "WIDTH = 1280\n",
    "HEIGHT = 720"
   ]
  },
  {
   "cell_type": "markdown",
   "metadata": {},
   "source": [
    "### 定義function"
   ]
  },
  {
   "cell_type": "code",
   "execution_count": 3,
   "metadata": {},
   "outputs": [],
   "source": [
    "def format_response(weather):\n",
    "\ttry:\n",
    "\t\tname = weather['name']\n",
    "\t\tdesc = weather['weather'][0]['description']\n",
    "\t\ttemp = weather['main']['temp']\n",
    "\n",
    "\t\tfinal_str = 'City: %s \\nConditions: %s \\nTemperature (°F): %s' % (name, desc, temp)\n",
    "\texcept:\n",
    "\t\tfinal_str = 'There was a problem retrieving that information'\n",
    "\n",
    "\treturn final_str\n",
    "\n",
    "def get_weather(city):\n",
    "\tweather_key = 'a4aa5e3d83ffefaba8c00284de6ef7c3'\n",
    "\turl = 'https://api.openweathermap.org/data/2.5/weather'\n",
    "\tparams = {'APPID': weather_key, 'q': city, 'units': 'imperial'}\n",
    "\tresponse = requests.get(url, params=params)\n",
    "\tweather = response.json()\n",
    "\n",
    "\tlabel['text'] = format_response(weather)\n",
    "\n",
    "# def select(event):\n"
   ]
  },
  {
   "cell_type": "markdown",
   "metadata": {},
   "source": [
    "### GUI介面"
   ]
  },
  {
   "cell_type": "code",
   "execution_count": 17,
   "metadata": {},
   "outputs": [],
   "source": [
    "root = tk.Tk()\n",
    "canvas = tk.Canvas(root, height=HEIGHT, width=WIDTH)\n",
    "canvas.pack()\n",
    "\n",
    "# 背景圖片\n",
    "background_image = itk.PhotoImage(Image.open('lol_background.jpg'))\n",
    "background_label = tk.Label(root, image=background_image)\n",
    "background_label.place(relwidth=1, relheight=1)\n",
    "\n",
    "\n",
    "# 整個選單\n",
    "frame = tk.Frame(root, bg='#80c1ff', bd=10)\n",
    "frame.place(relx=0.5, rely=0.2, relwidth=0.3, relheight=0.6, anchor='n')\n",
    "\n",
    "# 選擇藍紫方\n",
    "team_options=[\"Blue team\", 'Purple Team']\n",
    "\n",
    "clicked = tk.StringVar()\n",
    "clicked.set(team_options[0])\n",
    "\n",
    "menu_label = tk.Label(frame, text=\"Choose your side\", bg='#80c1ff', font=15)\n",
    "menu_label.place(relx=0.1, relwidth=0.8, relheight=0.07)\n",
    "menu = tk.OptionMenu(frame, clicked, *team_options)\n",
    "menu.place(relx=0.1, rely=0.07, relwidth=0.8, relheight=0.05)\n",
    "\n",
    "# 選擇己方和敵方英雄組合\n",
    "Team = [\"Ally\",\"Enemy\"]\n",
    "Team_Color = [\"#00EC00\",\"#CE0000\"]\n",
    "Lane = [\"Top\",\"Jg\",\"Mid\",\"AD\",\"Sup\"]\n",
    "\n",
    "champions_options=['Aatrox', 'Ahri', 'Akali']\n",
    "\n",
    "for j in range(2):\n",
    "    team_label_j = tk.Label(frame, text=Team[j], bg=Team_Color[j])\n",
    "    team_label_j.place(relx=j/2+0.25, rely=0.15, relwidth=0.3, relheight=0.1, anchor='n')    \n",
    "    for i in range(5):\n",
    "        champion_label_i_j = tk.Label(frame, text=Lane[i], bg='#'+str(i+4)+'66')\n",
    "        champion_label_i_j.place(relx=j/2+0.05, rely=i/8+0.3,relwidth=0.1, relheight=0.1)\n",
    "        champions_menu_i_j = ttk.Combobox(frame, value=champions_options)\n",
    "        champions_menu_i_j.current()\n",
    "        # team_menu.bind(\"<<ComboboxSlected>>\", select)\n",
    "        champions_menu_i_j.place(relx=j/2+0.15, rely=i/8+0.3, relwidth=0.3, relheight=0.1)    \n",
    "\n",
    "# \"GO\"查詢按鈕\n",
    "button = tk.Button(frame, text=\"GO\", font=12)\n",
    "button.place(relx=0.5, rely=0.92, relwidth=0.2, relheight=0.08,anchor='n')\n",
    "\n",
    "root.mainloop()"
   ]
  },
  {
   "cell_type": "code",
   "execution_count": null,
   "metadata": {},
   "outputs": [],
   "source": []
  }
 ],
 "metadata": {
  "language_info": {
   "codemirror_mode": {
    "name": "ipython",
    "version": 3
   },
   "file_extension": ".py",
   "mimetype": "text/x-python",
   "name": "python",
   "nbconvert_exporter": "python",
   "pygments_lexer": "ipython3",
   "version": "3.7.4-final"
  },
  "orig_nbformat": 2,
  "kernelspec": {
   "name": "python3",
   "display_name": "Python 3"
  }
 },
 "nbformat": 4,
 "nbformat_minor": 2
}