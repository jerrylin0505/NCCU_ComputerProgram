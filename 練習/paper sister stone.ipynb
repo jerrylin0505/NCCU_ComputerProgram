{
 "cells": [
  {
   "cell_type": "code",
   "execution_count": 3,
   "metadata": {},
   "outputs": [
    {
     "output_type": "stream",
     "name": "stdout",
     "text": "你出的: 0\n電腦出的 0\n電腦贏\n"
    }
   ],
   "source": [
    "import random #匯入random模組\n",
    "\n",
    "player = input(\"請出[0]拳 [1]剪刀[2]布\")\n",
    "int(player)\n",
    "cpu = random.randint(0,2) #亂數回0~2 區間內的一個整數\n",
    "\n",
    "print(\"你出的:\",player)\n",
    "print(\"電腦出的\",cpu)\n",
    "\n",
    "if player == cpu:\n",
    "    print(\"平手\")\n",
    "elif player == (cpu + 1)%3:\n",
    "    print(\"玩家贏\")\n",
    "else:\n",
    "    print(\"電腦贏\")"
   ]
  },
  {
   "cell_type": "code",
   "execution_count": null,
   "metadata": {},
   "outputs": [],
   "source": []
  }
 ],
 "metadata": {
  "language_info": {
   "codemirror_mode": {
    "name": "ipython",
    "version": 3
   },
   "file_extension": ".py",
   "mimetype": "text/x-python",
   "name": "python",
   "nbconvert_exporter": "python",
   "pygments_lexer": "ipython3",
   "version": "3.7.4-final"
  },
  "orig_nbformat": 2,
  "kernelspec": {
   "name": "python3",
   "display_name": "Python 3"
  }
 },
 "nbformat": 4,
 "nbformat_minor": 2
}