{
 "cells": [
  {
   "cell_type": "code",
   "execution_count": 1,
   "metadata": {},
   "outputs": [],
   "source": [
    "%matplotlib inline\n",
    "\n",
    "import numpy as np\n",
    "import matplotlib.pyplot as plt"
   ]
  },
  {
   "cell_type": "code",
   "execution_count": 2,
   "metadata": {},
   "outputs": [],
   "source": [
    "# 讀入 Tensorflow"
   ]
  },
  {
   "cell_type": "code",
   "execution_count": 3,
   "metadata": {},
   "outputs": [],
   "source": [
    "import tensorflow as tf"
   ]
  },
  {
   "cell_type": "markdown",
   "metadata": {},
   "source": [
    "### 1. 讀入 MNSIT 數據集"
   ]
  },
  {
   "cell_type": "code",
   "execution_count": 4,
   "metadata": {},
   "outputs": [],
   "source": [
    "from tensorflow.keras.datasets import fashion_mnist"
   ]
  },
  {
   "cell_type": "code",
   "execution_count": 5,
   "metadata": {},
   "outputs": [],
   "source": [
    "(x_train, y_train), (x_test, y_test) = fashion_mnist.load_data()"
   ]
  },
  {
   "cell_type": "markdown",
   "metadata": {},
   "source": [
    "### 2. 欣賞數據集內容"
   ]
  },
  {
   "cell_type": "code",
   "execution_count": 6,
   "metadata": {},
   "outputs": [
    {
     "output_type": "execute_result",
     "data": {
      "text/plain": "60000"
     },
     "metadata": {},
     "execution_count": 6
    }
   ],
   "source": [
    "len(x_train)"
   ]
  },
  {
   "cell_type": "code",
   "execution_count": 7,
   "metadata": {},
   "outputs": [
    {
     "output_type": "execute_result",
     "data": {
      "text/plain": "10000"
     },
     "metadata": {},
     "execution_count": 7
    }
   ],
   "source": [
    "len(x_test)"
   ]
  },
  {
   "cell_type": "code",
   "execution_count": 8,
   "metadata": {},
   "outputs": [],
   "source": [
    "n = 9487"
   ]
  },
  {
   "cell_type": "code",
   "execution_count": 9,
   "metadata": {},
   "outputs": [
    {
     "output_type": "execute_result",
     "data": {
      "text/plain": "0"
     },
     "metadata": {},
     "execution_count": 9
    }
   ],
   "source": [
    "y_train[n]"
   ]
  },
  {
   "cell_type": "code",
   "execution_count": 10,
   "metadata": {},
   "outputs": [],
   "source": [
    "class_names = ['T-shirt/top', 'Trouser', 'Pullover', 'Dress', 'Coat',\n",
    "               'Sandal', 'Shirt', 'Sneaker', 'Bag', 'Ankle boot']"
   ]
  },
  {
   "cell_type": "code",
   "execution_count": 11,
   "metadata": {},
   "outputs": [
    {
     "output_type": "stream",
     "name": "stdout",
     "text": "這是 T-shirt/top\n"
    },
    {
     "output_type": "execute_result",
     "data": {
      "text/plain": "<matplotlib.image.AxesImage at 0x257c6ab7448>"
     },
     "metadata": {},
     "execution_count": 11
    },
    {
     "output_type": "display_data",
     "data": {
      "text/plain": "<Figure size 432x288 with 1 Axes>",
      "image/svg+xml": "<?xml version=\"1.0\" encoding=\"utf-8\" standalone=\"no\"?>\r\n<!DOCTYPE svg PUBLIC \"-//W3C//DTD SVG 1.1//EN\"\r\n  \"http://www.w3.org/Graphics/SVG/1.1/DTD/svg11.dtd\">\r\n<!-- Created with matplotlib (https://matplotlib.org/) -->\r\n<svg height=\"248.518125pt\" version=\"1.1\" viewBox=\"0 0 251.565 248.518125\" width=\"251.565pt\" xmlns=\"http://www.w3.org/2000/svg\" xmlns:xlink=\"http://www.w3.org/1999/xlink\">\r\n <defs>\r\n  <style type=\"text/css\">\r\n*{stroke-linecap:butt;stroke-linejoin:round;}\r\n  </style>\r\n </defs>\r\n <g id=\"figure_1\">\r\n  <g id=\"patch_1\">\r\n   <path d=\"M 0 248.518125 \r\nL 251.565 248.518125 \r\nL 251.565 0 \r\nL 0 0 \r\nz\r\n\" style=\"fill:none;\"/>\r\n  </g>\r\n  <g id=\"axes_1\">\r\n   <g id=\"patch_2\">\r\n    <path d=\"M 26.925 224.64 \r\nL 244.365 224.64 \r\nL 244.365 7.2 \r\nL 26.925 7.2 \r\nz\r\n\" style=\"fill:#ffffff;\"/>\r\n   </g>\r\n   <g clip-path=\"url(#p4d264f04ff)\">\r\n    <image height=\"218\" id=\"imageeb1586d013\" transform=\"scale(1 -1)translate(0 -218)\" width=\"218\" x=\"26.925\" xlink:href=\"data:image/png;base64,\r\niVBORw0KGgoAAAANSUhEUgAAANoAAADaCAYAAADAHVzbAAAABHNCSVQICAgIfAhkiAAAB0hJREFUeJzt3btqVV0XBuCVLybRJGoiiGggTQpB7GzsFfEO9E68KFtrQaw8FBHSWAiC4AELEXc0BzX/DbjHgGx85c96nvZl7b0NvE5Ygznn3NHR0dEwQj9+/Cjz7e3tMt/Z2SnzyWQyNZv1T37q1KkyX1hYKPNLly5NzdbW1spnu99+8+bNMl9ZWSnzk+q/f/0DYAwUDQIUDQIUDQIUDQIUDQIUDQLmxjpHu3XrVpk/fvy4zO/du1fmc3NzU7P5+fny2W5OVn32MAzD79+/y/zg4GBq9uXLl/LZX79+lfnt27fL/MGDB2V+UlnRIEDRIEDRIEDRIEDRIEDRIEDRIKAe2Jxg6+vrZf7w4cMyr/Z0DcMwvHv37tjPdnO0zt7eXplXo9OzZ8+Wzz569KjMFxcXy3ysrGgQoGgQoGgQoGgQoGgQoGgQMNrX+902me4Ve/X6fhiG4cOHD1Ozw8PD8tnuSLZqm8sw9Ntoqu/vRgMbGxtlfuXKlTIfKysaBCgaBCgaBCgaBCgaBCgaBCgaBIx2jtYdm/b169cy7643Onfu3NRs1quLTp8+XebdcXPVtU7dDK6b4W1tbZX5WFnRIEDRIEDRIEDRIEDRIEDRIEDRIGC0c7T//qv/j+nmSbM8P+u1TN137+/vl3l13NzS0lL5bPfbuvniWFnRIEDRIEDRIEDRIEDRIEDRIEDRIGC0c7Ruz9by8nKZd/vZquuLuu/u9pt1VyN1v+379+9TszNnzpTP7uzslPndu3fLfKysaBCgaBCgaBCgaBCgaBCgaBCgaBAw2jnarKpZ1DDU+7qqcxWHod9v1un2u1Uzwm6/2fr6eplXe93GzIoGAYoGAYoGAYoGAYoGAYoGAaN9vT8/Pz/T891r7GorTPfd3Sv2vb29Mu9U23Amk0n57NWrV8t8dXX1WL/ppLOiQYCiQYCiQYCiQYCiQYCiQYCiQcBo52id7si2WbaydMfNdWbdRlPN6boZ348fP8p81n/bSWVFgwBFgwBFgwBFgwBFgwBFgwBFg4DRztG6I9l+/vxZ5t2esWoe1c3BulnWrL+92kvXXQnV5QcHB2U+VlY0CFA0CFA0CFA0CFA0CFA0CFA0CBjtHO3ixYtl/vXr1zKvzkYchmFYWVk5VjYMs++F686crD5/1v1ks56XeVJZ0SBA0SBA0SBA0SBA0SBA0SBgtK/3z507V+a7u7tlvr+/X+bnz5+fmnWv37u826LT5dXnd9tcur9Lt41mrKxoEKBoEKBoEKBoEKBoEKBoEKBoEDDaOdrf3g5SzZO6OVdnb2+vzLstPN1xdJXu2qZuBjhWVjQIUDQIUDQIUDQIUDQIUDQIUDQIGO0cbTKZlHk3a+qOjKvmdN1xcbNey9RZWFiYmh0eHpbPdvvVuqPyxsqKBgGKBgGKBgGKBgGKBgGKBgGKBgGjnaN15zJ2qlnUMNTzpG5O1s2iuv1mnVn2jHW/3bmOf2ZFgwBFgwBFgwBFgwBFgwBFgwBFg4DRztG68wm7WVY3i6rOfezOdezOnOzOlPyb5zZ2e+m6MyfHyooGAYoGAYoGAYoGAYoGAYoGAaN9vX/jxo0yf/LkSZl320Uq3Wig++xuPDDLb+ssLS2V+eXLl//ad/8/s6JBgKJBgKJBgKJBgKJBgKJBgKJBwGjnaNevXy/zp0+flnl3fdHy8vLUrNuCM+s2mm4rS/X5nz9/Lp/t5o/Vv3vMrGgQoGgQoGgQoGgQoGgQoGgQoGgQMNo5Wjer6vZddbOwapbVzcG6vDtOrtuPVuXdcXGbm5tlzp9Z0SBA0SBA0SBA0SBA0SBA0SBA0SBgtHO0zurqapkfHh6WeTUL6+Zc3Wd3uhlhNQPsrm06ffr0sX7T2FnRIEDRIEDRIEDRIEDRIEDRIEDRIMAcbYr5+fky7/aEVfvRZp2TzbLfbBjq+9kWFxfLZ7ucP7OiQYCiQYCiQYCiQYCiQYCiQYDX+1MsLCyU+e7ubpl/+/ZtataNDrrP7rbBdFtZzpw5MzXrrnzqRgf8mRUNAhQNAhQNAhQNAhQNAhQNAhQNAgxFpuhmUd2xbN+/f5+ara2tlc+ur6+XeXe10sHBQZlXW3xmuY6K6fzVIEDRIEDRIEDRIEDRIEDRIEDRIMAcbYpuz1g3Z6vmTa9evSqfff/+/UzffePGjTKvrpTqmKMdj78aBCgaBCgaBCgaBCgaBCgaBCgaBJijTdHNqiaTSZm/fft2atbt+bp//36Zv3jxosyfPXtW5hsbG1OzCxculM861/F4rGgQoGgQoGgQoGgQoGgQoGgQ4F3tFN3VSNvb22VeXY1UXek0DMPw8ePHMv/8+XOZLy8vl/mbN2+O/SzHY0WDAEWDAEWDAEWDAEWDAEWDAEWDgLmjo6Ojf/0j/oXun93N0V6+fFnmr1+/nppdu3atfHZra6vMP336VObPnz8v8+rKqTt37pTPbm5uljl/ZkWDAEWDAEWDAEWDAEWDAEWDAEWDgP8BH6WboOuLvssAAAAASUVORK5CYII=\" y=\"-6.64\"/>\r\n   </g>\r\n   <g id=\"matplotlib.axis_1\">\r\n    <g id=\"xtick_1\">\r\n     <g id=\"line2d_1\">\r\n      <defs>\r\n       <path d=\"M 0 0 \r\nL 0 3.5 \r\n\" id=\"mdba6fcff85\" style=\"stroke:#000000;stroke-width:0.8;\"/>\r\n      </defs>\r\n      <g>\r\n       <use style=\"stroke:#000000;stroke-width:0.8;\" x=\"30.807857\" xlink:href=\"#mdba6fcff85\" y=\"224.64\"/>\r\n      </g>\r\n     </g>\r\n     <g id=\"text_1\">\r\n      <!-- 0 -->\r\n      <defs>\r\n       <path d=\"M 31.78125 66.40625 \r\nQ 24.171875 66.40625 20.328125 58.90625 \r\nQ 16.5 51.421875 16.5 36.375 \r\nQ 16.5 21.390625 20.328125 13.890625 \r\nQ 24.171875 6.390625 31.78125 6.390625 \r\nQ 39.453125 6.390625 43.28125 13.890625 \r\nQ 47.125 21.390625 47.125 36.375 \r\nQ 47.125 51.421875 43.28125 58.90625 \r\nQ 39.453125 66.40625 31.78125 66.40625 \r\nz\r\nM 31.78125 74.21875 \r\nQ 44.046875 74.21875 50.515625 64.515625 \r\nQ 56.984375 54.828125 56.984375 36.375 \r\nQ 56.984375 17.96875 50.515625 8.265625 \r\nQ 44.046875 -1.421875 31.78125 -1.421875 \r\nQ 19.53125 -1.421875 13.0625 8.265625 \r\nQ 6.59375 17.96875 6.59375 36.375 \r\nQ 6.59375 54.828125 13.0625 64.515625 \r\nQ 19.53125 74.21875 31.78125 74.21875 \r\nz\r\n\" id=\"DejaVuSans-48\"/>\r\n      </defs>\r\n      <g transform=\"translate(27.626607 239.238437)scale(0.1 -0.1)\">\r\n       <use xlink:href=\"#DejaVuSans-48\"/>\r\n      </g>\r\n     </g>\r\n    </g>\r\n    <g id=\"xtick_2\">\r\n     <g id=\"line2d_2\">\r\n      <g>\r\n       <use style=\"stroke:#000000;stroke-width:0.8;\" x=\"69.636429\" xlink:href=\"#mdba6fcff85\" y=\"224.64\"/>\r\n      </g>\r\n     </g>\r\n     <g id=\"text_2\">\r\n      <!-- 5 -->\r\n      <defs>\r\n       <path d=\"M 10.796875 72.90625 \r\nL 49.515625 72.90625 \r\nL 49.515625 64.59375 \r\nL 19.828125 64.59375 \r\nL 19.828125 46.734375 \r\nQ 21.96875 47.46875 24.109375 47.828125 \r\nQ 26.265625 48.1875 28.421875 48.1875 \r\nQ 40.625 48.1875 47.75 41.5 \r\nQ 54.890625 34.8125 54.890625 23.390625 \r\nQ 54.890625 11.625 47.5625 5.09375 \r\nQ 40.234375 -1.421875 26.90625 -1.421875 \r\nQ 22.3125 -1.421875 17.546875 -0.640625 \r\nQ 12.796875 0.140625 7.71875 1.703125 \r\nL 7.71875 11.625 \r\nQ 12.109375 9.234375 16.796875 8.0625 \r\nQ 21.484375 6.890625 26.703125 6.890625 \r\nQ 35.15625 6.890625 40.078125 11.328125 \r\nQ 45.015625 15.765625 45.015625 23.390625 \r\nQ 45.015625 31 40.078125 35.4375 \r\nQ 35.15625 39.890625 26.703125 39.890625 \r\nQ 22.75 39.890625 18.8125 39.015625 \r\nQ 14.890625 38.140625 10.796875 36.28125 \r\nz\r\n\" id=\"DejaVuSans-53\"/>\r\n      </defs>\r\n      <g transform=\"translate(66.455179 239.238437)scale(0.1 -0.1)\">\r\n       <use xlink:href=\"#DejaVuSans-53\"/>\r\n      </g>\r\n     </g>\r\n    </g>\r\n    <g id=\"xtick_3\">\r\n     <g id=\"line2d_3\">\r\n      <g>\r\n       <use style=\"stroke:#000000;stroke-width:0.8;\" x=\"108.465\" xlink:href=\"#mdba6fcff85\" y=\"224.64\"/>\r\n      </g>\r\n     </g>\r\n     <g id=\"text_3\">\r\n      <!-- 10 -->\r\n      <defs>\r\n       <path d=\"M 12.40625 8.296875 \r\nL 28.515625 8.296875 \r\nL 28.515625 63.921875 \r\nL 10.984375 60.40625 \r\nL 10.984375 69.390625 \r\nL 28.421875 72.90625 \r\nL 38.28125 72.90625 \r\nL 38.28125 8.296875 \r\nL 54.390625 8.296875 \r\nL 54.390625 0 \r\nL 12.40625 0 \r\nz\r\n\" id=\"DejaVuSans-49\"/>\r\n      </defs>\r\n      <g transform=\"translate(102.1025 239.238437)scale(0.1 -0.1)\">\r\n       <use xlink:href=\"#DejaVuSans-49\"/>\r\n       <use x=\"63.623047\" xlink:href=\"#DejaVuSans-48\"/>\r\n      </g>\r\n     </g>\r\n    </g>\r\n    <g id=\"xtick_4\">\r\n     <g id=\"line2d_4\">\r\n      <g>\r\n       <use style=\"stroke:#000000;stroke-width:0.8;\" x=\"147.293571\" xlink:href=\"#mdba6fcff85\" y=\"224.64\"/>\r\n      </g>\r\n     </g>\r\n     <g id=\"text_4\">\r\n      <!-- 15 -->\r\n      <g transform=\"translate(140.931071 239.238437)scale(0.1 -0.1)\">\r\n       <use xlink:href=\"#DejaVuSans-49\"/>\r\n       <use x=\"63.623047\" xlink:href=\"#DejaVuSans-53\"/>\r\n      </g>\r\n     </g>\r\n    </g>\r\n    <g id=\"xtick_5\">\r\n     <g id=\"line2d_5\">\r\n      <g>\r\n       <use style=\"stroke:#000000;stroke-width:0.8;\" x=\"186.122143\" xlink:href=\"#mdba6fcff85\" y=\"224.64\"/>\r\n      </g>\r\n     </g>\r\n     <g id=\"text_5\">\r\n      <!-- 20 -->\r\n      <defs>\r\n       <path d=\"M 19.1875 8.296875 \r\nL 53.609375 8.296875 \r\nL 53.609375 0 \r\nL 7.328125 0 \r\nL 7.328125 8.296875 \r\nQ 12.9375 14.109375 22.625 23.890625 \r\nQ 32.328125 33.6875 34.8125 36.53125 \r\nQ 39.546875 41.84375 41.421875 45.53125 \r\nQ 43.3125 49.21875 43.3125 52.78125 \r\nQ 43.3125 58.59375 39.234375 62.25 \r\nQ 35.15625 65.921875 28.609375 65.921875 \r\nQ 23.96875 65.921875 18.8125 64.3125 \r\nQ 13.671875 62.703125 7.8125 59.421875 \r\nL 7.8125 69.390625 \r\nQ 13.765625 71.78125 18.9375 73 \r\nQ 24.125 74.21875 28.421875 74.21875 \r\nQ 39.75 74.21875 46.484375 68.546875 \r\nQ 53.21875 62.890625 53.21875 53.421875 \r\nQ 53.21875 48.921875 51.53125 44.890625 \r\nQ 49.859375 40.875 45.40625 35.40625 \r\nQ 44.1875 33.984375 37.640625 27.21875 \r\nQ 31.109375 20.453125 19.1875 8.296875 \r\nz\r\n\" id=\"DejaVuSans-50\"/>\r\n      </defs>\r\n      <g transform=\"translate(179.759643 239.238437)scale(0.1 -0.1)\">\r\n       <use xlink:href=\"#DejaVuSans-50\"/>\r\n       <use x=\"63.623047\" xlink:href=\"#DejaVuSans-48\"/>\r\n      </g>\r\n     </g>\r\n    </g>\r\n    <g id=\"xtick_6\">\r\n     <g id=\"line2d_6\">\r\n      <g>\r\n       <use style=\"stroke:#000000;stroke-width:0.8;\" x=\"224.950714\" xlink:href=\"#mdba6fcff85\" y=\"224.64\"/>\r\n      </g>\r\n     </g>\r\n     <g id=\"text_6\">\r\n      <!-- 25 -->\r\n      <g transform=\"translate(218.588214 239.238437)scale(0.1 -0.1)\">\r\n       <use xlink:href=\"#DejaVuSans-50\"/>\r\n       <use x=\"63.623047\" xlink:href=\"#DejaVuSans-53\"/>\r\n      </g>\r\n     </g>\r\n    </g>\r\n   </g>\r\n   <g id=\"matplotlib.axis_2\">\r\n    <g id=\"ytick_1\">\r\n     <g id=\"line2d_7\">\r\n      <defs>\r\n       <path d=\"M 0 0 \r\nL -3.5 0 \r\n\" id=\"mb397294591\" style=\"stroke:#000000;stroke-width:0.8;\"/>\r\n      </defs>\r\n      <g>\r\n       <use style=\"stroke:#000000;stroke-width:0.8;\" x=\"26.925\" xlink:href=\"#mb397294591\" y=\"11.082857\"/>\r\n      </g>\r\n     </g>\r\n     <g id=\"text_7\">\r\n      <!-- 0 -->\r\n      <g transform=\"translate(13.5625 14.882076)scale(0.1 -0.1)\">\r\n       <use xlink:href=\"#DejaVuSans-48\"/>\r\n      </g>\r\n     </g>\r\n    </g>\r\n    <g id=\"ytick_2\">\r\n     <g id=\"line2d_8\">\r\n      <g>\r\n       <use style=\"stroke:#000000;stroke-width:0.8;\" x=\"26.925\" xlink:href=\"#mb397294591\" y=\"49.911429\"/>\r\n      </g>\r\n     </g>\r\n     <g id=\"text_8\">\r\n      <!-- 5 -->\r\n      <g transform=\"translate(13.5625 53.710647)scale(0.1 -0.1)\">\r\n       <use xlink:href=\"#DejaVuSans-53\"/>\r\n      </g>\r\n     </g>\r\n    </g>\r\n    <g id=\"ytick_3\">\r\n     <g id=\"line2d_9\">\r\n      <g>\r\n       <use style=\"stroke:#000000;stroke-width:0.8;\" x=\"26.925\" xlink:href=\"#mb397294591\" y=\"88.74\"/>\r\n      </g>\r\n     </g>\r\n     <g id=\"text_9\">\r\n      <!-- 10 -->\r\n      <g transform=\"translate(7.2 92.539219)scale(0.1 -0.1)\">\r\n       <use xlink:href=\"#DejaVuSans-49\"/>\r\n       <use x=\"63.623047\" xlink:href=\"#DejaVuSans-48\"/>\r\n      </g>\r\n     </g>\r\n    </g>\r\n    <g id=\"ytick_4\">\r\n     <g id=\"line2d_10\">\r\n      <g>\r\n       <use style=\"stroke:#000000;stroke-width:0.8;\" x=\"26.925\" xlink:href=\"#mb397294591\" y=\"127.568571\"/>\r\n      </g>\r\n     </g>\r\n     <g id=\"text_10\">\r\n      <!-- 15 -->\r\n      <g transform=\"translate(7.2 131.36779)scale(0.1 -0.1)\">\r\n       <use xlink:href=\"#DejaVuSans-49\"/>\r\n       <use x=\"63.623047\" xlink:href=\"#DejaVuSans-53\"/>\r\n      </g>\r\n     </g>\r\n    </g>\r\n    <g id=\"ytick_5\">\r\n     <g id=\"line2d_11\">\r\n      <g>\r\n       <use style=\"stroke:#000000;stroke-width:0.8;\" x=\"26.925\" xlink:href=\"#mb397294591\" y=\"166.397143\"/>\r\n      </g>\r\n     </g>\r\n     <g id=\"text_11\">\r\n      <!-- 20 -->\r\n      <g transform=\"translate(7.2 170.196362)scale(0.1 -0.1)\">\r\n       <use xlink:href=\"#DejaVuSans-50\"/>\r\n       <use x=\"63.623047\" xlink:href=\"#DejaVuSans-48\"/>\r\n      </g>\r\n     </g>\r\n    </g>\r\n    <g id=\"ytick_6\">\r\n     <g id=\"line2d_12\">\r\n      <g>\r\n       <use style=\"stroke:#000000;stroke-width:0.8;\" x=\"26.925\" xlink:href=\"#mb397294591\" y=\"205.225714\"/>\r\n      </g>\r\n     </g>\r\n     <g id=\"text_12\">\r\n      <!-- 25 -->\r\n      <g transform=\"translate(7.2 209.024933)scale(0.1 -0.1)\">\r\n       <use xlink:href=\"#DejaVuSans-50\"/>\r\n       <use x=\"63.623047\" xlink:href=\"#DejaVuSans-53\"/>\r\n      </g>\r\n     </g>\r\n    </g>\r\n   </g>\r\n   <g id=\"patch_3\">\r\n    <path d=\"M 26.925 224.64 \r\nL 26.925 7.2 \r\n\" style=\"fill:none;stroke:#000000;stroke-linecap:square;stroke-linejoin:miter;stroke-width:0.8;\"/>\r\n   </g>\r\n   <g id=\"patch_4\">\r\n    <path d=\"M 244.365 224.64 \r\nL 244.365 7.2 \r\n\" style=\"fill:none;stroke:#000000;stroke-linecap:square;stroke-linejoin:miter;stroke-width:0.8;\"/>\r\n   </g>\r\n   <g id=\"patch_5\">\r\n    <path d=\"M 26.925 224.64 \r\nL 244.365 224.64 \r\n\" style=\"fill:none;stroke:#000000;stroke-linecap:square;stroke-linejoin:miter;stroke-width:0.8;\"/>\r\n   </g>\r\n   <g id=\"patch_6\">\r\n    <path d=\"M 26.925 7.2 \r\nL 244.365 7.2 \r\n\" style=\"fill:none;stroke:#000000;stroke-linecap:square;stroke-linejoin:miter;stroke-width:0.8;\"/>\r\n   </g>\r\n  </g>\r\n </g>\r\n <defs>\r\n  <clipPath id=\"p4d264f04ff\">\r\n   <rect height=\"217.44\" width=\"217.44\" x=\"26.925\" y=\"7.2\"/>\r\n  </clipPath>\r\n </defs>\r\n</svg>\r\n",
      "image/png": "[encoded data removed]"
     },
     "metadata": {
      "needs_background": "light"
     }
    }
   ],
   "source": [
    "print('這是', class_names[y_train[n]])\n",
    "plt.imshow(x_train[n], cmap='Greys')"
   ]
  },
  {
   "cell_type": "markdown",
   "metadata": {},
   "source": [
    "### 3. 資料整理"
   ]
  },
  {
   "cell_type": "code",
   "execution_count": 12,
   "metadata": {},
   "outputs": [],
   "source": [
    "x_train = x_train.reshape(60000, 784)/255"
   ]
  },
  {
   "cell_type": "code",
   "execution_count": 13,
   "metadata": {},
   "outputs": [],
   "source": [
    "x_test = x_test.reshape(10000, 784)/255"
   ]
  },
  {
   "cell_type": "code",
   "execution_count": 14,
   "metadata": {},
   "outputs": [],
   "source": [
    "from tensorflow.keras.utils import to_categorical"
   ]
  },
  {
   "cell_type": "code",
   "execution_count": 15,
   "metadata": {},
   "outputs": [],
   "source": [
    "y_train = to_categorical(y_train, 10)"
   ]
  },
  {
   "cell_type": "code",
   "execution_count": 16,
   "metadata": {},
   "outputs": [],
   "source": [
    "y_test = to_categorical(y_test, 10)"
   ]
  },
  {
   "cell_type": "code",
   "execution_count": 17,
   "metadata": {},
   "outputs": [
    {
     "output_type": "execute_result",
     "data": {
      "text/plain": "array([1., 0., 0., 0., 0., 0., 0., 0., 0., 0.], dtype=float32)"
     },
     "metadata": {},
     "execution_count": 17
    }
   ],
   "source": [
    "y_train[n]"
   ]
  },
  {
   "cell_type": "markdown",
   "metadata": {},
   "source": [
    "### 4. 打造神經網路"
   ]
  },
  {
   "cell_type": "code",
   "execution_count": 18,
   "metadata": {},
   "outputs": [],
   "source": [
    "from tensorflow.keras.models import Sequential\n",
    "from tensorflow.keras.layers import Dense\n",
    "from tensorflow.keras.optimizers import SGD"
   ]
  },
  {
   "cell_type": "code",
   "execution_count": 19,
   "metadata": {},
   "outputs": [],
   "source": [
    "model = Sequential()"
   ]
  },
  {
   "cell_type": "code",
   "execution_count": 20,
   "metadata": {},
   "outputs": [],
   "source": [
    "model.add(Dense(200, input_dim=784, activation='relu'))"
   ]
  },
  {
   "cell_type": "code",
   "execution_count": 21,
   "metadata": {},
   "outputs": [],
   "source": [
    "model.add(Dense(200, activation='relu'))"
   ]
  },
  {
   "cell_type": "code",
   "execution_count": 22,
   "metadata": {},
   "outputs": [],
   "source": [
    "model.add(Dense(100, activation='relu'))"
   ]
  },
  {
   "cell_type": "code",
   "execution_count": 23,
   "metadata": {},
   "outputs": [],
   "source": [
    "model.add(Dense(10, activation='softmax'))"
   ]
  },
  {
   "cell_type": "markdown",
   "metadata": {},
   "source": [
    "### 5. 組裝我們的神經網路"
   ]
  },
  {
   "cell_type": "code",
   "execution_count": 24,
   "metadata": {},
   "outputs": [],
   "source": [
    "model.compile(loss='mse', optimizer=SGD(lr=0.01), metrics=['accuracy'])"
   ]
  },
  {
   "cell_type": "code",
   "execution_count": 25,
   "metadata": {},
   "outputs": [
    {
     "output_type": "stream",
     "name": "stdout",
     "text": "Model: \"sequential\"\n_________________________________________________________________\nLayer (type)                 Output Shape              Param #   \n=================================================================\ndense (Dense)                (None, 200)               157000    \n_________________________________________________________________\ndense_1 (Dense)              (None, 200)               40200     \n_________________________________________________________________\ndense_2 (Dense)              (None, 100)               20100     \n_________________________________________________________________\ndense_3 (Dense)              (None, 10)                1010      \n=================================================================\nTotal params: 218,310\nTrainable params: 218,310\nNon-trainable params: 0\n_________________________________________________________________\n"
    }
   ],
   "source": [
    "model.summary()"
   ]
  },
  {
   "cell_type": "markdown",
   "metadata": {},
   "source": [
    "### 5. 訓練"
   ]
  },
  {
   "cell_type": "code",
   "execution_count": 27,
   "metadata": {},
   "outputs": [
    {
     "output_type": "stream",
     "name": "stdout",
     "text": "Train on 60000 samples\nEpoch 1/40\n60000/60000 [==============================] - 10s 175us/sample - loss: 0.0819 - accuracy: 0.3591\nEpoch 2/40\n60000/60000 [==============================] - 10s 164us/sample - loss: 0.0582 - accuracy: 0.6225\nEpoch 3/40\n60000/60000 [==============================] - 10s 163us/sample - loss: 0.0444 - accuracy: 0.6915\nEpoch 4/40\n60000/60000 [==============================] - 11s 176us/sample - loss: 0.0387 - accuracy: 0.7473\nEpoch 5/40\n60000/60000 [==============================] - 8s 140us/sample - loss: 0.0348 - accuracy: 0.7768\nEpoch 6/40\n60000/60000 [==============================] - 9s 149us/sample - loss: 0.0321 - accuracy: 0.7929\nEpoch 7/40\n60000/60000 [==============================] - 11s 184us/sample - loss: 0.0302 - accuracy: 0.8047\nEpoch 8/40\n60000/60000 [==============================] - 13s 210us/sample - loss: 0.0287 - accuracy: 0.8126\nEpoch 9/40\n60000/60000 [==============================] - 11s 192us/sample - loss: 0.0276 - accuracy: 0.8180\nEpoch 10/40\n60000/60000 [==============================] - 11s 188us/sample - loss: 0.0267 - accuracy: 0.8221\nEpoch 11/40\n60000/60000 [==============================] - 12s 194us/sample - loss: 0.0260 - accuracy: 0.8263\nEpoch 12/40\n60000/60000 [==============================] - 9s 149us/sample - loss: 0.0254 - accuracy: 0.8294\nEpoch 13/40\n60000/60000 [==============================] - 9s 152us/sample - loss: 0.0249 - accuracy: 0.8326\nEpoch 14/40\n60000/60000 [==============================] - 9s 157us/sample - loss: 0.0244 - accuracy: 0.8357\nEpoch 15/40\n60000/60000 [==============================] - 9s 150us/sample - loss: 0.0241 - accuracy: 0.8373\nEpoch 16/40\n60000/60000 [==============================] - 10s 167us/sample - loss: 0.0237 - accuracy: 0.8394\nEpoch 17/40\n60000/60000 [==============================] - 9s 151us/sample - loss: 0.0234 - accuracy: 0.8412\nEpoch 18/40\n60000/60000 [==============================] - 8s 134us/sample - loss: 0.0231 - accuracy: 0.8436\nEpoch 19/40\n60000/60000 [==============================] - 10s 159us/sample - loss: 0.0228 - accuracy: 0.8450\nEpoch 20/40\n60000/60000 [==============================] - 8s 140us/sample - loss: 0.0226 - accuracy: 0.8465\nEpoch 21/40\n60000/60000 [==============================] - 20s 338us/sample - loss: 0.0224 - accuracy: 0.8481\nEpoch 22/40\n60000/60000 [==============================] - 8s 141us/sample - loss: 0.0222 - accuracy: 0.8493\nEpoch 23/40\n60000/60000 [==============================] - 9s 147us/sample - loss: 0.0220 - accuracy: 0.8510\nEpoch 24/40\n60000/60000 [==============================] - 8s 140us/sample - loss: 0.0218 - accuracy: 0.8522\nEpoch 25/40\n60000/60000 [==============================] - 9s 149us/sample - loss: 0.0216 - accuracy: 0.8540\nEpoch 26/40\n60000/60000 [==============================] - 9s 142us/sample - loss: 0.0214 - accuracy: 0.8549\nEpoch 27/40\n60000/60000 [==============================] - 8s 137us/sample - loss: 0.0213 - accuracy: 0.8558\nEpoch 28/40\n60000/60000 [==============================] - 8s 141us/sample - loss: 0.0211 - accuracy: 0.8576\nEpoch 29/40\n60000/60000 [==============================] - 9s 146us/sample - loss: 0.0210 - accuracy: 0.8580\nEpoch 30/40\n60000/60000 [==============================] - 9s 143us/sample - loss: 0.0208 - accuracy: 0.8593\nEpoch 31/40\n60000/60000 [==============================] - 10s 166us/sample - loss: 0.0207 - accuracy: 0.8600\nEpoch 32/40\n60000/60000 [==============================] - 9s 151us/sample - loss: 0.0206 - accuracy: 0.8611\nEpoch 33/40\n60000/60000 [==============================] - 10s 173us/sample - loss: 0.0204 - accuracy: 0.8619\nEpoch 34/40\n60000/60000 [==============================] - 21s 342us/sample - loss: 0.0203 - accuracy: 0.8619\nEpoch 35/40\n60000/60000 [==============================] - 9s 150us/sample - loss: 0.0202 - accuracy: 0.8632\nEpoch 36/40\n60000/60000 [==============================] - 9s 143us/sample - loss: 0.0201 - accuracy: 0.8643\nEpoch 37/40\n60000/60000 [==============================] - 9s 142us/sample - loss: 0.0200 - accuracy: 0.8651\nEpoch 38/40\n60000/60000 [==============================] - 9s 149us/sample - loss: 0.0199 - accuracy: 0.8658\nEpoch 39/40\n60000/60000 [==============================] - 9s 144us/sample - loss: 0.0198 - accuracy: 0.8666\nEpoch 40/40\n60000/60000 [==============================] - 9s 142us/sample - loss: 0.0196 - accuracy: 0.8672\n"
    },
    {
     "output_type": "execute_result",
     "data": {
      "text/plain": "<tensorflow.python.keras.callbacks.History at 0x257c6a8b408>"
     },
     "metadata": {},
     "execution_count": 27
    }
   ],
   "source": [
    "model.fit(x_train, y_train, batch_size=25, epochs=40)"
   ]
  },
  {
   "cell_type": "markdown",
   "metadata": {},
   "source": [
    "### 6. 訓練成果"
   ]
  },
  {
   "cell_type": "code",
   "execution_count": 28,
   "metadata": {},
   "outputs": [],
   "source": [
    "result = model.predict_classes(x_test)"
   ]
  },
  {
   "cell_type": "code",
   "execution_count": 32,
   "metadata": {},
   "outputs": [
    {
     "output_type": "stream",
     "name": "stdout",
     "text": "神經網路預測是: Shirt\n"
    },
    {
     "output_type": "execute_result",
     "data": {
      "text/plain": "<matplotlib.image.AxesImage at 0x257cbffb908>"
     },
     "metadata": {},
     "execution_count": 32
    },
    {
     "output_type": "display_data",
     "data": {
      "text/plain": "<Figure size 432x288 with 1 Axes>",
      "image/svg+xml": "<?xml version=\"1.0\" encoding=\"utf-8\" standalone=\"no\"?>\r\n<!DOCTYPE svg PUBLIC \"-//W3C//DTD SVG 1.1//EN\"\r\n  \"http://www.w3.org/Graphics/SVG/1.1/DTD/svg11.dtd\">\r\n<!-- Created with matplotlib (https://matplotlib.org/) -->\r\n<svg height=\"248.518125pt\" version=\"1.1\" viewBox=\"0 0 251.565 248.518125\" width=\"251.565pt\" xmlns=\"http://www.w3.org/2000/svg\" xmlns:xlink=\"http://www.w3.org/1999/xlink\">\r\n <defs>\r\n  <style type=\"text/css\">\r\n*{stroke-linecap:butt;stroke-linejoin:round;}\r\n  </style>\r\n </defs>\r\n <g id=\"figure_1\">\r\n  <g id=\"patch_1\">\r\n   <path d=\"M 0 248.518125 \r\nL 251.565 248.518125 \r\nL 251.565 0 \r\nL 0 0 \r\nz\r\n\" style=\"fill:none;\"/>\r\n  </g>\r\n  <g id=\"axes_1\">\r\n   <g id=\"patch_2\">\r\n    <path d=\"M 26.925 224.64 \r\nL 244.365 224.64 \r\nL 244.365 7.2 \r\nL 26.925 7.2 \r\nz\r\n\" style=\"fill:#ffffff;\"/>\r\n   </g>\r\n   <g clip-path=\"url(#pd3030df380)\">\r\n    <image height=\"218\" id=\"imagea5ff25a0dc\" transform=\"scale(1 -1)translate(0 -218)\" width=\"218\" x=\"26.925\" xlink:href=\"data:image/png;base64,\r\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\" y=\"-6.64\"/>\r\n   </g>\r\n   <g id=\"matplotlib.axis_1\">\r\n    <g id=\"xtick_1\">\r\n     <g id=\"line2d_1\">\r\n      <defs>\r\n       <path d=\"M 0 0 \r\nL 0 3.5 \r\n\" id=\"m34345dc0b9\" style=\"stroke:#000000;stroke-width:0.8;\"/>\r\n      </defs>\r\n      <g>\r\n       <use style=\"stroke:#000000;stroke-width:0.8;\" x=\"30.807857\" xlink:href=\"#m34345dc0b9\" y=\"224.64\"/>\r\n      </g>\r\n     </g>\r\n     <g id=\"text_1\">\r\n      <!-- 0 -->\r\n      <defs>\r\n       <path d=\"M 31.78125 66.40625 \r\nQ 24.171875 66.40625 20.328125 58.90625 \r\nQ 16.5 51.421875 16.5 36.375 \r\nQ 16.5 21.390625 20.328125 13.890625 \r\nQ 24.171875 6.390625 31.78125 6.390625 \r\nQ 39.453125 6.390625 43.28125 13.890625 \r\nQ 47.125 21.390625 47.125 36.375 \r\nQ 47.125 51.421875 43.28125 58.90625 \r\nQ 39.453125 66.40625 31.78125 66.40625 \r\nz\r\nM 31.78125 74.21875 \r\nQ 44.046875 74.21875 50.515625 64.515625 \r\nQ 56.984375 54.828125 56.984375 36.375 \r\nQ 56.984375 17.96875 50.515625 8.265625 \r\nQ 44.046875 -1.421875 31.78125 -1.421875 \r\nQ 19.53125 -1.421875 13.0625 8.265625 \r\nQ 6.59375 17.96875 6.59375 36.375 \r\nQ 6.59375 54.828125 13.0625 64.515625 \r\nQ 19.53125 74.21875 31.78125 74.21875 \r\nz\r\n\" id=\"DejaVuSans-48\"/>\r\n      </defs>\r\n      <g transform=\"translate(27.626607 239.238437)scale(0.1 -0.1)\">\r\n       <use xlink:href=\"#DejaVuSans-48\"/>\r\n      </g>\r\n     </g>\r\n    </g>\r\n    <g id=\"xtick_2\">\r\n     <g id=\"line2d_2\">\r\n      <g>\r\n       <use style=\"stroke:#000000;stroke-width:0.8;\" x=\"69.636429\" xlink:href=\"#m34345dc0b9\" y=\"224.64\"/>\r\n      </g>\r\n     </g>\r\n     <g id=\"text_2\">\r\n      <!-- 5 -->\r\n      <defs>\r\n       <path d=\"M 10.796875 72.90625 \r\nL 49.515625 72.90625 \r\nL 49.515625 64.59375 \r\nL 19.828125 64.59375 \r\nL 19.828125 46.734375 \r\nQ 21.96875 47.46875 24.109375 47.828125 \r\nQ 26.265625 48.1875 28.421875 48.1875 \r\nQ 40.625 48.1875 47.75 41.5 \r\nQ 54.890625 34.8125 54.890625 23.390625 \r\nQ 54.890625 11.625 47.5625 5.09375 \r\nQ 40.234375 -1.421875 26.90625 -1.421875 \r\nQ 22.3125 -1.421875 17.546875 -0.640625 \r\nQ 12.796875 0.140625 7.71875 1.703125 \r\nL 7.71875 11.625 \r\nQ 12.109375 9.234375 16.796875 8.0625 \r\nQ 21.484375 6.890625 26.703125 6.890625 \r\nQ 35.15625 6.890625 40.078125 11.328125 \r\nQ 45.015625 15.765625 45.015625 23.390625 \r\nQ 45.015625 31 40.078125 35.4375 \r\nQ 35.15625 39.890625 26.703125 39.890625 \r\nQ 22.75 39.890625 18.8125 39.015625 \r\nQ 14.890625 38.140625 10.796875 36.28125 \r\nz\r\n\" id=\"DejaVuSans-53\"/>\r\n      </defs>\r\n      <g transform=\"translate(66.455179 239.238437)scale(0.1 -0.1)\">\r\n       <use xlink:href=\"#DejaVuSans-53\"/>\r\n      </g>\r\n     </g>\r\n    </g>\r\n    <g id=\"xtick_3\">\r\n     <g id=\"line2d_3\">\r\n      <g>\r\n       <use style=\"stroke:#000000;stroke-width:0.8;\" x=\"108.465\" xlink:href=\"#m34345dc0b9\" y=\"224.64\"/>\r\n      </g>\r\n     </g>\r\n     <g id=\"text_3\">\r\n      <!-- 10 -->\r\n      <defs>\r\n       <path d=\"M 12.40625 8.296875 \r\nL 28.515625 8.296875 \r\nL 28.515625 63.921875 \r\nL 10.984375 60.40625 \r\nL 10.984375 69.390625 \r\nL 28.421875 72.90625 \r\nL 38.28125 72.90625 \r\nL 38.28125 8.296875 \r\nL 54.390625 8.296875 \r\nL 54.390625 0 \r\nL 12.40625 0 \r\nz\r\n\" id=\"DejaVuSans-49\"/>\r\n      </defs>\r\n      <g transform=\"translate(102.1025 239.238437)scale(0.1 -0.1)\">\r\n       <use xlink:href=\"#DejaVuSans-49\"/>\r\n       <use x=\"63.623047\" xlink:href=\"#DejaVuSans-48\"/>\r\n      </g>\r\n     </g>\r\n    </g>\r\n    <g id=\"xtick_4\">\r\n     <g id=\"line2d_4\">\r\n      <g>\r\n       <use style=\"stroke:#000000;stroke-width:0.8;\" x=\"147.293571\" xlink:href=\"#m34345dc0b9\" y=\"224.64\"/>\r\n      </g>\r\n     </g>\r\n     <g id=\"text_4\">\r\n      <!-- 15 -->\r\n      <g transform=\"translate(140.931071 239.238437)scale(0.1 -0.1)\">\r\n       <use xlink:href=\"#DejaVuSans-49\"/>\r\n       <use x=\"63.623047\" xlink:href=\"#DejaVuSans-53\"/>\r\n      </g>\r\n     </g>\r\n    </g>\r\n    <g id=\"xtick_5\">\r\n     <g id=\"line2d_5\">\r\n      <g>\r\n       <use style=\"stroke:#000000;stroke-width:0.8;\" x=\"186.122143\" xlink:href=\"#m34345dc0b9\" y=\"224.64\"/>\r\n      </g>\r\n     </g>\r\n     <g id=\"text_5\">\r\n      <!-- 20 -->\r\n      <defs>\r\n       <path d=\"M 19.1875 8.296875 \r\nL 53.609375 8.296875 \r\nL 53.609375 0 \r\nL 7.328125 0 \r\nL 7.328125 8.296875 \r\nQ 12.9375 14.109375 22.625 23.890625 \r\nQ 32.328125 33.6875 34.8125 36.53125 \r\nQ 39.546875 41.84375 41.421875 45.53125 \r\nQ 43.3125 49.21875 43.3125 52.78125 \r\nQ 43.3125 58.59375 39.234375 62.25 \r\nQ 35.15625 65.921875 28.609375 65.921875 \r\nQ 23.96875 65.921875 18.8125 64.3125 \r\nQ 13.671875 62.703125 7.8125 59.421875 \r\nL 7.8125 69.390625 \r\nQ 13.765625 71.78125 18.9375 73 \r\nQ 24.125 74.21875 28.421875 74.21875 \r\nQ 39.75 74.21875 46.484375 68.546875 \r\nQ 53.21875 62.890625 53.21875 53.421875 \r\nQ 53.21875 48.921875 51.53125 44.890625 \r\nQ 49.859375 40.875 45.40625 35.40625 \r\nQ 44.1875 33.984375 37.640625 27.21875 \r\nQ 31.109375 20.453125 19.1875 8.296875 \r\nz\r\n\" id=\"DejaVuSans-50\"/>\r\n      </defs>\r\n      <g transform=\"translate(179.759643 239.238437)scale(0.1 -0.1)\">\r\n       <use xlink:href=\"#DejaVuSans-50\"/>\r\n       <use x=\"63.623047\" xlink:href=\"#DejaVuSans-48\"/>\r\n      </g>\r\n     </g>\r\n    </g>\r\n    <g id=\"xtick_6\">\r\n     <g id=\"line2d_6\">\r\n      <g>\r\n       <use style=\"stroke:#000000;stroke-width:0.8;\" x=\"224.950714\" xlink:href=\"#m34345dc0b9\" y=\"224.64\"/>\r\n      </g>\r\n     </g>\r\n     <g id=\"text_6\">\r\n      <!-- 25 -->\r\n      <g transform=\"translate(218.588214 239.238437)scale(0.1 -0.1)\">\r\n       <use xlink:href=\"#DejaVuSans-50\"/>\r\n       <use x=\"63.623047\" xlink:href=\"#DejaVuSans-53\"/>\r\n      </g>\r\n     </g>\r\n    </g>\r\n   </g>\r\n   <g id=\"matplotlib.axis_2\">\r\n    <g id=\"ytick_1\">\r\n     <g id=\"line2d_7\">\r\n      <defs>\r\n       <path d=\"M 0 0 \r\nL -3.5 0 \r\n\" id=\"m2fcd6c8ce7\" style=\"stroke:#000000;stroke-width:0.8;\"/>\r\n      </defs>\r\n      <g>\r\n       <use style=\"stroke:#000000;stroke-width:0.8;\" x=\"26.925\" xlink:href=\"#m2fcd6c8ce7\" y=\"11.082857\"/>\r\n      </g>\r\n     </g>\r\n     <g id=\"text_7\">\r\n      <!-- 0 -->\r\n      <g transform=\"translate(13.5625 14.882076)scale(0.1 -0.1)\">\r\n       <use xlink:href=\"#DejaVuSans-48\"/>\r\n      </g>\r\n     </g>\r\n    </g>\r\n    <g id=\"ytick_2\">\r\n     <g id=\"line2d_8\">\r\n      <g>\r\n       <use style=\"stroke:#000000;stroke-width:0.8;\" x=\"26.925\" xlink:href=\"#m2fcd6c8ce7\" y=\"49.911429\"/>\r\n      </g>\r\n     </g>\r\n     <g id=\"text_8\">\r\n      <!-- 5 -->\r\n      <g transform=\"translate(13.5625 53.710647)scale(0.1 -0.1)\">\r\n       <use xlink:href=\"#DejaVuSans-53\"/>\r\n      </g>\r\n     </g>\r\n    </g>\r\n    <g id=\"ytick_3\">\r\n     <g id=\"line2d_9\">\r\n      <g>\r\n       <use style=\"stroke:#000000;stroke-width:0.8;\" x=\"26.925\" xlink:href=\"#m2fcd6c8ce7\" y=\"88.74\"/>\r\n      </g>\r\n     </g>\r\n     <g id=\"text_9\">\r\n      <!-- 10 -->\r\n      <g transform=\"translate(7.2 92.539219)scale(0.1 -0.1)\">\r\n       <use xlink:href=\"#DejaVuSans-49\"/>\r\n       <use x=\"63.623047\" xlink:href=\"#DejaVuSans-48\"/>\r\n      </g>\r\n     </g>\r\n    </g>\r\n    <g id=\"ytick_4\">\r\n     <g id=\"line2d_10\">\r\n      <g>\r\n       <use style=\"stroke:#000000;stroke-width:0.8;\" x=\"26.925\" xlink:href=\"#m2fcd6c8ce7\" y=\"127.568571\"/>\r\n      </g>\r\n     </g>\r\n     <g id=\"text_10\">\r\n      <!-- 15 -->\r\n      <g transform=\"translate(7.2 131.36779)scale(0.1 -0.1)\">\r\n       <use xlink:href=\"#DejaVuSans-49\"/>\r\n       <use x=\"63.623047\" xlink:href=\"#DejaVuSans-53\"/>\r\n      </g>\r\n     </g>\r\n    </g>\r\n    <g id=\"ytick_5\">\r\n     <g id=\"line2d_11\">\r\n      <g>\r\n       <use style=\"stroke:#000000;stroke-width:0.8;\" x=\"26.925\" xlink:href=\"#m2fcd6c8ce7\" y=\"166.397143\"/>\r\n      </g>\r\n     </g>\r\n     <g id=\"text_11\">\r\n      <!-- 20 -->\r\n      <g transform=\"translate(7.2 170.196362)scale(0.1 -0.1)\">\r\n       <use xlink:href=\"#DejaVuSans-50\"/>\r\n       <use x=\"63.623047\" xlink:href=\"#DejaVuSans-48\"/>\r\n      </g>\r\n     </g>\r\n    </g>\r\n    <g id=\"ytick_6\">\r\n     <g id=\"line2d_12\">\r\n      <g>\r\n       <use style=\"stroke:#000000;stroke-width:0.8;\" x=\"26.925\" xlink:href=\"#m2fcd6c8ce7\" y=\"205.225714\"/>\r\n      </g>\r\n     </g>\r\n     <g id=\"text_12\">\r\n      <!-- 25 -->\r\n      <g transform=\"translate(7.2 209.024933)scale(0.1 -0.1)\">\r\n       <use xlink:href=\"#DejaVuSans-50\"/>\r\n       <use x=\"63.623047\" xlink:href=\"#DejaVuSans-53\"/>\r\n      </g>\r\n     </g>\r\n    </g>\r\n   </g>\r\n   <g id=\"patch_3\">\r\n    <path d=\"M 26.925 224.64 \r\nL 26.925 7.2 \r\n\" style=\"fill:none;stroke:#000000;stroke-linecap:square;stroke-linejoin:miter;stroke-width:0.8;\"/>\r\n   </g>\r\n   <g id=\"patch_4\">\r\n    <path d=\"M 244.365 224.64 \r\nL 244.365 7.2 \r\n\" style=\"fill:none;stroke:#000000;stroke-linecap:square;stroke-linejoin:miter;stroke-width:0.8;\"/>\r\n   </g>\r\n   <g id=\"patch_5\">\r\n    <path d=\"M 26.925 224.64 \r\nL 244.365 224.64 \r\n\" style=\"fill:none;stroke:#000000;stroke-linecap:square;stroke-linejoin:miter;stroke-width:0.8;\"/>\r\n   </g>\r\n   <g id=\"patch_6\">\r\n    <path d=\"M 26.925 7.2 \r\nL 244.365 7.2 \r\n\" style=\"fill:none;stroke:#000000;stroke-linecap:square;stroke-linejoin:miter;stroke-width:0.8;\"/>\r\n   </g>\r\n  </g>\r\n </g>\r\n <defs>\r\n  <clipPath id=\"pd3030df380\">\r\n   <rect height=\"217.44\" width=\"217.44\" x=\"26.925\" y=\"7.2\"/>\r\n  </clipPath>\r\n </defs>\r\n</svg>\r\n",
      "image/png": "[encoded data removed]"
     },
     "metadata": {
      "needs_background": "light"
     }
    }
   ],
   "source": [
    "n = 8756\n",
    "print('神經網路預測是:', class_names[result[n]])\n",
    "# print('真正的答案是:', [y_test[n]])\n",
    "plt.imshow(x_test[n].reshape(28,28), cmap='Greys')\n",
    ""
   ]
  }
 ],
 "metadata": {
  "kernelspec": {
   "display_name": "Python 3",
   "language": "python",
   "name": "python3"
  },
  "language_info": {
   "codemirror_mode": {
    "name": "ipython",
    "version": 3
   },
   "file_extension": ".py",
   "mimetype": "text/x-python",
   "name": "python",
   "nbconvert_exporter": "python",
   "pygments_lexer": "ipython3",
   "version": "3.7.4-final"
  }
 },
 "nbformat": 4,
 "nbformat_minor": 2
}