{
 "cells": [
  {
   "cell_type": "code",
   "execution_count": 1,
   "metadata": {},
   "outputs": [],
   "source": [
    "import tkinter as tk\n",
    "from tkinter import ttk\n",
    "from PIL import ImageTk as itk\n",
    "from PIL import Image\n",
    "import requests\n",
    "import numpy as np\n",
    "import pandas as pd\n",
    "from tensorflow.keras.models import load_model"
   ]
  },
  {
   "cell_type": "markdown",
   "metadata": {},
   "source": [
    "### 把Info資料庫和建好的模型導入"
   ]
  },
  {
   "cell_type": "code",
   "execution_count": 2,
   "metadata": {},
   "outputs": [],
   "source": [
    "df = pd.read_csv(\"info_correct.csv\")\n",
    "model = load_model('model1.h5')"
   ]
  },
  {
   "cell_type": "markdown",
   "metadata": {},
   "source": [
    "### 設定畫布Canvas大小"
   ]
  },
  {
   "cell_type": "code",
   "execution_count": 3,
   "metadata": {},
   "outputs": [],
   "source": [
    "WIDTH = 1280\n",
    "HEIGHT = 720"
   ]
  },
  {
   "cell_type": "markdown",
   "metadata": {},
   "source": [
    "### 定義function"
   ]
  },
  {
   "cell_type": "code",
   "execution_count": 4,
   "metadata": {},
   "outputs": [],
   "source": [
    "# 按下GO後 把輸入資料整理成List\n",
    "def match_result():\n",
    "\tmatch = []\n",
    "\tmatch.append(clicked.get())\n",
    "\tfor i in range(10):\n",
    "\t\tmatch.append(input_info2[i].get())\n",
    "\t# x_predict = np.random.random((1,23))\n",
    "\tprint(match)\n",
    "\tget_database(match)\n",
    "\n",
    "# 用整理好的List抓取資料庫的資料\n",
    "def get_database(match):\n",
    "\tx_predict = []\n",
    "\n",
    "\tif match[0] == \"Purple team\":\n",
    "\t\t#去找info資料庫裡的英雄對陣數據\n",
    "\t\tfor i in range(5):\n",
    "\t\t\t# JG\n",
    "\t\t\tif i == 1:\n",
    "\t\t\t\tif df[(df[\"summoner_a\"]==match[i+1]) & (df[\"summoner_b\"]==match[i+6]) & (df[\"position\"]==i)].empty == True:\n",
    "\t\t\t\t\tx_predict.extend([0.5,0.5,0.5,0.5])\n",
    "\t\t\t\telse:\n",
    "\t\t\t\t\tx_predict.extend(round(df[(df[\"summoner_a\"]==match[i+1]) & (df[\"summoner_b\"]==match[i+6]) & (df[\"position\"]==i)].iloc[:,[4,6,7,8]],4).values.tolist()[0])\n",
    "\t\t\t# SUP\n",
    "\t\t\telif i == 4:\n",
    "\t\t\t\tif df[(df[\"summoner_a\"]==match[i+1]) & (df[\"summoner_b\"]==match[i+6]) & (df[\"position\"]==i)].empty == True:\n",
    "\t\t\t\t\tx_predict.extend([0.5,0.5,0.5,0.5])\n",
    "\t\t\t\telse:\n",
    "\t\t\t\t\tx_predict.extend(round(df[(df[\"summoner_a\"]==match[i+1]) & (df[\"summoner_b\"]==match[i+6]) & (df[\"position\"]==i)].iloc[:,[4,5,6,7]],4).values.tolist()[0])\n",
    "\t\t\telse:\n",
    "\t\t\t\tif df[(df[\"summoner_a\"]==match[i+1]) & (df[\"summoner_b\"]==match[i+6]) & (df[\"position\"]==i)].empty == True:\n",
    "\t\t\t\t\tx_predict.extend([0.5,0.5,0.5,0.5,0.5])\n",
    "\t\t\t\telse:\n",
    "\t\t\t\t\tx_predict.extend(round(df[(df[\"summoner_a\"]==match[i+1]) & (df[\"summoner_b\"]==match[i+6]) & (df[\"position\"]==i)].iloc[0:1,4:9],4).values.tolist()[0])\n",
    "\telse:\n",
    "\t\tfor i in range(5):\n",
    "\t\t\t# JG\n",
    "\t\t\tif i == 1:\n",
    "\t\t\t\tif df[(df[\"summoner_b\"]==match[i+1]) & (df[\"summoner_a\"]==match[i+6]) & (df[\"position\"]==i)].empty == True:\n",
    "\t\t\t\t\tx_predict.extend([0.5,0.5,0.5,0.5])\n",
    "\t\t\t\telse:\n",
    "\t\t\t\t\tx_predict.extend(round(df[(df[\"summoner_b\"]==match[i+1]) & (df[\"summoner_a\"]==match[i+6]) & (df[\"position\"]==i)].iloc[:,[4,6,7,8]],4).values.tolist()[0])\n",
    "\t\t\t# SUP\n",
    "\t\t\telif i == 4:\n",
    "\t\t\t\tif df[(df[\"summoner_b\"]==match[i+1]) & (df[\"summoner_a\"]==match[i+6]) & (df[\"position\"]==i)].empty == True:\n",
    "\t\t\t\t\tx_predict.extend([0.5,0.5,0.5,0.5])\n",
    "\t\t\t\telse:\n",
    "\t\t\t\t\tx_predict.extend(round(df[(df[\"summoner_b\"]==match[i+1]) & (df[\"summoner_a\"]==match[i+6]) & (df[\"position\"]==i)].iloc[:,[4,5,6,7]],4).values.tolist()[0])\n",
    "\t\t\telse:\n",
    "\t\t\t\tif df[(df[\"summoner_b\"]==match[i+1]) & (df[\"summoner_a\"]==match[i+6]) & (df[\"position\"]==i)].empty == True:\n",
    "\t\t\t\t\tx_predict.extend([0.5,0.5,0.5,0.5,0.5])\n",
    "\t\t\t\telse:\n",
    "\t\t\t\t\tx_predict.extend(round(df[(df[\"summoner_b\"]==match[i+1]) & (df[\"summoner_a\"]==match[i+6]) & (df[\"position\"]==i)].iloc[0:1,4:9],4).values.tolist()[0])\n",
    "\n",
    "\tprint(x_predict)\n",
    "\tpredict(np.array([x_predict]))\n",
    "\n",
    "# 把資料整理好丟到訓練的Model去預測\n",
    "def predict(x_predict):\n",
    "\tprediction = model.predict_classes(x_predict)\n",
    "\tif prediction ==1:\n",
    "\t\tresult[\"text\"]= 'Win'\n",
    "\telse:\n",
    "\t\tresult[\"text\"]= 'Defeat'"
   ]
  },
  {
   "cell_type": "markdown",
   "metadata": {},
   "source": [
    "### GUI介面"
   ]
  },
  {
   "cell_type": "code",
   "execution_count": 50,
   "metadata": {},
   "outputs": [
    {
     "output_type": "stream",
     "name": "stdout",
     "text": "['Blue team', '伊瑞莉雅', '伊瑞莉雅', '伊羅旖', '伊瑞莉雅', '伊澤瑞爾', '伊瑞莉雅', '伊瑞莉雅', '伊羅旖', '伊羅旖', '伊羅旖']\n[0.5, 0.5, 0.5, 0.5, 0.5, 0.5, 0.5, 0.5, 0.5, 0.5, 0.5, 0.5, 0.5, 0.5, 0.5, 0.5, 0.5, 0.5, 0.5, 0.5, 0.5, 0.5, 0.5]\n['Blue team', '伊瑞莉雅', '伊瑞莉雅', '伊羅旖', '伊瑞莉雅', '伊澤瑞爾', '伊瑞莉雅', '伊瑞莉雅', '伊羅旖', '伊羅旖', '伊羅旖']\n[0.5, 0.5, 0.5, 0.5, 0.5, 0.5, 0.5, 0.5, 0.5, 0.5, 0.5, 0.5, 0.5, 0.5, 0.5, 0.5, 0.5, 0.5, 0.5, 0.5, 0.5, 0.5, 0.5]\n['Blue team', '伊瑞莉雅', '伊瑞莉雅', '伊羅旖', '伊瑞莉雅', '伊澤瑞爾', '伊瑞莉雅', '伊瑞莉雅', '伊羅旖', '伊羅旖', '伊羅旖']\n[0.5, 0.5, 0.5, 0.5, 0.5, 0.5, 0.5, 0.5, 0.5, 0.5, 0.5, 0.5, 0.5, 0.5, 0.5, 0.5, 0.5, 0.5, 0.5, 0.5, 0.5, 0.5, 0.5]\n['Blue team', '伊瑞莉雅', '伊瑞莉雅', '伊羅旖', '伊瑞莉雅', '伊澤瑞爾', '伊瑞莉雅', '伊瑞莉雅', '伊羅旖', '伊羅旖', '伊羅旖']\n[0.5, 0.5, 0.5, 0.5, 0.5, 0.5, 0.5, 0.5, 0.5, 0.5, 0.5, 0.5, 0.5, 0.5, 0.5, 0.5, 0.5, 0.5, 0.5, 0.5, 0.5, 0.5, 0.5]\n['Blue team', '伊瑞莉雅', '伊瑞莉雅', '伊羅旖', '伊瑞莉雅', '伊澤瑞爾', '伊瑞莉雅', '伊瑞莉雅', '伊羅旖', '伊羅旖', '伊羅旖']\n[0.5, 0.5, 0.5, 0.5, 0.5, 0.5, 0.5, 0.5, 0.5, 0.5, 0.5, 0.5, 0.5, 0.5, 0.5, 0.5, 0.5, 0.5, 0.5, 0.5, 0.5, 0.5, 0.5]\n['Blue team', '伊瑞莉雅', '伊瑞莉雅', '伊羅旖', '伊瑞莉雅', '伊澤瑞爾', '伊瑞莉雅', '伊瑞莉雅', '伊羅旖', '伊羅旖', '伊羅旖']\n[0.5, 0.5, 0.5, 0.5, 0.5, 0.5, 0.5, 0.5, 0.5, 0.5, 0.5, 0.5, 0.5, 0.5, 0.5, 0.5, 0.5, 0.5, 0.5, 0.5, 0.5, 0.5, 0.5]\n['Blue team', '伊瑞莉雅', '伊瑞莉雅', '伊羅旖', '伊瑞莉雅', '伊澤瑞爾', '伊瑞莉雅', '伊瑞莉雅', '伊羅旖', '伊羅旖', '伊羅旖']\n[0.5, 0.5, 0.5, 0.5, 0.5, 0.5, 0.5, 0.5, 0.5, 0.5, 0.5, 0.5, 0.5, 0.5, 0.5, 0.5, 0.5, 0.5, 0.5, 0.5, 0.5, 0.5, 0.5]\n['Blue team', '伊瑞莉雅', '伊瑞莉雅', '伊羅旖', '伊瑞莉雅', '伊澤瑞爾', '伊瑞莉雅', '伊瑞莉雅', '伊羅旖', '伊羅旖', '伊羅旖']\n[0.5, 0.5, 0.5, 0.5, 0.5, 0.5, 0.5, 0.5, 0.5, 0.5, 0.5, 0.5, 0.5, 0.5, 0.5, 0.5, 0.5, 0.5, 0.5, 0.5, 0.5, 0.5, 0.5]\n['Blue team', '伊瑞莉雅', '伊瑞莉雅', '伊羅旖', '伊瑞莉雅', '伊澤瑞爾', '伊瑞莉雅', '伊瑞莉雅', '伊羅旖', '伊羅旖', '伊羅旖']\n[0.5, 0.5, 0.5, 0.5, 0.5, 0.5, 0.5, 0.5, 0.5, 0.5, 0.5, 0.5, 0.5, 0.5, 0.5, 0.5, 0.5, 0.5, 0.5, 0.5, 0.5, 0.5, 0.5]\n['Blue team', '伊瑞莉雅', '伊瑞莉雅', '伊羅旖', '伊瑞莉雅', '伊澤瑞爾', '伊瑞莉雅', '伊瑞莉雅', '伊羅旖', '伊羅旖', '伊羅旖']\n[0.5, 0.5, 0.5, 0.5, 0.5, 0.5, 0.5, 0.5, 0.5, 0.5, 0.5, 0.5, 0.5, 0.5, 0.5, 0.5, 0.5, 0.5, 0.5, 0.5, 0.5, 0.5, 0.5]\n['Blue team', '伊瑞莉雅', '伊瑞莉雅', '伊羅旖', '伊瑞莉雅', '伊澤瑞爾', '伊瑞莉雅', '伊瑞莉雅', '伊羅旖', '伊羅旖', '伊羅旖']\n[0.5, 0.5, 0.5, 0.5, 0.5, 0.5, 0.5, 0.5, 0.5, 0.5, 0.5, 0.5, 0.5, 0.5, 0.5, 0.5, 0.5, 0.5, 0.5, 0.5, 0.5, 0.5, 0.5]\n['Blue team', '伊瑞莉雅', '伊瑞莉雅', '伊羅旖', '伊瑞莉雅', '伊澤瑞爾', '伊瑞莉雅', '伊瑞莉雅', '伊羅旖', '伊羅旖', '伊羅旖']\n[0.5, 0.5, 0.5, 0.5, 0.5, 0.5, 0.5, 0.5, 0.5, 0.5, 0.5, 0.5, 0.5, 0.5, 0.5, 0.5, 0.5, 0.5, 0.5, 0.5, 0.5, 0.5, 0.5]\n['Blue team', '伊瑞莉雅', '伊瑞莉雅', '伊羅旖', '伊瑞莉雅', '伊澤瑞爾', '伊瑞莉雅', '伊瑞莉雅', '伊羅旖', '伊羅旖', '伊羅旖']\n[0.5, 0.5, 0.5, 0.5, 0.5, 0.5, 0.5, 0.5, 0.5, 0.5, 0.5, 0.5, 0.5, 0.5, 0.5, 0.5, 0.5, 0.5, 0.5, 0.5, 0.5, 0.5, 0.5]\n"
    }
   ],
   "source": [
    "root = tk.Tk()\n",
    "canvas = tk.Canvas(root, height=HEIGHT, width=WIDTH)\n",
    "canvas.pack()\n",
    "\n",
    "# 背景圖片\n",
    "background_image = itk.PhotoImage(Image.open('lol_background.jpg'))\n",
    "background_label = tk.Label(root, image=background_image)\n",
    "background_label.place(relwidth=1, relheight=1)\n",
    "\n",
    "\n",
    "# 整個選單\n",
    "frame = tk.Frame(root, bg='#80c1ff', bd=10)\n",
    "frame.place(relx=0.5, rely=0.2, relwidth=0.3, relheight=0.6, anchor='n')\n",
    "\n",
    "# 選擇藍紫方\n",
    "team_options=[\"Blue team\", 'Purple Team']\n",
    "\n",
    "clicked = tk.StringVar()\n",
    "clicked.set(\"Choose your Side\")\n",
    "\n",
    "menu = tk.OptionMenu(frame, clicked, *team_options)\n",
    "menu.place(relx=0.1, rely=0, relwidth=0.8, relheight=0.1)\n",
    "\n",
    "# 選擇己方和敵方英雄組合\n",
    "Team = [\"Ally\",\"Enemy\"]\n",
    "Team_Color = [\"#00EC00\",\"#CE0000\"]\n",
    "Lane = [\"Top\",\"Jg\",\"Mid\",\"AD\",\"Sup\"]\n",
    "\n",
    "\n",
    "dict = {'亞歷斯塔': '12', '亞菲利歐': '523', '伊澤瑞爾': '81', '伊瑞莉雅': '39', '伊羅旖': '420', '伊芙琳': '28', '伊莉絲': '60', '克雷德': '240', '克黎思妲': '429', '凱爾': '10', '凱特琳': '51', '凱能': '85', '凱莎': '145', '剎雅': '498', '剛普朗克': '41', '加里歐': '3', '努努和威朗普': '20', '劫': '238', '勒布朗': '7', '卡力斯': '121', '卡爾瑟斯': '30', '卡特蓮娜': '55', '卡瑪': '43', '卡莎碧雅': '69', '卡薩丁': '38', '卡蜜兒': '164', '厄薩斯': '266', '古拉格斯': '79', '史瓦妮': '113', '吉茵珂絲': '222', '吶兒': '150', '嘉文四世': '59', '圖奇': '29', '埃爾文': '427', '塔莉雅': '163', '塔里克': '44', '塔隆': '91', '墨菲特': '54', '夜曲': '56', '奈德麗': '76', '奧莉安娜': '61', '好運姐': '21', '妮可': '518', '姍娜': '235', '姬亞娜': '246', '威寇茲': '161', '娜米': '267', '安妮': '1', '寇格魔': '96', '崔絲塔娜': '18', '巴德': '432', '布蘭德': '63', '布郎姆': '201', '布里茨': '53', '希格斯': '115', '希瓦娜': '102', '希維爾': '15', '庫奇': '42', '弗力貝爾': '106', '弗拉迪米爾': '8', '悟空': '62', '悠咪': '350', '慎': '98', '慨影': '141', '拉克絲': '99', '拉姆斯': '33', '提摩': '17', '斯溫': '50', '易大師': '11', '星朵拉': '134', '札克': '154', '李星': '64', '杰西': '126', '枷蘿': '143', '柔依': '142', '極靈': '26', '歐拉夫': '2', '汎': '67', '沃維克': '19', '法洛士': '110', '波比': '78', '泰達米爾': '23', '派克': '555', '漢默丁格': '74', '潘森': '80', '烏爾加特': '6', '烏迪爾': '77', '燼': '202', '特朗德': '48', '犽宿': '157', '珍娜': '40', '瑟雷西': '412', '科加斯': '31', '約瑞科': '83', '納帝魯斯': '111', '納瑟斯': '75', '索娜': '37', '索拉卡': '16', '維克特': '112', '維迦': '45', '翱銳龍獸': '136', '艾克': '245', '艾妮維亞': '34', '艾希': '22', '茂凱': '57', '菲歐拉': '114', '菲艾': '254', '葛雷夫': '104', '葵恩': '133', '蒙多醫生': '36', '蓋倫': '86', '薩科': '35', '藍寶': '68', '貪啃奇': '223', '費德提克': '9', '賈克斯': '24', '賽勒斯': '517', '賽恩': '14', '賽特': '875', '赫克林': '120', '趙信': '5', '路西恩': '236', '辛吉德': '27', '逆命': '4', '達瑞文': '119', '達瑞斯': '122', '鄂爾': '516', '銳空': '497', '鏡爪': '203', '阿卡莉': '84', '阿姆姆': '32', '阿璃': '103', '阿祈爾': '268', '雷尼克頓': '58', '雷歐娜': '89', '雷玟': '92', '雷珂煞': '421', '雷茲': '13', '雷葛爾': '107', '露璐': '117', '飛斯': '105', '馬爾札哈': '90', '魔甘娜': '25', '魔鬥凱薩': '82', '麗珊卓': '127', '黛安娜': '131', '齊勒斯': '101', '史加納': '72'}\n",
    "# {'Aatrox': '266', 'Ahri': '103', 'Akali': '84', 'Alistar': '12', 'Amumu': '32', 'Anivia': '34', 'Annie': '1', 'Aphelios': '523',\n",
    "#             'Ashe': '22', 'Aurelion Sol': '136', 'Azir': '268', 'Bard': '432', 'Blitzcrank': '53', 'Brand': '63', 'Braum': '201', 'Caitlyn': '51',\n",
    "#             'Camille': '164', 'Cassiopeia': '69', \"Cho'Gath\": '31', 'Corki': '42', 'Darius': '122', 'Diana': '131', 'Dr. Mundo': '36', 'Draven': '119',\n",
    "#             'Ekko': '245', 'Elise': '60', 'Evelynn': '28', 'Ezreal': '81', 'Fiddlesticks': '9', 'Fiora': '114', 'Fizz': '105', 'Galio': '3', \n",
    "#             'Gangplank': '41', 'Garen': '86', 'Gnar': '150', 'Gragas': '79', 'Graves': '104', 'Hecarim': '120', 'Heimerdinger': '74', 'Illaoi': '420',\n",
    "#             'Irelia': '39', 'Ivern': '427', 'Janna': '40', 'Jarvan IV': '59', 'Jax': '24', 'Jayce': '126', 'Jhin': '202', 'Jinx': '222',\n",
    "#             \"Kai'Sa\": '145', 'Kalista': '429', 'Karma': '43', 'Karthus': '30', 'Kassadin': '38', 'Katarina': '55', 'Kayle': '10', 'Kayn': '141',\n",
    "#             'Kennen': '85', \"Kha'Zix\": '121', 'Kindred': '203', 'Kled': '240', \"Kog'Maw\": '96', 'LeBlanc': '7', 'Lee Sin': '64', 'Leona': '89', \n",
    "#             'Lissandra': '127', 'Lucian': '236', 'Lulu': '117', 'Lux': '99', 'Malphite': '54', 'Malzahar': '90', 'Maokai': '57', 'Master Yi': '11',\n",
    "#             'Miss Fortune': '21', 'Mordekaiser': '82', 'Morgana': '25', 'Nami': '267', 'Nasus': '75', 'Nautilus': '111', 'Neeko': '518',\n",
    "#             'Nidalee': '76', 'Nocturne': '56', 'Nunu & Willump': '20', 'Olaf': '2', 'Orianna': '61', 'Ornn': '516', 'Pantheon': '80', 'Poppy': '78',\n",
    "#             'Pyke': '555', 'Qiyana': '246', 'Quinn': '133', 'Rakan': '497', 'Rammus': '33', \"Rek'Sai\": '421', 'Renekton': '58', 'Rengar': '107',\n",
    "#             'Riven': '92', 'Rumble': '68', 'Ryze': '13', 'Sejuani': '113', 'Senna': '235', 'Sett': '875', 'Shaco': '35', 'Shen': '98', \n",
    "#             'Shyvana': '102', 'Singed': '27', 'Sion': '14', 'Sivir': '15', 'Skarner':'72', 'Sona': '37', 'Soraka': '16', 'Swain': '50', 'Sylas': '517', \n",
    "#             'Syndra': '134', 'Tahm Kench': '223', 'Taliyah': '163', 'Talon': '91', 'Taric': '44', 'Teemo': '17', 'Thresh': '412', 'Tristana': '18',\n",
    "#             # 'Trundle': '48', 'Tryndamere': '23', 'Twisted Fate': '4', 'Twitch': '29', 'Udyr': '77', 'Urgot': '6', 'Varus': '110', 'Vayne': '67',\n",
    "#             'Veigar': '45', \"Vel'Koz\": '161', 'Vi': '254', 'Viktor': '112', 'Vladimir': '8', 'Volibear': '106', 'Warwick': '19', 'Wukong': '62', \n",
    "#             'Xayah': '498', 'Xerath': '101', 'Xin Zhao': '5', 'Yasuo': '157', 'Yorick': '83', 'Yuumi': '350', 'Zac': '154', 'Zed': '238',\n",
    "#             'Ziggs': '115', 'Zilean': '26', 'Zoe': '142', 'Zyra': '143'}\n",
    "champions_options = list(dict.keys())\n",
    "\n",
    "\n",
    "input_info2=[tk.StringVar(),tk.StringVar(),tk.StringVar(),tk.StringVar(),tk.StringVar(),tk.StringVar(),tk.StringVar(),tk.StringVar(),tk.StringVar(),tk.StringVar()]\n",
    "\n",
    "for j in range(2):\n",
    "    team_label_j = tk.Label(frame, text=Team[j], bg=Team_Color[j])\n",
    "    team_label_j.place(relx=j/2+0.25, rely=0.15, relwidth=0.3, relheight=0.1, anchor='n')    \n",
    "    for i in range(5):\n",
    "            champion_label_i_j = tk.Label(frame, text=Lane[i], bg='#'+str(i+4)+'66')\n",
    "            champion_label_i_j.place(relx=j/2+0.05, rely=i/8+0.3,relwidth=0.1, relheight=0.1)\n",
    "            champions_menu_i_j = ttk.Combobox(frame,state='readonly', textvariable=input_info2[i+j*5], value=champions_options)\n",
    "            # champions_menu_i_j.current()\n",
    "            champions_menu_i_j.place(relx=j/2+0.15, rely=i/8+0.3, relwidth=0.3, relheight=0.1) \n",
    "            champions_menu_i_j.set(\"選擇英雄\")   \n",
    "\n",
    "# \"GO\"查詢按鈕\n",
    "button = tk.Button(frame, text=\"GO\", font=12, command=match_result)\n",
    "button.place(relx=0.5, rely=0.94, relwidth=0.2, relheight=0.08,anchor='n')\n",
    "\n",
    "\n",
    "# \"結果顯示器\n",
    "frame2 = tk.Frame(root, bg='#80c1ff', bd=10)\n",
    "frame2.place(relx=0.5, rely=0.8, relwidth=0.3, relheight=0.1, anchor='n')\n",
    "\n",
    "result = tk.Label(frame2, font=14)\n",
    "result.place(relwidth=1, relheight=1)\n",
    "\n",
    "#執行GUI的迴圈\n",
    "root.mainloop()"
   ]
  },
  {
   "cell_type": "markdown",
   "metadata": {},
   "source": [
    "### 測試資料庫"
   ]
  },
  {
   "cell_type": "code",
   "execution_count": 7,
   "metadata": {},
   "outputs": [
    {
     "output_type": "execute_result",
     "data": {
      "text/plain": "      Unnamed: 0 summoner_a summoner_b  position  win_rate  lane_kill_rate  \\\n0              0       亞歷斯塔        加里歐         4    0.4242          0.4534   \n1              1       亞歷斯塔         卡瑪         4    0.4803          0.4527   \n2              2       亞歷斯塔        塔里克         4    0.5208          0.4456   \n3              3       亞歷斯塔        墨菲特         4    0.4907          0.5206   \n4              4       亞歷斯塔         姍娜         4    0.4709          0.5819   \n...          ...        ...        ...       ...       ...             ...   \n7183        7183        史加納         慨影         1    0.4706             NaN   \n7184        7184        史加納         札克         1    0.4340             NaN   \n7185        7185        史加納         李星         1    0.4921             NaN   \n7186        7186        史加納         艾克         1    0.4815             NaN   \n7187        7187        史加納        葛雷夫         1    0.4684             NaN   \n\n           kda  kill_participate    damage  \n0     0.476923          0.469894       NaN  \n1     0.472381          0.450483       NaN  \n2     0.477113          0.502884       NaN  \n3     0.566600          0.472706       NaN  \n4     0.472325          0.444795       NaN  \n...        ...               ...       ...  \n7183  0.501022          0.466877  0.379469  \n7184  0.373219          0.459435  0.453307  \n7185  0.494737          0.477143  0.459235  \n7186  0.529313          0.499065  0.423387  \n7187  0.494424          0.487232  0.352268  \n\n[7188 rows x 9 columns]",
      "text/html": "<div>\n<style scoped>\n    .dataframe tbody tr th:only-of-type {\n        vertical-align: middle;\n    }\n\n    .dataframe tbody tr th {\n        vertical-align: top;\n    }\n\n    .dataframe thead th {\n        text-align: right;\n    }\n</style>\n<table border=\"1\" class=\"dataframe\">\n  <thead>\n    <tr style=\"text-align: right;\">\n      <th></th>\n      <th>Unnamed: 0</th>\n      <th>summoner_a</th>\n      <th>summoner_b</th>\n      <th>position</th>\n      <th>win_rate</th>\n      <th>lane_kill_rate</th>\n      <th>kda</th>\n      <th>kill_participate</th>\n      <th>damage</th>\n    </tr>\n  </thead>\n  <tbody>\n    <tr>\n      <th>0</th>\n      <td>0</td>\n      <td>亞歷斯塔</td>\n      <td>加里歐</td>\n      <td>4</td>\n      <td>0.4242</td>\n      <td>0.4534</td>\n      <td>0.476923</td>\n      <td>0.469894</td>\n      <td>NaN</td>\n    </tr>\n    <tr>\n      <th>1</th>\n      <td>1</td>\n      <td>亞歷斯塔</td>\n      <td>卡瑪</td>\n      <td>4</td>\n      <td>0.4803</td>\n      <td>0.4527</td>\n      <td>0.472381</td>\n      <td>0.450483</td>\n      <td>NaN</td>\n    </tr>\n    <tr>\n      <th>2</th>\n      <td>2</td>\n      <td>亞歷斯塔</td>\n      <td>塔里克</td>\n      <td>4</td>\n      <td>0.5208</td>\n      <td>0.4456</td>\n      <td>0.477113</td>\n      <td>0.502884</td>\n      <td>NaN</td>\n    </tr>\n    <tr>\n      <th>3</th>\n      <td>3</td>\n      <td>亞歷斯塔</td>\n      <td>墨菲特</td>\n      <td>4</td>\n      <td>0.4907</td>\n      <td>0.5206</td>\n      <td>0.566600</td>\n      <td>0.472706</td>\n      <td>NaN</td>\n    </tr>\n    <tr>\n      <th>4</th>\n      <td>4</td>\n      <td>亞歷斯塔</td>\n      <td>姍娜</td>\n      <td>4</td>\n      <td>0.4709</td>\n      <td>0.5819</td>\n      <td>0.472325</td>\n      <td>0.444795</td>\n      <td>NaN</td>\n    </tr>\n    <tr>\n      <th>...</th>\n      <td>...</td>\n      <td>...</td>\n      <td>...</td>\n      <td>...</td>\n      <td>...</td>\n      <td>...</td>\n      <td>...</td>\n      <td>...</td>\n      <td>...</td>\n    </tr>\n    <tr>\n      <th>7183</th>\n      <td>7183</td>\n      <td>史加納</td>\n      <td>慨影</td>\n      <td>1</td>\n      <td>0.4706</td>\n      <td>NaN</td>\n      <td>0.501022</td>\n      <td>0.466877</td>\n      <td>0.379469</td>\n    </tr>\n    <tr>\n      <th>7184</th>\n      <td>7184</td>\n      <td>史加納</td>\n      <td>札克</td>\n      <td>1</td>\n      <td>0.4340</td>\n      <td>NaN</td>\n      <td>0.373219</td>\n      <td>0.459435</td>\n      <td>0.453307</td>\n    </tr>\n    <tr>\n      <th>7185</th>\n      <td>7185</td>\n      <td>史加納</td>\n      <td>李星</td>\n      <td>1</td>\n      <td>0.4921</td>\n      <td>NaN</td>\n      <td>0.494737</td>\n      <td>0.477143</td>\n      <td>0.459235</td>\n    </tr>\n    <tr>\n      <th>7186</th>\n      <td>7186</td>\n      <td>史加納</td>\n      <td>艾克</td>\n      <td>1</td>\n      <td>0.4815</td>\n      <td>NaN</td>\n      <td>0.529313</td>\n      <td>0.499065</td>\n      <td>0.423387</td>\n    </tr>\n    <tr>\n      <th>7187</th>\n      <td>7187</td>\n      <td>史加納</td>\n      <td>葛雷夫</td>\n      <td>1</td>\n      <td>0.4684</td>\n      <td>NaN</td>\n      <td>0.494424</td>\n      <td>0.487232</td>\n      <td>0.352268</td>\n    </tr>\n  </tbody>\n</table>\n<p>7188 rows × 9 columns</p>\n</div>"
     },
     "metadata": {},
     "execution_count": 7
    }
   ],
   "source": [
    "df = pd.read_csv(\"info.csv\")\n",
    "df"
   ]
  },
  {
   "cell_type": "code",
   "execution_count": 27,
   "metadata": {},
   "outputs": [
    {
     "output_type": "execute_result",
     "data": {
      "text/plain": "[0.5,\n 0.5,\n 0.5,\n 0.5,\n 0.5,\n 0.4873,\n 0.5334,\n 0.5292,\n 0.3762,\n 0.4261,\n 0.625,\n 0.4469,\n 0.4876,\n 0.443,\n 0.5,\n 0.5,\n 0.5,\n 0.5,\n 0.5,\n 0.5096,\n 0.4459,\n 0.4124,\n 0.4766]"
     },
     "metadata": {},
     "execution_count": 27
    }
   ],
   "source": [
    "# test_list = []\n",
    "# for i in range(5):\n",
    "#     # JG\n",
    "#     if i == 1:\n",
    "#         if df[(df[\"summoner_a\"]==test[i+1]) & (df[\"summoner_b\"]==test[i+6]) & (df[\"position\"]==i)].empty == True:\n",
    "#             test_list.extend([0.5,0.5,0.5,0.5])\n",
    "#         else:\n",
    "#             test_list.extend(round(df[(df[\"summoner_a\"]==test[i+1]) & (df[\"summoner_b\"]==test[i+6]) & (df[\"position\"]==i)].iloc[:,[4,6,7,8]],4).values.tolist()[0])\n",
    "#     # SUP\n",
    "#     elif i == 4:\n",
    "#         if df[(df[\"summoner_a\"]==test[i+1]) & (df[\"summoner_b\"]==test[i+6]) & (df[\"position\"]==i)].empty == True:\n",
    "#             test_list.extend([0.5,0.5,0.5,0.5])\n",
    "#         else:\n",
    "#             test_list.extend(round(df[(df[\"summoner_a\"]==test[i+1]) & (df[\"summoner_b\"]==test[i+6]) & (df[\"position\"]==i)].iloc[:,[4,5,6,7]],4).values.tolist()[0])\n",
    "#     else:\n",
    "#         if df[(df[\"summoner_a\"]==test[i+1]) & (df[\"summoner_b\"]==test[i+6]) & (df[\"position\"]==i)].empty == True:\n",
    "#             test_list.extend([0.5,0.5,0.5,0.5,0.5])\n",
    "#         else:\n",
    "#             test_list.extend(round(df[(df[\"summoner_a\"]==test[i+1]) & (df[\"summoner_b\"]==test[i+6]) & (df[\"position\"]==i)].iloc[0:1,4:9],4).values.tolist()[0])\n",
    "# test_list"
   ]
  },
  {
   "cell_type": "code",
   "execution_count": null,
   "metadata": {},
   "outputs": [],
   "source": []
  }
 ],
 "metadata": {
  "language_info": {
   "codemirror_mode": {
    "name": "ipython",
    "version": 3
   },
   "file_extension": ".py",
   "mimetype": "text/x-python",
   "name": "python",
   "nbconvert_exporter": "python",
   "pygments_lexer": "ipython3",
   "version": "3.7.4-final"
  },
  "orig_nbformat": 2,
  "kernelspec": {
   "name": "python3",
   "display_name": "Python 3"
  }
 },
 "nbformat": 4,
 "nbformat_minor": 2
}