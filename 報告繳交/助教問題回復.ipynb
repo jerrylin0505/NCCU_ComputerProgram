{
 "cells": [
  {
   "cell_type": "markdown",
   "metadata": {},
   "source": [
    "### 專案問題："
   ]
  },
  {
   "cell_type": "markdown",
   "metadata": {},
   "source": [
    "#### 1.請充分說明羅吉斯回歸的方法以及與本專案的關係\n",
    "#### 2.請充分說明隨機森林的方法以及與本專案的關係"
   ]
  },
  {
   "cell_type": "code",
   "execution_count": null,
   "metadata": {},
   "outputs": [],
   "source": [
    "羅吉斯回歸和隨機森林都屬於分類模型的一種，與我們本次預測英雄聯盟勝敗的主題吻合。那主要會想說看看這兩個模型的原因在於我們最後做出來的神經網路模型效果並不如預期，所以本組就很好奇那麼如果我們採用相當資料但用其他分類模型建模的話會部會有不一樣的結果。然而，最後做出來的結果與神經網路結果相去不大，預測的正確率都還是維持在50%出頭"
   ]
  },
  {
   "cell_type": "code",
   "execution_count": null,
   "metadata": {},
   "outputs": [],
   "source": []
  },
  {
   "cell_type": "markdown",
   "metadata": {},
   "source": [
    "#### 3.請充分說明主成分分析的方法以及與本專案的關係"
   ]
  },
  {
   "cell_type": "code",
   "execution_count": null,
   "metadata": {},
   "outputs": [],
   "source": []
  }
 ],
 "metadata": {
  "language_info": {
   "codemirror_mode": {
    "name": "ipython",
    "version": 3
   },
   "file_extension": ".py",
   "mimetype": "text/x-python",
   "name": "python",
   "nbconvert_exporter": "python",
   "pygments_lexer": "ipython3",
   "version": 3
  },
  "orig_nbformat": 2
 },
 "nbformat": 4,
 "nbformat_minor": 2
}